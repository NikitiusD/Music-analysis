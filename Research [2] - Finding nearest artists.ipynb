{
 "cells": [
  {
   "cell_type": "code",
   "execution_count": 1,
   "metadata": {},
   "outputs": [],
   "source": [
    "import pandas as pd\n",
    "import numpy as np\n",
    "import scipy as sp\n",
    "from sklearn.metrics.pairwise import cosine_similarity, euclidean_distances\n",
    "\n",
    "from sklearn.preprocessing import Normalizer, StandardScaler, MaxAbsScaler, MinMaxScaler, RobustScaler\n",
    "\n",
    "# import matplotlib.pyplot as plt\n",
    "# %matplotlib inline"
   ]
  },
  {
   "cell_type": "code",
   "execution_count": 7,
   "metadata": {},
   "outputs": [
    {
     "data": {
      "text/html": [
       "<div>\n",
       "<style scoped>\n",
       "    .dataframe tbody tr th:only-of-type {\n",
       "        vertical-align: middle;\n",
       "    }\n",
       "\n",
       "    .dataframe tbody tr th {\n",
       "        vertical-align: top;\n",
       "    }\n",
       "\n",
       "    .dataframe thead th {\n",
       "        text-align: right;\n",
       "    }\n",
       "</style>\n",
       "<table border=\"1\" class=\"dataframe\">\n",
       "  <thead>\n",
       "    <tr style=\"text-align: right;\">\n",
       "      <th></th>\n",
       "      <th>Singer</th>\n",
       "      <th>songs_count</th>\n",
       "      <th>albums_count</th>\n",
       "      <th>feats_count_max</th>\n",
       "      <th>feats_count_mean</th>\n",
       "      <th>feats_count_median</th>\n",
       "      <th>feats_count_std</th>\n",
       "      <th>feats_count_var</th>\n",
       "      <th>lyrics_rows_count_max</th>\n",
       "      <th>lyrics_rows_count_mean</th>\n",
       "      <th>lyrics_rows_count_median</th>\n",
       "      <th>lyrics_rows_count_std</th>\n",
       "      <th>lyrics_rows_count_var</th>\n",
       "    </tr>\n",
       "  </thead>\n",
       "  <tbody>\n",
       "    <tr>\n",
       "      <th>0</th>\n",
       "      <td>$UICIDEBOY$</td>\n",
       "      <td>227</td>\n",
       "      <td>40</td>\n",
       "      <td>3.0</td>\n",
       "      <td>0.158590</td>\n",
       "      <td>0.0</td>\n",
       "      <td>0.432582</td>\n",
       "      <td>0.187127</td>\n",
       "      <td>169.0</td>\n",
       "      <td>54.691630</td>\n",
       "      <td>51.0</td>\n",
       "      <td>24.063009</td>\n",
       "      <td>579.028381</td>\n",
       "    </tr>\n",
       "    <tr>\n",
       "      <th>1</th>\n",
       "      <td>2 Chainz</td>\n",
       "      <td>265</td>\n",
       "      <td>25</td>\n",
       "      <td>7.0</td>\n",
       "      <td>0.667925</td>\n",
       "      <td>0.0</td>\n",
       "      <td>0.922729</td>\n",
       "      <td>0.851429</td>\n",
       "      <td>182.0</td>\n",
       "      <td>73.573585</td>\n",
       "      <td>74.0</td>\n",
       "      <td>25.050163</td>\n",
       "      <td>627.510663</td>\n",
       "    </tr>\n",
       "    <tr>\n",
       "      <th>2</th>\n",
       "      <td>21 Savage</td>\n",
       "      <td>109</td>\n",
       "      <td>11</td>\n",
       "      <td>2.0</td>\n",
       "      <td>0.302752</td>\n",
       "      <td>0.0</td>\n",
       "      <td>0.552848</td>\n",
       "      <td>0.305641</td>\n",
       "      <td>319.0</td>\n",
       "      <td>81.366972</td>\n",
       "      <td>75.0</td>\n",
       "      <td>37.194847</td>\n",
       "      <td>1383.456677</td>\n",
       "    </tr>\n",
       "    <tr>\n",
       "      <th>3</th>\n",
       "      <td>25/17</td>\n",
       "      <td>133</td>\n",
       "      <td>14</td>\n",
       "      <td>3.0</td>\n",
       "      <td>0.315789</td>\n",
       "      <td>0.0</td>\n",
       "      <td>0.607634</td>\n",
       "      <td>0.369219</td>\n",
       "      <td>143.0</td>\n",
       "      <td>65.150376</td>\n",
       "      <td>66.0</td>\n",
       "      <td>22.543727</td>\n",
       "      <td>508.219640</td>\n",
       "    </tr>\n",
       "    <tr>\n",
       "      <th>4</th>\n",
       "      <td>2Pac</td>\n",
       "      <td>553</td>\n",
       "      <td>52</td>\n",
       "      <td>8.0</td>\n",
       "      <td>0.971067</td>\n",
       "      <td>1.0</td>\n",
       "      <td>1.119279</td>\n",
       "      <td>1.252785</td>\n",
       "      <td>253.0</td>\n",
       "      <td>102.130199</td>\n",
       "      <td>103.0</td>\n",
       "      <td>35.692036</td>\n",
       "      <td>1273.921423</td>\n",
       "    </tr>\n",
       "  </tbody>\n",
       "</table>\n",
       "</div>"
      ],
      "text/plain": [
       "        Singer  songs_count  albums_count  feats_count_max  feats_count_mean  \\\n",
       "0  $UICIDEBOY$          227            40              3.0          0.158590   \n",
       "1     2 Chainz          265            25              7.0          0.667925   \n",
       "2    21 Savage          109            11              2.0          0.302752   \n",
       "3        25/17          133            14              3.0          0.315789   \n",
       "4         2Pac          553            52              8.0          0.971067   \n",
       "\n",
       "   feats_count_median  feats_count_std  feats_count_var  \\\n",
       "0                 0.0         0.432582         0.187127   \n",
       "1                 0.0         0.922729         0.851429   \n",
       "2                 0.0         0.552848         0.305641   \n",
       "3                 0.0         0.607634         0.369219   \n",
       "4                 1.0         1.119279         1.252785   \n",
       "\n",
       "   lyrics_rows_count_max  lyrics_rows_count_mean  lyrics_rows_count_median  \\\n",
       "0                  169.0               54.691630                      51.0   \n",
       "1                  182.0               73.573585                      74.0   \n",
       "2                  319.0               81.366972                      75.0   \n",
       "3                  143.0               65.150376                      66.0   \n",
       "4                  253.0              102.130199                     103.0   \n",
       "\n",
       "   lyrics_rows_count_std  lyrics_rows_count_var  \n",
       "0              24.063009             579.028381  \n",
       "1              25.050163             627.510663  \n",
       "2              37.194847            1383.456677  \n",
       "3              22.543727             508.219640  \n",
       "4              35.692036            1273.921423  "
      ]
     },
     "execution_count": 7,
     "metadata": {},
     "output_type": "execute_result"
    }
   ],
   "source": [
    "authors = pd.read_csv('artist_dataset.csv', index_col=0)\n",
    "# authors.iloc[:, 3:] = StandardScaler().fit_transform(authors.iloc[:, 3:])\n",
    "authors.head()"
   ]
  },
  {
   "cell_type": "code",
   "execution_count": 12,
   "metadata": {},
   "outputs": [],
   "source": [
    "def find_nearest_authors(author, metric, k=10):\n",
    "    if metric == 'euclidean':\n",
    "        authors_similarity = pd.DataFrame(euclidean_distances(authors.iloc[:, 3:]))\n",
    "        author_index = authors[authors['Singer'] == author].index[0]\n",
    "        top_similar = authors_similarity[author_index].sort_values(ascending=True)[1:k+1]\n",
    "    elif metric == 'cosine':\n",
    "        authors_similarity = pd.DataFrame(cosine_similarity(authors.iloc[:, 3:]))\n",
    "        author_index = authors[authors['Singer'] == author].index[0]\n",
    "        top_similar = authors_similarity[author_index].sort_values(ascending=False)[1:k+1]\n",
    "    top_similar_names = list(map(lambda x: authors.loc[x]['Singer'], top_similar.index.values))\n",
    "    top_similar_values = map(lambda x: round(x, 6) * 100, top_similar.values)\n",
    "    name_value_pairs = list(zip(top_similar_names, top_similar_values))\n",
    "    return name_value_pairs"
   ]
  },
  {
   "cell_type": "code",
   "execution_count": 13,
   "metadata": {},
   "outputs": [],
   "source": [
    "author = 'Eminem'"
   ]
  },
  {
   "cell_type": "code",
   "execution_count": 14,
   "metadata": {
    "scrolled": true
   },
   "outputs": [
    {
     "data": {
      "text/plain": [
       "[('Kanye West', 99.9877),\n",
       " ('Travis Scott', 99.9857),\n",
       " ('Tyler, The Creator', 99.982),\n",
       " ('Juice WRLD', 99.9672),\n",
       " ('Beastie Boys', 99.96159999999999),\n",
       " ('Chamillionaire', 99.92830000000001),\n",
       " ('Beyoncé', 99.928),\n",
       " ('Gorillaz', 99.91499999999999),\n",
       " ('21 Savage', 99.9138),\n",
       " ('JuL', 99.9098)]"
      ]
     },
     "execution_count": 14,
     "metadata": {},
     "output_type": "execute_result"
    }
   ],
   "source": [
    "find_nearest_authors(author, 'cosine')"
   ]
  },
  {
   "cell_type": "code",
   "execution_count": 15,
   "metadata": {},
   "outputs": [
    {
     "data": {
      "text/plain": [
       "[('JuL', 17965.9651),\n",
       " ('Lady Gaga', 37612.2928),\n",
       " ('Bad Meets Evil', 68409.3708),\n",
       " ('Logic', 92982.25720000001),\n",
       " ('Beastie Boys', 120693.77320000001),\n",
       " ('Tyler, The Creator', 135438.3213),\n",
       " ('Kanye West', 163001.39260000002),\n",
       " ('Lil Wayne', 174039.396),\n",
       " ('Travis Scott', 174108.7035),\n",
       " ('Chamillionaire', 175257.507)]"
      ]
     },
     "execution_count": 15,
     "metadata": {},
     "output_type": "execute_result"
    }
   ],
   "source": [
    "find_nearest_authors(author, 'euclidean')"
   ]
  },
  {
   "cell_type": "code",
   "execution_count": null,
   "metadata": {},
   "outputs": [],
   "source": []
  }
 ],
 "metadata": {
  "kernelspec": {
   "display_name": "Python 3",
   "language": "python",
   "name": "python3"
  },
  "language_info": {
   "codemirror_mode": {
    "name": "ipython",
    "version": 3
   },
   "file_extension": ".py",
   "mimetype": "text/x-python",
   "name": "python",
   "nbconvert_exporter": "python",
   "pygments_lexer": "ipython3",
   "version": "3.6.8"
  }
 },
 "nbformat": 4,
 "nbformat_minor": 2
}
