{
 "cells": [
  {
   "cell_type": "code",
   "execution_count": 1,
   "metadata": {},
   "outputs": [],
   "source": [
    "import pandas as pd\n",
    "import numpy as np\n",
    "import re\n",
    "import ast"
   ]
  },
  {
   "cell_type": "markdown",
   "metadata": {},
   "source": [
    "# Initial author features"
   ]
  },
  {
   "cell_type": "code",
   "execution_count": null,
   "metadata": {},
   "outputs": [],
   "source": [
    "songs = pd.read_csv('songs_dataset.csv', index_col=0)\n",
    "songs.head()"
   ]
  },
  {
   "cell_type": "code",
   "execution_count": null,
   "metadata": {},
   "outputs": [],
   "source": [
    "def format_lyrics(lyrics):\n",
    "    lyrics = re.sub('[*.,!:?\\\"\\'«»]', '', lyrics)\n",
    "    lyrics = re.sub('[-–—— ]+', ' ', lyrics)\n",
    "    lyrics = lyrics.strip()\n",
    "    lyrics = lyrics.lower()\n",
    "    return lyrics"
   ]
  },
  {
   "cell_type": "code",
   "execution_count": 2,
   "metadata": {},
   "outputs": [],
   "source": [
    "agg_funcs = ['max', 'mean', 'median', 'std', 'var']\n",
    "def get_agg_feats_names(base_name):\n",
    "    return [f'{base_name}_{agg_func}' for agg_func in agg_funcs]"
   ]
  },
  {
   "cell_type": "code",
   "execution_count": null,
   "metadata": {
    "scrolled": true
   },
   "outputs": [],
   "source": [
    "authors_features = []\n",
    "for author, author_df in songs.groupby('Singer'):\n",
    "    songs_count = author_df.shape[0]\n",
    "    albums_count = author_df['Album'].nunique()\n",
    "    \n",
    "#     author_df['Lyrics'] = author_df['Lyrics'].apply(format_lyrics)\n",
    "    \n",
    "#     all_words = author_df['Lyrics'].apply(lambda x: x.split())\n",
    "#     all_words_len = all_words.apply(len)\n",
    "#     all_words_len = all_words_len.agg(agg_funcs)\n",
    "    \n",
    "#     all_words_count = all_words.apply(len)\n",
    "#     unique_words_count = author_df['Lyrics'].apply(lambda x: len(list(set(x.split()))))\n",
    "#     uniq_words = unique_words_count / all_words_count\n",
    "#     uniq_words = uniq_words.agg(agg_funcs)\n",
    "    \n",
    "    featuring_count = author_df['Featuring'].apply(lambda x: len(ast.literal_eval(x)))\n",
    "    featuring_count = featuring_count.agg(agg_funcs)\n",
    "    \n",
    "#     lyrics_symbols_count = author_df['Lyrics'].apply(len)\n",
    "#     lyrics_symbols_count = lyrics_symbols_count.agg(agg_funcs)\n",
    "    \n",
    "    lyrics_rows_count = author_df['Lyrics'].apply(lambda x: len(x.split('\\n')))\n",
    "    lyrics_rows_count = lyrics_rows_count.agg(agg_funcs)\n",
    "    \n",
    "    features = [author, songs_count, albums_count, \n",
    "#                 *all_words_len, \n",
    "#                 *uniq_words, \n",
    "                *featuring_count, \n",
    "#                 *lyrics_symbols_count, \n",
    "                *lyrics_rows_count]\n",
    "    authors_features.append(features)\n",
    "\n",
    "authors = pd.DataFrame(authors_features, columns=['Singer', 'songs_count', 'albums_count',\n",
    "#                                                   *get_agg_feats_names('words_len'),\n",
    "#                                                   *get_agg_feats_names('uniq_words'),\n",
    "                                                  *get_agg_feats_names('feats_count'),\n",
    "#                                                   *get_agg_feats_names('lyrics_symbols_count'),\n",
    "                                                  *get_agg_feats_names('lyrics_rows_count')])\n",
    "authors.head()"
   ]
  },
  {
   "cell_type": "code",
   "execution_count": null,
   "metadata": {},
   "outputs": [],
   "source": [
    "authors.shape"
   ]
  },
  {
   "cell_type": "code",
   "execution_count": null,
   "metadata": {},
   "outputs": [],
   "source": [
    "authors.to_csv('artist_dataset.csv')"
   ]
  },
  {
   "cell_type": "markdown",
   "metadata": {},
   "source": [
    "# Author features from parts"
   ]
  },
  {
   "cell_type": "code",
   "execution_count": 14,
   "metadata": {
    "scrolled": true
   },
   "outputs": [
    {
     "data": {
      "text/html": [
       "<div>\n",
       "<style scoped>\n",
       "    .dataframe tbody tr th:only-of-type {\n",
       "        vertical-align: middle;\n",
       "    }\n",
       "\n",
       "    .dataframe tbody tr th {\n",
       "        vertical-align: top;\n",
       "    }\n",
       "\n",
       "    .dataframe thead th {\n",
       "        text-align: right;\n",
       "    }\n",
       "</style>\n",
       "<table border=\"1\" class=\"dataframe\">\n",
       "  <thead>\n",
       "    <tr style=\"text-align: right;\">\n",
       "      <th></th>\n",
       "      <th>Singer</th>\n",
       "      <th>Album</th>\n",
       "      <th>Song</th>\n",
       "      <th>All Singers</th>\n",
       "      <th>Part Singer</th>\n",
       "      <th>Part Name</th>\n",
       "      <th>Part Lyrics</th>\n",
       "    </tr>\n",
       "  </thead>\n",
       "  <tbody>\n",
       "    <tr>\n",
       "      <th>0</th>\n",
       "      <td>$UICIDEBOY$</td>\n",
       "      <td>7th or St. Tammany</td>\n",
       "      <td>That’s Very Minimalist of You</td>\n",
       "      <td>['$UICIDEBOY$']</td>\n",
       "      <td>$UICIDEBOY$</td>\n",
       "      <td>Verse</td>\n",
       "      <td>Ruby casting shadows, looting fucking castles\\...</td>\n",
       "    </tr>\n",
       "    <tr>\n",
       "      <th>1</th>\n",
       "      <td>$UICIDEBOY$</td>\n",
       "      <td>7th or St. Tammany</td>\n",
       "      <td>That’s Very Minimalist of You</td>\n",
       "      <td>['$UICIDEBOY$']</td>\n",
       "      <td>$UICIDEBOY$</td>\n",
       "      <td>Verse</td>\n",
       "      <td>Ridin' shotty with my shotty, smokin' next to ...</td>\n",
       "    </tr>\n",
       "    <tr>\n",
       "      <th>2</th>\n",
       "      <td>$UICIDEBOY$</td>\n",
       "      <td>7th or St. Tammany</td>\n",
       "      <td>Dead Batteries</td>\n",
       "      <td>['$UICIDEBOY$']</td>\n",
       "      <td>$UICIDEBOY$</td>\n",
       "      <td>Intro</td>\n",
       "      <td>Hit the, hit the, hit the—\\nHit the tone, cock...</td>\n",
       "    </tr>\n",
       "    <tr>\n",
       "      <th>3</th>\n",
       "      <td>$UICIDEBOY$</td>\n",
       "      <td>7th or St. Tammany</td>\n",
       "      <td>Dead Batteries</td>\n",
       "      <td>['$UICIDEBOY$']</td>\n",
       "      <td>$UICIDEBOY$</td>\n",
       "      <td>Verse</td>\n",
       "      <td>Bitches know I got the vendetta\\nRollin' up th...</td>\n",
       "    </tr>\n",
       "    <tr>\n",
       "      <th>4</th>\n",
       "      <td>$UICIDEBOY$</td>\n",
       "      <td>7th or St. Tammany</td>\n",
       "      <td>Dead Batteries</td>\n",
       "      <td>['$UICIDEBOY$']</td>\n",
       "      <td>$UICIDEBOY$</td>\n",
       "      <td>Hook</td>\n",
       "      <td>Hit the tone, cock it back, ho, I gotta holla ...</td>\n",
       "    </tr>\n",
       "  </tbody>\n",
       "</table>\n",
       "</div>"
      ],
      "text/plain": [
       "        Singer               Album                           Song  \\\n",
       "0  $UICIDEBOY$  7th or St. Tammany  That’s Very Minimalist of You   \n",
       "1  $UICIDEBOY$  7th or St. Tammany  That’s Very Minimalist of You   \n",
       "2  $UICIDEBOY$  7th or St. Tammany                 Dead Batteries   \n",
       "3  $UICIDEBOY$  7th or St. Tammany                 Dead Batteries   \n",
       "4  $UICIDEBOY$  7th or St. Tammany                 Dead Batteries   \n",
       "\n",
       "       All Singers  Part Singer Part Name  \\\n",
       "0  ['$UICIDEBOY$']  $UICIDEBOY$     Verse   \n",
       "1  ['$UICIDEBOY$']  $UICIDEBOY$     Verse   \n",
       "2  ['$UICIDEBOY$']  $UICIDEBOY$     Intro   \n",
       "3  ['$UICIDEBOY$']  $UICIDEBOY$     Verse   \n",
       "4  ['$UICIDEBOY$']  $UICIDEBOY$      Hook   \n",
       "\n",
       "                                         Part Lyrics  \n",
       "0  Ruby casting shadows, looting fucking castles\\...  \n",
       "1  Ridin' shotty with my shotty, smokin' next to ...  \n",
       "2  Hit the, hit the, hit the—\\nHit the tone, cock...  \n",
       "3  Bitches know I got the vendetta\\nRollin' up th...  \n",
       "4  Hit the tone, cock it back, ho, I gotta holla ...  "
      ]
     },
     "execution_count": 14,
     "metadata": {},
     "output_type": "execute_result"
    }
   ],
   "source": [
    "parts = pd.read_csv('parts_dataset.csv', index_col=0)\n",
    "all_singers = parts['Singer'].unique().tolist()\n",
    "parts.head()"
   ]
  },
  {
   "cell_type": "code",
   "execution_count": 4,
   "metadata": {},
   "outputs": [
    {
     "data": {
      "text/plain": [
       "array(['Verse', 'Intro', 'Hook', 'Outro', 'Chorus', 'Other', 'Bridge',\n",
       "       'Refrain', nan, 'Skit'], dtype=object)"
      ]
     },
     "execution_count": 4,
     "metadata": {},
     "output_type": "execute_result"
    }
   ],
   "source": [
    "parts['Part Name'].unique()"
   ]
  },
  {
   "cell_type": "code",
   "execution_count": 5,
   "metadata": {},
   "outputs": [],
   "source": [
    "def format_lyrics(lyrics):\n",
    "    lyrics = re.sub('[*.’,!:?\\\"\\'«»]', '', lyrics)\n",
    "    lyrics = re.sub('[-–—— \\s]+', ' ', lyrics)\n",
    "    lyrics = lyrics.strip()\n",
    "    lyrics = lyrics.lower()\n",
    "    return lyrics"
   ]
  },
  {
   "cell_type": "code",
   "execution_count": 18,
   "metadata": {
    "scrolled": true
   },
   "outputs": [
    {
     "name": "stdout",
     "output_type": "stream",
     "text": [
      "$UICIDEBOY$\n"
     ]
    },
    {
     "name": "stderr",
     "output_type": "stream",
     "text": [
      "C:\\ProgramData\\Anaconda3\\lib\\site-packages\\ipykernel_launcher.py:2: SettingWithCopyWarning: \n",
      "A value is trying to be set on a copy of a slice from a DataFrame.\n",
      "Try using .loc[row_indexer,col_indexer] = value instead\n",
      "\n",
      "See the caveats in the documentation: http://pandas.pydata.org/pandas-docs/stable/indexing.html#indexing-view-versus-copy\n",
      "  \n"
     ]
    },
    {
     "name": "stdout",
     "output_type": "stream",
     "text": [
      "              0          1          2          3          4          5    \\\n",
      "max     12.000000  13.000000  30.000000  13.000000  13.000000  13.000000   \n",
      "mean     4.273684   3.633684   4.094737   4.155789   4.153684   4.147368   \n",
      "median   4.000000   3.000000   4.000000   4.000000   4.000000   4.000000   \n",
      "std      1.974746   1.898401   2.460119   2.207807   2.026086   2.216016   \n",
      "var      3.899622   3.603926   6.052187   4.874413   4.105023   4.910726   \n",
      "min      1.000000   1.000000   1.000000   1.000000   1.000000   1.000000   \n",
      "\n",
      "              6          7          8          9    ...  243  244  245  246  \\\n",
      "max     13.000000  13.000000  13.000000  10.000000  ...  4.0  2.0  4.0  5.0   \n",
      "mean     4.044211   3.943158   3.972632   4.027368  ...  4.0  2.0  4.0  5.0   \n",
      "median   4.000000   4.000000   4.000000   4.000000  ...  4.0  2.0  4.0  5.0   \n",
      "std      2.008459   1.991260   1.836482   1.877383  ...  NaN  NaN  NaN  NaN   \n",
      "var      4.033906   3.965117   3.372667   3.524566  ...  NaN  NaN  NaN  NaN   \n",
      "min      1.000000   1.000000   1.000000   1.000000  ...  4.0  2.0  4.0  5.0   \n",
      "\n",
      "        247  248  249  250  251  252  \n",
      "max     2.0  4.0  3.0  2.0  4.0  5.0  \n",
      "mean    2.0  4.0  3.0  2.0  4.0  5.0  \n",
      "median  2.0  4.0  3.0  2.0  4.0  5.0  \n",
      "std     NaN  NaN  NaN  NaN  NaN  NaN  \n",
      "var     NaN  NaN  NaN  NaN  NaN  NaN  \n",
      "min     2.0  4.0  3.0  2.0  4.0  5.0  \n",
      "\n",
      "[6 rows x 253 columns]\n",
      "2 Chainz\n",
      "              0         1          2          3          4         5    \\\n",
      "max     10.000000  9.000000  11.000000  10.000000  11.000000  8.000000   \n",
      "mean     3.453333  3.600000   4.106667   3.733333   3.573333  3.960000   \n",
      "median   4.000000  3.000000   4.000000   4.000000   3.000000  4.000000   \n",
      "std      2.042080  1.830670   1.983536   1.840486   1.802201  1.855889   \n",
      "var      4.170090  3.351351   3.934414   3.387387   3.247928  3.444324   \n",
      "min      1.000000  1.000000   1.000000   1.000000   1.000000  1.000000   \n",
      "\n",
      "              6          7          8          9    ...  317  318  319  320  \\\n",
      "max     10.000000  14.000000  10.000000  12.000000  ...  4.0  2.0  4.0  2.0   \n",
      "mean     3.933333   3.773333   3.800000   3.946667  ...  4.0  2.0  4.0  2.0   \n",
      "median   4.000000   4.000000   3.000000   4.000000  ...  4.0  2.0  4.0  2.0   \n",
      "std      1.898316   2.172141   1.903056   2.358958  ...  NaN  NaN  NaN  NaN   \n",
      "var      3.603604   4.718198   3.621622   5.564685  ...  NaN  NaN  NaN  NaN   \n",
      "min      1.000000   1.000000   1.000000   1.000000  ...  4.0  2.0  4.0  2.0   \n",
      "\n",
      "        321  322  323  324  325  326  \n",
      "max     2.0  4.0  4.0  2.0  6.0  3.0  \n",
      "mean    2.0  4.0  4.0  2.0  6.0  3.0  \n",
      "median  2.0  4.0  4.0  2.0  6.0  3.0  \n",
      "std     NaN  NaN  NaN  NaN  NaN  NaN  \n",
      "var     NaN  NaN  NaN  NaN  NaN  NaN  \n",
      "min     2.0  4.0  4.0  2.0  6.0  3.0  \n",
      "\n",
      "[6 rows x 327 columns]\n",
      "Chris Brown\n",
      "max      NaN\n",
      "mean     NaN\n",
      "median   NaN\n",
      "std      NaN\n",
      "var      NaN\n",
      "min      NaN\n",
      "Name: Part Lyrics, dtype: float64\n"
     ]
    },
    {
     "ename": "ValueError",
     "evalue": "No axis named 1 for object type <class 'type'>",
     "output_type": "error",
     "traceback": [
      "\u001b[1;31m---------------------------------------------------------------------------\u001b[0m",
      "\u001b[1;31mValueError\u001b[0m                                Traceback (most recent call last)",
      "\u001b[1;32m<ipython-input-18-c7547c72debe>\u001b[0m in \u001b[0;36m<module>\u001b[1;34m\u001b[0m\n\u001b[0;32m     30\u001b[0m     parts_freq_feats = parts_freq[['Verse', 'Chorus', 'Intro', 'Hook', \n\u001b[0;32m     31\u001b[0m                                    'Outro', 'Bridge', 'Refrain', 'Skit', 'Other', np.nan]].fillna(0).values[:-2]\n\u001b[1;32m---> 32\u001b[1;33m     \u001b[0mverse_features\u001b[0m\u001b[1;33m,\u001b[0m \u001b[0mverse_features_names\u001b[0m \u001b[1;33m=\u001b[0m \u001b[0mget_part_features\u001b[0m\u001b[1;33m(\u001b[0m\u001b[0msinger_df\u001b[0m\u001b[1;33m[\u001b[0m\u001b[0msinger_df\u001b[0m\u001b[1;33m[\u001b[0m\u001b[1;34m'Part Name'\u001b[0m\u001b[1;33m]\u001b[0m \u001b[1;33m==\u001b[0m \u001b[1;34m'Verse'\u001b[0m\u001b[1;33m]\u001b[0m\u001b[1;33m,\u001b[0m \u001b[1;34m'Verse'\u001b[0m\u001b[1;33m)\u001b[0m\u001b[1;33m\u001b[0m\u001b[1;33m\u001b[0m\u001b[0m\n\u001b[0m\u001b[0;32m     33\u001b[0m \u001b[1;31m#     chorus_features, chorus_features_names = get_part_features(singer_df[singer_df['Part Name'] == 'Chorus'], 'Chorus')\u001b[0m\u001b[1;33m\u001b[0m\u001b[1;33m\u001b[0m\u001b[1;33m\u001b[0m\u001b[0m\n\u001b[0;32m     34\u001b[0m \u001b[1;33m\u001b[0m\u001b[0m\n",
      "\u001b[1;32m<ipython-input-18-c7547c72debe>\u001b[0m in \u001b[0;36mget_part_features\u001b[1;34m(part_df, part_name)\u001b[0m\n\u001b[0;32m      7\u001b[0m     \u001b[0mwords_len_feats\u001b[0m \u001b[1;33m=\u001b[0m \u001b[0mwords_len\u001b[0m\u001b[1;33m.\u001b[0m\u001b[0magg\u001b[0m\u001b[1;33m(\u001b[0m\u001b[0magg_funcs\u001b[0m\u001b[1;33m+\u001b[0m\u001b[1;33m[\u001b[0m\u001b[1;34m'min'\u001b[0m\u001b[1;33m]\u001b[0m\u001b[1;33m)\u001b[0m\u001b[1;33m\u001b[0m\u001b[1;33m\u001b[0m\u001b[0m\n\u001b[0;32m      8\u001b[0m     \u001b[0mprint\u001b[0m\u001b[1;33m(\u001b[0m\u001b[0mwords_len_feats\u001b[0m\u001b[1;33m)\u001b[0m\u001b[1;33m\u001b[0m\u001b[1;33m\u001b[0m\u001b[0m\n\u001b[1;32m----> 9\u001b[1;33m     \u001b[0mwords_len_feats\u001b[0m \u001b[1;33m=\u001b[0m \u001b[0mwords_len_feats\u001b[0m\u001b[1;33m.\u001b[0m\u001b[0magg\u001b[0m\u001b[1;33m(\u001b[0m\u001b[0magg_funcs\u001b[0m\u001b[1;33m,\u001b[0m \u001b[0maxis\u001b[0m\u001b[1;33m=\u001b[0m\u001b[1;36m1\u001b[0m\u001b[1;33m)\u001b[0m\u001b[1;33m\u001b[0m\u001b[1;33m\u001b[0m\u001b[0m\n\u001b[0m\u001b[0;32m     10\u001b[0m \u001b[1;31m#     print(words_len_feats)\u001b[0m\u001b[1;33m\u001b[0m\u001b[1;33m\u001b[0m\u001b[1;33m\u001b[0m\u001b[0m\n\u001b[0;32m     11\u001b[0m     words_len_feats_names = [f'{part_name}_{col}_from_{ind}_words_len' for ind in words_len_feats.index \n",
      "\u001b[1;32mC:\\ProgramData\\Anaconda3\\lib\\site-packages\\pandas\\core\\series.py\u001b[0m in \u001b[0;36maggregate\u001b[1;34m(self, func, axis, *args, **kwargs)\u001b[0m\n\u001b[0;32m   3432\u001b[0m     \u001b[1;32mdef\u001b[0m \u001b[0maggregate\u001b[0m\u001b[1;33m(\u001b[0m\u001b[0mself\u001b[0m\u001b[1;33m,\u001b[0m \u001b[0mfunc\u001b[0m\u001b[1;33m,\u001b[0m \u001b[0maxis\u001b[0m\u001b[1;33m=\u001b[0m\u001b[1;36m0\u001b[0m\u001b[1;33m,\u001b[0m \u001b[1;33m*\u001b[0m\u001b[0margs\u001b[0m\u001b[1;33m,\u001b[0m \u001b[1;33m**\u001b[0m\u001b[0mkwargs\u001b[0m\u001b[1;33m)\u001b[0m\u001b[1;33m:\u001b[0m\u001b[1;33m\u001b[0m\u001b[1;33m\u001b[0m\u001b[0m\n\u001b[0;32m   3433\u001b[0m         \u001b[1;31m# Validate the axis parameter\u001b[0m\u001b[1;33m\u001b[0m\u001b[1;33m\u001b[0m\u001b[1;33m\u001b[0m\u001b[0m\n\u001b[1;32m-> 3434\u001b[1;33m         \u001b[0mself\u001b[0m\u001b[1;33m.\u001b[0m\u001b[0m_get_axis_number\u001b[0m\u001b[1;33m(\u001b[0m\u001b[0maxis\u001b[0m\u001b[1;33m)\u001b[0m\u001b[1;33m\u001b[0m\u001b[1;33m\u001b[0m\u001b[0m\n\u001b[0m\u001b[0;32m   3435\u001b[0m         \u001b[0mresult\u001b[0m\u001b[1;33m,\u001b[0m \u001b[0mhow\u001b[0m \u001b[1;33m=\u001b[0m \u001b[0mself\u001b[0m\u001b[1;33m.\u001b[0m\u001b[0m_aggregate\u001b[0m\u001b[1;33m(\u001b[0m\u001b[0mfunc\u001b[0m\u001b[1;33m,\u001b[0m \u001b[1;33m*\u001b[0m\u001b[0margs\u001b[0m\u001b[1;33m,\u001b[0m \u001b[1;33m**\u001b[0m\u001b[0mkwargs\u001b[0m\u001b[1;33m)\u001b[0m\u001b[1;33m\u001b[0m\u001b[1;33m\u001b[0m\u001b[0m\n\u001b[0;32m   3436\u001b[0m         \u001b[1;32mif\u001b[0m \u001b[0mresult\u001b[0m \u001b[1;32mis\u001b[0m \u001b[1;32mNone\u001b[0m\u001b[1;33m:\u001b[0m\u001b[1;33m\u001b[0m\u001b[1;33m\u001b[0m\u001b[0m\n",
      "\u001b[1;32mC:\\ProgramData\\Anaconda3\\lib\\site-packages\\pandas\\core\\generic.py\u001b[0m in \u001b[0;36m_get_axis_number\u001b[1;34m(cls, axis)\u001b[0m\n\u001b[0;32m    359\u001b[0m                 \u001b[1;32mpass\u001b[0m\u001b[1;33m\u001b[0m\u001b[1;33m\u001b[0m\u001b[0m\n\u001b[0;32m    360\u001b[0m         raise ValueError('No axis named {0} for object type {1}'\n\u001b[1;32m--> 361\u001b[1;33m                          .format(axis, type(cls)))\n\u001b[0m\u001b[0;32m    362\u001b[0m \u001b[1;33m\u001b[0m\u001b[0m\n\u001b[0;32m    363\u001b[0m     \u001b[1;33m@\u001b[0m\u001b[0mclassmethod\u001b[0m\u001b[1;33m\u001b[0m\u001b[1;33m\u001b[0m\u001b[0m\n",
      "\u001b[1;31mValueError\u001b[0m: No axis named 1 for object type <class 'type'>"
     ]
    }
   ],
   "source": [
    "def get_part_features(part_df, part_name):\n",
    "    part_df['Part Lyrics'] = part_df['Part Lyrics'].apply(format_lyrics)\n",
    "\n",
    "    words = part_df['Part Lyrics'].apply(lambda x: x.split())\n",
    "    words_len = words.apply(lambda x: pd.Series(map(len, x)))\n",
    "#     print(words_len)\n",
    "    words_len_feats = words_len.agg(agg_funcs+['min'])\n",
    "    print(words_len_feats)\n",
    "    words_len_feats = words_len_feats.agg(agg_funcs, axis=1)\n",
    "#     print(words_len_feats)\n",
    "    words_len_feats_names = [f'{part_name}_{col}_from_{ind}_words_len' for ind in words_len_feats.index \n",
    "                                                                       for col in words_len_feats.columns]\n",
    "    words_len_feats = words_len_feats.values.flatten().tolist()\n",
    "    words_count = words.apply(len)\n",
    "    unique_words_count = words.apply(lambda x: len(list(set(x))))\n",
    "    uniq_words_prop = unique_words_count / words_count\n",
    "    uniq_words_prop_feats = uniq_words_prop.agg(agg_funcs).values.tolist()\n",
    "    uniq_words_prop_feats_names = get_agg_feats_names(f'{part_name}_uniq_words_prop')\n",
    "#     print('!!!!!!!!!!!!!!!!!!!!!!!!!!!!!!!!!!!!!!!!!!!!!!!!!!!!!!!')\n",
    "    return words_len_feats + uniq_words_prop_feats, words_len_feats_names + uniq_words_prop_feats_names\n",
    "\n",
    "\n",
    "singers_features = []\n",
    "\n",
    "for singer, singer_df in parts.iloc[:1000, :].groupby('Part Singer'):\n",
    "    if singer not in all_singers:\n",
    "        continue\n",
    "    print(singer)\n",
    "    parts_freq = singer_df['Part Name'].value_counts(normalize=True, dropna=False)\n",
    "    parts_freq_feats = parts_freq[['Verse', 'Chorus', 'Intro', 'Hook', \n",
    "                                   'Outro', 'Bridge', 'Refrain', 'Skit', 'Other', np.nan]].fillna(0).values[:-2]\n",
    "    verse_features, verse_features_names = get_part_features(singer_df[singer_df['Part Name'] == 'Verse'], 'Verse')\n",
    "#     chorus_features, chorus_features_names = get_part_features(singer_df[singer_df['Part Name'] == 'Chorus'], 'Chorus')\n",
    "\n",
    "#     print(singer)\n",
    "#     singers_features.append()"
   ]
  },
  {
   "cell_type": "code",
   "execution_count": 19,
   "metadata": {
    "scrolled": true
   },
   "outputs": [
    {
     "data": {
      "text/html": [
       "<div>\n",
       "<style scoped>\n",
       "    .dataframe tbody tr th:only-of-type {\n",
       "        vertical-align: middle;\n",
       "    }\n",
       "\n",
       "    .dataframe tbody tr th {\n",
       "        vertical-align: top;\n",
       "    }\n",
       "\n",
       "    .dataframe thead th {\n",
       "        text-align: right;\n",
       "    }\n",
       "</style>\n",
       "<table border=\"1\" class=\"dataframe\">\n",
       "  <thead>\n",
       "    <tr style=\"text-align: right;\">\n",
       "      <th></th>\n",
       "      <th>Singer</th>\n",
       "      <th>Album</th>\n",
       "      <th>Song</th>\n",
       "      <th>All Singers</th>\n",
       "      <th>Part Singer</th>\n",
       "      <th>Part Name</th>\n",
       "      <th>Part Lyrics</th>\n",
       "    </tr>\n",
       "  </thead>\n",
       "  <tbody>\n",
       "    <tr>\n",
       "      <th>8059</th>\n",
       "      <td>50 Cent</td>\n",
       "      <td>Kanan Reloaded</td>\n",
       "      <td>No Romeo No Juliet</td>\n",
       "      <td>['50 Cent', 'Chris Brown']</td>\n",
       "      <td>Chris Brown</td>\n",
       "      <td>Verse</td>\n",
       "      <td>P.I.M.P., who the shotta them?\\nI'm the girl d...</td>\n",
       "    </tr>\n",
       "    <tr>\n",
       "      <th>8065</th>\n",
       "      <td>50 Cent</td>\n",
       "      <td>Kanan Reloaded</td>\n",
       "      <td>I’m the Man (Remix)</td>\n",
       "      <td>['50 Cent', 'Chris Brown']</td>\n",
       "      <td>Chris Brown</td>\n",
       "      <td>Verse</td>\n",
       "      <td>Came in the game gettin' money\\nI fuck with al...</td>\n",
       "    </tr>\n",
       "    <tr>\n",
       "      <th>9947</th>\n",
       "      <td>A Boogie wit da Hoodie</td>\n",
       "      <td>The Bigger Artist</td>\n",
       "      <td>Fucking &amp; Kissing</td>\n",
       "      <td>['A Boogie wit da Hoodie', 'Chris Brown']</td>\n",
       "      <td>Chris Brown</td>\n",
       "      <td>Verse</td>\n",
       "      <td>Would I be trippin'\\nIf I DM your friends and ...</td>\n",
       "    </tr>\n",
       "    <tr>\n",
       "      <th>10578</th>\n",
       "      <td>A$AP Ferg</td>\n",
       "      <td>Always Strive and Prosper</td>\n",
       "      <td>I Love You</td>\n",
       "      <td>['A$AP Ferg', 'Ty Dolla $ign', 'Chris Brown']</td>\n",
       "      <td>Chris Brown</td>\n",
       "      <td>Verse</td>\n",
       "      <td>Look, house on the water like a casino\\nVacati...</td>\n",
       "    </tr>\n",
       "    <tr>\n",
       "      <th>16994</th>\n",
       "      <td>Akon</td>\n",
       "      <td>NaN</td>\n",
       "      <td>Take It Down Low</td>\n",
       "      <td>['Akon', 'Chris Brown']</td>\n",
       "      <td>Chris Brown</td>\n",
       "      <td>Verse</td>\n",
       "      <td>She on the pole (What?), watch her break it do...</td>\n",
       "    </tr>\n",
       "  </tbody>\n",
       "</table>\n",
       "</div>"
      ],
      "text/plain": [
       "                       Singer                      Album                 Song  \\\n",
       "8059                  50 Cent             Kanan Reloaded   No Romeo No Juliet   \n",
       "8065                  50 Cent             Kanan Reloaded  I’m the Man (Remix)   \n",
       "9947   A Boogie wit da Hoodie          The Bigger Artist    Fucking & Kissing   \n",
       "10578               A$AP Ferg  Always Strive and Prosper           I Love You   \n",
       "16994                    Akon                        NaN     Take It Down Low   \n",
       "\n",
       "                                         All Singers  Part Singer Part Name  \\\n",
       "8059                      ['50 Cent', 'Chris Brown']  Chris Brown     Verse   \n",
       "8065                      ['50 Cent', 'Chris Brown']  Chris Brown     Verse   \n",
       "9947       ['A Boogie wit da Hoodie', 'Chris Brown']  Chris Brown     Verse   \n",
       "10578  ['A$AP Ferg', 'Ty Dolla $ign', 'Chris Brown']  Chris Brown     Verse   \n",
       "16994                        ['Akon', 'Chris Brown']  Chris Brown     Verse   \n",
       "\n",
       "                                             Part Lyrics  \n",
       "8059   P.I.M.P., who the shotta them?\\nI'm the girl d...  \n",
       "8065   Came in the game gettin' money\\nI fuck with al...  \n",
       "9947   Would I be trippin'\\nIf I DM your friends and ...  \n",
       "10578  Look, house on the water like a casino\\nVacati...  \n",
       "16994  She on the pole (What?), watch her break it do...  "
      ]
     },
     "execution_count": 19,
     "metadata": {},
     "output_type": "execute_result"
    }
   ],
   "source": [
    "temp = parts[(parts['Part Singer'] == 'Chris Brown') & (parts['Part Name'] == 'Verse')]\n",
    "temp.head()"
   ]
  },
  {
   "cell_type": "code",
   "execution_count": null,
   "metadata": {},
   "outputs": [],
   "source": [
    "temp['Part Lyrics'] = temp['Part Lyrics'].apply(format_lyrics)"
   ]
  },
  {
   "cell_type": "code",
   "execution_count": null,
   "metadata": {},
   "outputs": [],
   "source": [
    "temp_ = temp['Part Lyrics'].apply(lambda x: x.split()).apply(lambda x: pd.Series(map(len, x))).agg(agg_funcs+['min']).agg(agg_funcs, axis=1)\n",
    "temp_"
   ]
  },
  {
   "cell_type": "code",
   "execution_count": null,
   "metadata": {
    "scrolled": true
   },
   "outputs": [],
   "source": [
    "temp['Part Lyrics'].apply(lambda x: x.split()).apply(lambda x: len(list(set(x))))"
   ]
  },
  {
   "cell_type": "code",
   "execution_count": null,
   "metadata": {},
   "outputs": [],
   "source": [
    "[f'{col}_from_{ind}_words_len' for ind in temp_.index for col in temp_.columns]"
   ]
  },
  {
   "cell_type": "code",
   "execution_count": null,
   "metadata": {},
   "outputs": [],
   "source": [
    "temp_.values.flatten().tolist()"
   ]
  },
  {
   "cell_type": "code",
   "execution_count": null,
   "metadata": {},
   "outputs": [],
   "source": []
  }
 ],
 "metadata": {
  "kernelspec": {
   "display_name": "Python 3",
   "language": "python",
   "name": "python3"
  },
  "language_info": {
   "codemirror_mode": {
    "name": "ipython",
    "version": 3
   },
   "file_extension": ".py",
   "mimetype": "text/x-python",
   "name": "python",
   "nbconvert_exporter": "python",
   "pygments_lexer": "ipython3",
   "version": "3.6.8"
  }
 },
 "nbformat": 4,
 "nbformat_minor": 2
}
