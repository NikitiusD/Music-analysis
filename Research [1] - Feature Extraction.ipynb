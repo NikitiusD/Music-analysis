{
 "cells": [
  {
   "cell_type": "code",
   "execution_count": 1,
   "metadata": {},
   "outputs": [],
   "source": [
    "import pandas as pd\n",
    "import numpy as np\n",
    "import re\n",
    "import ast"
   ]
  },
  {
   "cell_type": "markdown",
   "metadata": {},
   "source": [
    "# Initial author features"
   ]
  },
  {
   "cell_type": "code",
   "execution_count": 2,
   "metadata": {},
   "outputs": [
    {
     "data": {
      "text/html": [
       "<div>\n",
       "<style scoped>\n",
       "    .dataframe tbody tr th:only-of-type {\n",
       "        vertical-align: middle;\n",
       "    }\n",
       "\n",
       "    .dataframe tbody tr th {\n",
       "        vertical-align: top;\n",
       "    }\n",
       "\n",
       "    .dataframe thead th {\n",
       "        text-align: right;\n",
       "    }\n",
       "</style>\n",
       "<table border=\"1\" class=\"dataframe\">\n",
       "  <thead>\n",
       "    <tr style=\"text-align: right;\">\n",
       "      <th></th>\n",
       "      <th>Author</th>\n",
       "      <th>Album</th>\n",
       "      <th>Song</th>\n",
       "      <th>Featuring</th>\n",
       "      <th>Lyrics</th>\n",
       "    </tr>\n",
       "  </thead>\n",
       "  <tbody>\n",
       "    <tr>\n",
       "      <th>0</th>\n",
       "      <td>$uicideBoy$</td>\n",
       "      <td>7th or St. Tammany</td>\n",
       "      <td>7th or St. Tammany</td>\n",
       "      <td>[]</td>\n",
       "      <td>\\n\\nUh\\n*59, yah!\\nUhhhh, [?]\\n*59 motherfucke...</td>\n",
       "    </tr>\n",
       "    <tr>\n",
       "      <th>1</th>\n",
       "      <td>$uicideBoy$</td>\n",
       "      <td>7th or St. Tammany</td>\n",
       "      <td>Dead Batteries</td>\n",
       "      <td>[]</td>\n",
       "      <td>\\n\\n[Produced by Budd Dwyer]\\n\\n[Intro: Frayse...</td>\n",
       "    </tr>\n",
       "    <tr>\n",
       "      <th>2</th>\n",
       "      <td>$uicideBoy$</td>\n",
       "      <td>7th or St. Tammany</td>\n",
       "      <td>I’ll Pay for It (If I Want It)</td>\n",
       "      <td>[]</td>\n",
       "      <td>\\n\\n[Verse 1: RUBY DA CHERRY]\\nFucking Ruby go...</td>\n",
       "    </tr>\n",
       "    <tr>\n",
       "      <th>3</th>\n",
       "      <td>$uicideBoy$</td>\n",
       "      <td>7th or St. Tammany</td>\n",
       "      <td>That’s Very Minimalist of You</td>\n",
       "      <td>[]</td>\n",
       "      <td>\\n\\n[Verse 1: RUBY DA CHERRY]\\nRuby casting sh...</td>\n",
       "    </tr>\n",
       "    <tr>\n",
       "      <th>4</th>\n",
       "      <td>$uicideBoy$</td>\n",
       "      <td>7th or St. Tammany</td>\n",
       "      <td>Romulus</td>\n",
       "      <td>[]</td>\n",
       "      <td>\\n\\n[Intro: YUNG HANK MOODY]\\nGrey*59\\nGrey*59...</td>\n",
       "    </tr>\n",
       "  </tbody>\n",
       "</table>\n",
       "</div>"
      ],
      "text/plain": [
       "        Author               Album                            Song Featuring  \\\n",
       "0  $uicideBoy$  7th or St. Tammany              7th or St. Tammany        []   \n",
       "1  $uicideBoy$  7th or St. Tammany                  Dead Batteries        []   \n",
       "2  $uicideBoy$  7th or St. Tammany  I’ll Pay for It (If I Want It)        []   \n",
       "3  $uicideBoy$  7th or St. Tammany   That’s Very Minimalist of You        []   \n",
       "4  $uicideBoy$  7th or St. Tammany                         Romulus        []   \n",
       "\n",
       "                                              Lyrics  \n",
       "0  \\n\\nUh\\n*59, yah!\\nUhhhh, [?]\\n*59 motherfucke...  \n",
       "1  \\n\\n[Produced by Budd Dwyer]\\n\\n[Intro: Frayse...  \n",
       "2  \\n\\n[Verse 1: RUBY DA CHERRY]\\nFucking Ruby go...  \n",
       "3  \\n\\n[Verse 1: RUBY DA CHERRY]\\nRuby casting sh...  \n",
       "4  \\n\\n[Intro: YUNG HANK MOODY]\\nGrey*59\\nGrey*59...  "
      ]
     },
     "execution_count": 2,
     "metadata": {},
     "output_type": "execute_result"
    }
   ],
   "source": [
    "songs = pd.read_csv('songs_dataset.csv', index_col=0)\n",
    "songs.head()"
   ]
  },
  {
   "cell_type": "code",
   "execution_count": 3,
   "metadata": {},
   "outputs": [],
   "source": [
    "def format_lyrics(lyrics):\n",
    "    lyrics = re.sub('[*.,!:?\\\"\\'«»]', '', lyrics)\n",
    "    lyrics = re.sub('[-–—— ]+', ' ', lyrics)\n",
    "    lyrics = lyrics.strip()\n",
    "    lyrics = lyrics.lower()\n",
    "    return lyrics"
   ]
  },
  {
   "cell_type": "code",
   "execution_count": 4,
   "metadata": {},
   "outputs": [],
   "source": [
    "agg_funcs = ['max', 'mean', 'median', 'std', 'var']\n",
    "def get_agg_feats_names(base_name):\n",
    "    return [f'{base_name}_{agg_func}' for agg_func in agg_funcs]"
   ]
  },
  {
   "cell_type": "code",
   "execution_count": 12,
   "metadata": {
    "scrolled": true
   },
   "outputs": [
    {
     "name": "stderr",
     "output_type": "stream",
     "text": [
      "C:\\ProgramData\\Anaconda3\\lib\\site-packages\\ipykernel_launcher.py:6: SettingWithCopyWarning: \n",
      "A value is trying to be set on a copy of a slice from a DataFrame.\n",
      "Try using .loc[row_indexer,col_indexer] = value instead\n",
      "\n",
      "See the caveats in the documentation: http://pandas.pydata.org/pandas-docs/stable/indexing.html#indexing-view-versus-copy\n",
      "  \n"
     ]
    },
    {
     "data": {
      "text/html": [
       "<div>\n",
       "<style scoped>\n",
       "    .dataframe tbody tr th:only-of-type {\n",
       "        vertical-align: middle;\n",
       "    }\n",
       "\n",
       "    .dataframe tbody tr th {\n",
       "        vertical-align: top;\n",
       "    }\n",
       "\n",
       "    .dataframe thead th {\n",
       "        text-align: right;\n",
       "    }\n",
       "</style>\n",
       "<table border=\"1\" class=\"dataframe\">\n",
       "  <thead>\n",
       "    <tr style=\"text-align: right;\">\n",
       "      <th></th>\n",
       "      <th>Author</th>\n",
       "      <th>songs_count</th>\n",
       "      <th>albums_count</th>\n",
       "      <th>words_len_max</th>\n",
       "      <th>words_len_mean</th>\n",
       "      <th>words_len_median</th>\n",
       "      <th>words_len_std</th>\n",
       "      <th>words_len_var</th>\n",
       "      <th>uniq_words_max</th>\n",
       "      <th>uniq_words_mean</th>\n",
       "      <th>...</th>\n",
       "      <th>lyrics_symbols_count_max</th>\n",
       "      <th>lyrics_symbols_count_mean</th>\n",
       "      <th>lyrics_symbols_count_median</th>\n",
       "      <th>lyrics_symbols_count_std</th>\n",
       "      <th>lyrics_symbols_count_var</th>\n",
       "      <th>lyrics_rows_count_max</th>\n",
       "      <th>lyrics_rows_count_mean</th>\n",
       "      <th>lyrics_rows_count_median</th>\n",
       "      <th>lyrics_rows_count_std</th>\n",
       "      <th>lyrics_rows_count_var</th>\n",
       "    </tr>\n",
       "  </thead>\n",
       "  <tbody>\n",
       "    <tr>\n",
       "      <th>0</th>\n",
       "      <td>$uicideBoy$</td>\n",
       "      <td>191</td>\n",
       "      <td>30</td>\n",
       "      <td>1209.0</td>\n",
       "      <td>357.209424</td>\n",
       "      <td>313.0</td>\n",
       "      <td>178.110191</td>\n",
       "      <td>31723.240121</td>\n",
       "      <td>0.765060</td>\n",
       "      <td>0.543040</td>\n",
       "      <td>...</td>\n",
       "      <td>6242.0</td>\n",
       "      <td>1807.298429</td>\n",
       "      <td>1621.0</td>\n",
       "      <td>903.860335</td>\n",
       "      <td>8.169635e+05</td>\n",
       "      <td>165.0</td>\n",
       "      <td>49.298429</td>\n",
       "      <td>47.0</td>\n",
       "      <td>23.381953</td>\n",
       "      <td>546.715734</td>\n",
       "    </tr>\n",
       "    <tr>\n",
       "      <th>1</th>\n",
       "      <td>2 Chainz</td>\n",
       "      <td>207</td>\n",
       "      <td>21</td>\n",
       "      <td>1700.0</td>\n",
       "      <td>490.338164</td>\n",
       "      <td>483.0</td>\n",
       "      <td>200.987711</td>\n",
       "      <td>40396.059847</td>\n",
       "      <td>0.882353</td>\n",
       "      <td>0.442808</td>\n",
       "      <td>...</td>\n",
       "      <td>10158.0</td>\n",
       "      <td>2391.913043</td>\n",
       "      <td>2357.0</td>\n",
       "      <td>1028.882164</td>\n",
       "      <td>1.058599e+06</td>\n",
       "      <td>178.0</td>\n",
       "      <td>69.212560</td>\n",
       "      <td>71.0</td>\n",
       "      <td>27.642012</td>\n",
       "      <td>764.080812</td>\n",
       "    </tr>\n",
       "    <tr>\n",
       "      <th>2</th>\n",
       "      <td>21 Savage</td>\n",
       "      <td>65</td>\n",
       "      <td>6</td>\n",
       "      <td>1093.0</td>\n",
       "      <td>561.492308</td>\n",
       "      <td>535.0</td>\n",
       "      <td>170.026388</td>\n",
       "      <td>28908.972596</td>\n",
       "      <td>0.495902</td>\n",
       "      <td>0.370608</td>\n",
       "      <td>...</td>\n",
       "      <td>5094.0</td>\n",
       "      <td>2771.861538</td>\n",
       "      <td>2642.0</td>\n",
       "      <td>801.863472</td>\n",
       "      <td>6.429850e+05</td>\n",
       "      <td>144.0</td>\n",
       "      <td>79.538462</td>\n",
       "      <td>73.0</td>\n",
       "      <td>21.244909</td>\n",
       "      <td>451.346154</td>\n",
       "    </tr>\n",
       "    <tr>\n",
       "      <th>3</th>\n",
       "      <td>2Pac</td>\n",
       "      <td>386</td>\n",
       "      <td>29</td>\n",
       "      <td>2387.0</td>\n",
       "      <td>637.448187</td>\n",
       "      <td>706.5</td>\n",
       "      <td>350.111238</td>\n",
       "      <td>122577.879127</td>\n",
       "      <td>0.818182</td>\n",
       "      <td>0.459149</td>\n",
       "      <td>...</td>\n",
       "      <td>11941.0</td>\n",
       "      <td>3154.500000</td>\n",
       "      <td>3493.0</td>\n",
       "      <td>1725.341921</td>\n",
       "      <td>2.976805e+06</td>\n",
       "      <td>199.0</td>\n",
       "      <td>84.639896</td>\n",
       "      <td>96.0</td>\n",
       "      <td>43.923574</td>\n",
       "      <td>1929.280378</td>\n",
       "    </tr>\n",
       "    <tr>\n",
       "      <th>4</th>\n",
       "      <td>3 Doors Down</td>\n",
       "      <td>77</td>\n",
       "      <td>7</td>\n",
       "      <td>401.0</td>\n",
       "      <td>270.818182</td>\n",
       "      <td>274.0</td>\n",
       "      <td>54.106554</td>\n",
       "      <td>2927.519139</td>\n",
       "      <td>0.552632</td>\n",
       "      <td>0.353287</td>\n",
       "      <td>...</td>\n",
       "      <td>1844.0</td>\n",
       "      <td>1298.415584</td>\n",
       "      <td>1329.0</td>\n",
       "      <td>248.048719</td>\n",
       "      <td>6.152817e+04</td>\n",
       "      <td>82.0</td>\n",
       "      <td>50.571429</td>\n",
       "      <td>50.0</td>\n",
       "      <td>10.952563</td>\n",
       "      <td>119.958647</td>\n",
       "    </tr>\n",
       "  </tbody>\n",
       "</table>\n",
       "<p>5 rows × 28 columns</p>\n",
       "</div>"
      ],
      "text/plain": [
       "         Author  songs_count  albums_count  words_len_max  words_len_mean  \\\n",
       "0   $uicideBoy$          191            30         1209.0      357.209424   \n",
       "1      2 Chainz          207            21         1700.0      490.338164   \n",
       "2     21 Savage           65             6         1093.0      561.492308   \n",
       "3          2Pac          386            29         2387.0      637.448187   \n",
       "4  3 Doors Down           77             7          401.0      270.818182   \n",
       "\n",
       "   words_len_median  words_len_std  words_len_var  uniq_words_max  \\\n",
       "0             313.0     178.110191   31723.240121        0.765060   \n",
       "1             483.0     200.987711   40396.059847        0.882353   \n",
       "2             535.0     170.026388   28908.972596        0.495902   \n",
       "3             706.5     350.111238  122577.879127        0.818182   \n",
       "4             274.0      54.106554    2927.519139        0.552632   \n",
       "\n",
       "   uniq_words_mean  ...  lyrics_symbols_count_max  lyrics_symbols_count_mean  \\\n",
       "0         0.543040  ...                    6242.0                1807.298429   \n",
       "1         0.442808  ...                   10158.0                2391.913043   \n",
       "2         0.370608  ...                    5094.0                2771.861538   \n",
       "3         0.459149  ...                   11941.0                3154.500000   \n",
       "4         0.353287  ...                    1844.0                1298.415584   \n",
       "\n",
       "   lyrics_symbols_count_median  lyrics_symbols_count_std  \\\n",
       "0                       1621.0                903.860335   \n",
       "1                       2357.0               1028.882164   \n",
       "2                       2642.0                801.863472   \n",
       "3                       3493.0               1725.341921   \n",
       "4                       1329.0                248.048719   \n",
       "\n",
       "   lyrics_symbols_count_var  lyrics_rows_count_max  lyrics_rows_count_mean  \\\n",
       "0              8.169635e+05                  165.0               49.298429   \n",
       "1              1.058599e+06                  178.0               69.212560   \n",
       "2              6.429850e+05                  144.0               79.538462   \n",
       "3              2.976805e+06                  199.0               84.639896   \n",
       "4              6.152817e+04                   82.0               50.571429   \n",
       "\n",
       "   lyrics_rows_count_median  lyrics_rows_count_std  lyrics_rows_count_var  \n",
       "0                      47.0              23.381953             546.715734  \n",
       "1                      71.0              27.642012             764.080812  \n",
       "2                      73.0              21.244909             451.346154  \n",
       "3                      96.0              43.923574            1929.280378  \n",
       "4                      50.0              10.952563             119.958647  \n",
       "\n",
       "[5 rows x 28 columns]"
      ]
     },
     "execution_count": 12,
     "metadata": {},
     "output_type": "execute_result"
    }
   ],
   "source": [
    "authors_features = []\n",
    "for author, author_df in songs.groupby('Author'):\n",
    "    songs_count = author_df.shape[0]\n",
    "    albums_count = author_df['Album'].nunique()\n",
    "    \n",
    "    author_df['Lyrics'] = author_df['Lyrics'].apply(format_lyrics)\n",
    "    \n",
    "    all_words = author_df['Lyrics'].apply(lambda x: x.split())\n",
    "    all_words_len = all_words.apply(len)\n",
    "    all_words_len = all_words_len.agg(agg_funcs)\n",
    "    \n",
    "    all_words_count = all_words.apply(len)\n",
    "    unique_words_count = author_df['Lyrics'].apply(lambda x: len(list(set(x.split()))))\n",
    "    uniq_words = unique_words_count / all_words_count\n",
    "    uniq_words = uniq_words.agg(agg_funcs)\n",
    "    \n",
    "    featuring_count = author_df['Featuring'].apply(lambda x: len(ast.literal_eval(x)))\n",
    "    featuring_count = featuring_count.agg(agg_funcs)\n",
    "    \n",
    "    lyrics_symbols_count = author_df['Lyrics'].apply(len)\n",
    "    lyrics_symbols_count = lyrics_symbols_count.agg(agg_funcs)\n",
    "    \n",
    "    lyrics_rows_count = author_df['Lyrics'].apply(lambda x: len(x.split('\\n')))\n",
    "    lyrics_rows_count = lyrics_rows_count.agg(agg_funcs)\n",
    "    \n",
    "    \n",
    "    features = [author, songs_count, albums_count, *all_words_len, *uniq_words, *featuring_count, \n",
    "                *lyrics_symbols_count, *lyrics_rows_count]\n",
    "    authors_features.append(features)\n",
    "\n",
    "authors = pd.DataFrame(authors_features, columns=['Author', 'songs_count', 'albums_count',\n",
    "                                                  *get_agg_feats_names('words_len'),\n",
    "                                                  *get_agg_feats_names('uniq_words'),\n",
    "                                                  *get_agg_feats_names('feats_count'),\n",
    "                                                  *get_agg_feats_names('lyrics_symbols_count'),\n",
    "                                                  *get_agg_feats_names('lyrics_rows_count')])\n",
    "authors.head()"
   ]
  },
  {
   "cell_type": "code",
   "execution_count": 13,
   "metadata": {},
   "outputs": [
    {
     "data": {
      "text/plain": [
       "(432, 28)"
      ]
     },
     "execution_count": 13,
     "metadata": {},
     "output_type": "execute_result"
    }
   ],
   "source": [
    "authors.shape"
   ]
  },
  {
   "cell_type": "code",
   "execution_count": 14,
   "metadata": {},
   "outputs": [],
   "source": [
    "authors.to_csv('authors_dataset.csv')"
   ]
  },
  {
   "cell_type": "markdown",
   "metadata": {},
   "source": [
    "# Author features from parts"
   ]
  },
  {
   "cell_type": "code",
   "execution_count": null,
   "metadata": {
    "scrolled": true
   },
   "outputs": [],
   "source": [
    "parts = pd.read_csv('parts_dataset.csv', index_col=0)\n",
    "parts.head()"
   ]
  },
  {
   "cell_type": "code",
   "execution_count": null,
   "metadata": {
    "scrolled": true
   },
   "outputs": [],
   "source": [
    "parts['Part Name'].unique()"
   ]
  },
  {
   "cell_type": "code",
   "execution_count": null,
   "metadata": {},
   "outputs": [],
   "source": [
    "def format_lyrics(lyrics):\n",
    "    lyrics = re.sub('[*.’,!:?\\\"\\'«»]', '', lyrics)\n",
    "    lyrics = re.sub('[-–—— \\s]+', ' ', lyrics)\n",
    "    lyrics = lyrics.strip()\n",
    "    lyrics = lyrics.lower()\n",
    "    return lyrics"
   ]
  },
  {
   "cell_type": "code",
   "execution_count": null,
   "metadata": {
    "scrolled": true
   },
   "outputs": [],
   "source": [
    "authors_features = []\n",
    "\n",
    "for author, author_df in parts.groupby('Part Singer'):\n",
    "    parts_freq = author_df['Part Name'].value_counts(normalize=True, dropna=False)\n",
    "    parts_freq_feats = parts_freq[['Verse', 'Chorus', 'Intro', 'Hook', \n",
    "                                   'Outro', 'Bridge', 'Refrain', 'Other', np.nan]].fillna(0).values\n",
    "    print(author, parts_freq_feats)"
   ]
  },
  {
   "cell_type": "code",
   "execution_count": null,
   "metadata": {},
   "outputs": [],
   "source": [
    "parts[parts['Author'] == 'Eminem']"
   ]
  },
  {
   "cell_type": "code",
   "execution_count": null,
   "metadata": {},
   "outputs": [],
   "source": [
    "temp = parts[parts['Author'] == 'Feduk']['Part Name'].value_counts(normalize=True, dropna=False)\n",
    "temp"
   ]
  },
  {
   "cell_type": "code",
   "execution_count": null,
   "metadata": {},
   "outputs": [],
   "source": []
  }
 ],
 "metadata": {
  "kernelspec": {
   "display_name": "Python 3",
   "language": "python",
   "name": "python3"
  },
  "language_info": {
   "codemirror_mode": {
    "name": "ipython",
    "version": 3
   },
   "file_extension": ".py",
   "mimetype": "text/x-python",
   "name": "python",
   "nbconvert_exporter": "python",
   "pygments_lexer": "ipython3",
   "version": "3.6.8"
  }
 },
 "nbformat": 4,
 "nbformat_minor": 2
}
