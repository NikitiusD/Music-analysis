{
 "cells": [
  {
   "cell_type": "code",
   "execution_count": 1,
   "metadata": {},
   "outputs": [],
   "source": [
    "import pandas as pd\n",
    "import numpy as np\n",
    "import re\n",
    "import ast\n",
    "\n",
    "import warnings\n",
    "warnings.filterwarnings('ignore')"
   ]
  },
  {
   "cell_type": "markdown",
   "metadata": {},
   "source": [
    "# Initial author features"
   ]
  },
  {
   "cell_type": "code",
   "execution_count": 2,
   "metadata": {},
   "outputs": [
    {
     "data": {
      "text/html": [
       "<div>\n",
       "<style scoped>\n",
       "    .dataframe tbody tr th:only-of-type {\n",
       "        vertical-align: middle;\n",
       "    }\n",
       "\n",
       "    .dataframe tbody tr th {\n",
       "        vertical-align: top;\n",
       "    }\n",
       "\n",
       "    .dataframe thead th {\n",
       "        text-align: right;\n",
       "    }\n",
       "</style>\n",
       "<table border=\"1\" class=\"dataframe\">\n",
       "  <thead>\n",
       "    <tr style=\"text-align: right;\">\n",
       "      <th></th>\n",
       "      <th>Singer</th>\n",
       "      <th>Album</th>\n",
       "      <th>Song</th>\n",
       "      <th>Featuring</th>\n",
       "      <th>Lyrics</th>\n",
       "    </tr>\n",
       "  </thead>\n",
       "  <tbody>\n",
       "    <tr>\n",
       "      <th>0</th>\n",
       "      <td>$UICIDEBOY$</td>\n",
       "      <td>7th or St. Tammany</td>\n",
       "      <td>40 Oz. &amp; Sober</td>\n",
       "      <td>[]</td>\n",
       "      <td>\\n\\n[Hook: Gangsta Pat]\\nKiller, killer, kille...</td>\n",
       "    </tr>\n",
       "    <tr>\n",
       "      <th>1</th>\n",
       "      <td>$UICIDEBOY$</td>\n",
       "      <td>7th or St. Tammany</td>\n",
       "      <td>7th or St. Tammany</td>\n",
       "      <td>[]</td>\n",
       "      <td>\\n\\nUh\\n*59, yah!\\nUhhhh, [?]\\n*59 motherfucke...</td>\n",
       "    </tr>\n",
       "    <tr>\n",
       "      <th>2</th>\n",
       "      <td>$UICIDEBOY$</td>\n",
       "      <td>7th or St. Tammany</td>\n",
       "      <td>Dead Batteries</td>\n",
       "      <td>[]</td>\n",
       "      <td>\\n\\n[Produced by Budd Dwyer]\\n\\n[Intro: Frayse...</td>\n",
       "    </tr>\n",
       "    <tr>\n",
       "      <th>3</th>\n",
       "      <td>$UICIDEBOY$</td>\n",
       "      <td>7th or St. Tammany</td>\n",
       "      <td>Drugs/Hoes/Money/Etc.</td>\n",
       "      <td>[]</td>\n",
       "      <td>\\n\\n[Verse 1: YUNG $NOW]\\nCounting sheep until...</td>\n",
       "    </tr>\n",
       "    <tr>\n",
       "      <th>4</th>\n",
       "      <td>$UICIDEBOY$</td>\n",
       "      <td>7th or St. Tammany</td>\n",
       "      <td>I’ll Pay for It (If I Want It)</td>\n",
       "      <td>[]</td>\n",
       "      <td>\\n\\n[Verse 1: RUBY DA CHERRY]\\nFucking Ruby go...</td>\n",
       "    </tr>\n",
       "  </tbody>\n",
       "</table>\n",
       "</div>"
      ],
      "text/plain": [
       "        Singer               Album                            Song Featuring  \\\n",
       "0  $UICIDEBOY$  7th or St. Tammany                  40 Oz. & Sober        []   \n",
       "1  $UICIDEBOY$  7th or St. Tammany              7th or St. Tammany        []   \n",
       "2  $UICIDEBOY$  7th or St. Tammany                  Dead Batteries        []   \n",
       "3  $UICIDEBOY$  7th or St. Tammany           Drugs/Hoes/Money/Etc.        []   \n",
       "4  $UICIDEBOY$  7th or St. Tammany  I’ll Pay for It (If I Want It)        []   \n",
       "\n",
       "                                              Lyrics  \n",
       "0  \\n\\n[Hook: Gangsta Pat]\\nKiller, killer, kille...  \n",
       "1  \\n\\nUh\\n*59, yah!\\nUhhhh, [?]\\n*59 motherfucke...  \n",
       "2  \\n\\n[Produced by Budd Dwyer]\\n\\n[Intro: Frayse...  \n",
       "3  \\n\\n[Verse 1: YUNG $NOW]\\nCounting sheep until...  \n",
       "4  \\n\\n[Verse 1: RUBY DA CHERRY]\\nFucking Ruby go...  "
      ]
     },
     "execution_count": 2,
     "metadata": {},
     "output_type": "execute_result"
    }
   ],
   "source": [
    "songs = pd.read_csv('songs_dataset.csv', index_col=0)\n",
    "songs.head()"
   ]
  },
  {
   "cell_type": "code",
   "execution_count": 3,
   "metadata": {},
   "outputs": [],
   "source": [
    "def format_lyrics(lyrics):\n",
    "    lyrics = re.sub('[*.,!:?\\\"\\'«»]', '', lyrics)\n",
    "    lyrics = re.sub('[-–—— ]+', ' ', lyrics)\n",
    "    lyrics = lyrics.strip()\n",
    "    lyrics = lyrics.lower()\n",
    "    return lyrics"
   ]
  },
  {
   "cell_type": "code",
   "execution_count": 4,
   "metadata": {},
   "outputs": [],
   "source": [
    "agg_funcs = ['max', 'mean', 'median', 'std', 'var']\n",
    "def get_agg_feats_names(base_name):\n",
    "    return [f'{base_name}_{agg_func}' for agg_func in agg_funcs]"
   ]
  },
  {
   "cell_type": "code",
   "execution_count": 5,
   "metadata": {
    "scrolled": true
   },
   "outputs": [
    {
     "name": "stdout",
     "output_type": "stream",
     "text": [
      "(1947, 48)\n",
      "Wall time: 22min 8s\n"
     ]
    }
   ],
   "source": [
    "%%time\n",
    "authors_features = []\n",
    "for author, author_df in songs.groupby('Singer'):\n",
    "    songs_count = author_df.shape[0]\n",
    "    albums_count = author_df['Album'].nunique()\n",
    "    \n",
    "    author_df['Lyrics'] = author_df['Lyrics'].apply(format_lyrics)\n",
    "    \n",
    "    words = author_df['Lyrics'].apply(lambda x: x.split())\n",
    "    words_len = words.apply(lambda x: pd.Series(map(len, x)))\n",
    "    words_len_feats = words_len.agg(agg_funcs+['min'])\n",
    "    words_len_feats = words_len_feats.agg(agg_funcs, axis=1)\n",
    "    words_len_feats_names = [f'{col}_from_{ind}_words_len' for ind in words_len_feats.index \n",
    "                                                           for col in words_len_feats.columns]\n",
    "    words_len_feats = words_len_feats.values.flatten().tolist()\n",
    "\n",
    "    words_count = words.apply(len)\n",
    "    unique_words_count = words.apply(lambda x: len(list(set(x))))\n",
    "    uniq_words_prop = unique_words_count / words_count\n",
    "    uniq_words_prop_feats = uniq_words_prop.agg(agg_funcs).values.tolist()\n",
    "    uniq_words_prop_feats_names = get_agg_feats_names(f'uniq_words_prop')\n",
    "    \n",
    "    featuring_count = author_df['Featuring'].apply(lambda x: len(ast.literal_eval(x)))\n",
    "    featuring_count = featuring_count.agg(agg_funcs)\n",
    "    \n",
    "    lyrics_rows_count = author_df['Lyrics'].apply(lambda x: len(x.split('\\n')))\n",
    "    lyrics_rows_count = lyrics_rows_count.agg(agg_funcs)\n",
    "    \n",
    "    features = [author, songs_count, albums_count, \n",
    "                *words_len_feats, \n",
    "                *uniq_words_prop_feats, \n",
    "                *featuring_count, \n",
    "                *lyrics_rows_count]\n",
    "    authors_features.append(features)\n",
    "\n",
    "authors = pd.DataFrame(authors_features, columns=['Singer', 'songs_count', 'albums_count',\n",
    "                                                  *words_len_feats_names,\n",
    "                                                  *uniq_words_prop_feats_names,\n",
    "                                                  *get_agg_feats_names('feats_count'),\n",
    "                                                  *get_agg_feats_names('lyrics_rows_count')])\n",
    "print(authors.shape)"
   ]
  },
  {
   "cell_type": "markdown",
   "metadata": {},
   "source": [
    "(492, 48)  \n",
    "Wall time: 7min 30s"
   ]
  },
  {
   "cell_type": "code",
   "execution_count": 8,
   "metadata": {},
   "outputs": [
    {
     "data": {
      "text/html": [
       "<div>\n",
       "<style scoped>\n",
       "    .dataframe tbody tr th:only-of-type {\n",
       "        vertical-align: middle;\n",
       "    }\n",
       "\n",
       "    .dataframe tbody tr th {\n",
       "        vertical-align: top;\n",
       "    }\n",
       "\n",
       "    .dataframe thead th {\n",
       "        text-align: right;\n",
       "    }\n",
       "</style>\n",
       "<table border=\"1\" class=\"dataframe\">\n",
       "  <thead>\n",
       "    <tr style=\"text-align: right;\">\n",
       "      <th></th>\n",
       "      <th>Singer</th>\n",
       "      <th>songs_count</th>\n",
       "      <th>albums_count</th>\n",
       "      <th>max_from_max_words_len</th>\n",
       "      <th>mean_from_max_words_len</th>\n",
       "      <th>median_from_max_words_len</th>\n",
       "      <th>std_from_max_words_len</th>\n",
       "      <th>var_from_max_words_len</th>\n",
       "      <th>max_from_mean_words_len</th>\n",
       "      <th>mean_from_mean_words_len</th>\n",
       "      <th>...</th>\n",
       "      <th>feats_count_max</th>\n",
       "      <th>feats_count_mean</th>\n",
       "      <th>feats_count_median</th>\n",
       "      <th>feats_count_std</th>\n",
       "      <th>feats_count_var</th>\n",
       "      <th>lyrics_rows_count_max</th>\n",
       "      <th>lyrics_rows_count_mean</th>\n",
       "      <th>lyrics_rows_count_median</th>\n",
       "      <th>lyrics_rows_count_std</th>\n",
       "      <th>lyrics_rows_count_var</th>\n",
       "    </tr>\n",
       "  </thead>\n",
       "  <tbody>\n",
       "    <tr>\n",
       "      <th>0</th>\n",
       "      <td>$UICIDEBOY$</td>\n",
       "      <td>227</td>\n",
       "      <td>40</td>\n",
       "      <td>30.0</td>\n",
       "      <td>8.685691</td>\n",
       "      <td>8.0</td>\n",
       "      <td>3.213507</td>\n",
       "      <td>10.326625</td>\n",
       "      <td>8.000000</td>\n",
       "      <td>4.008446</td>\n",
       "      <td>...</td>\n",
       "      <td>3.0</td>\n",
       "      <td>0.158590</td>\n",
       "      <td>0.0</td>\n",
       "      <td>0.432582</td>\n",
       "      <td>0.187127</td>\n",
       "      <td>165.0</td>\n",
       "      <td>50.678414</td>\n",
       "      <td>47.0</td>\n",
       "      <td>24.075244</td>\n",
       "      <td>579.617364</td>\n",
       "    </tr>\n",
       "    <tr>\n",
       "      <th>1</th>\n",
       "      <td>...And You Will Know Us by the Trail of Dead</td>\n",
       "      <td>85</td>\n",
       "      <td>10</td>\n",
       "      <td>15.0</td>\n",
       "      <td>7.710027</td>\n",
       "      <td>8.0</td>\n",
       "      <td>2.753443</td>\n",
       "      <td>7.581448</td>\n",
       "      <td>10.000000</td>\n",
       "      <td>3.894231</td>\n",
       "      <td>...</td>\n",
       "      <td>0.0</td>\n",
       "      <td>0.000000</td>\n",
       "      <td>0.0</td>\n",
       "      <td>0.000000</td>\n",
       "      <td>0.000000</td>\n",
       "      <td>81.0</td>\n",
       "      <td>32.152941</td>\n",
       "      <td>30.0</td>\n",
       "      <td>14.086895</td>\n",
       "      <td>198.440616</td>\n",
       "    </tr>\n",
       "    <tr>\n",
       "      <th>2</th>\n",
       "      <td>.Otrix</td>\n",
       "      <td>113</td>\n",
       "      <td>17</td>\n",
       "      <td>20.0</td>\n",
       "      <td>9.479532</td>\n",
       "      <td>10.0</td>\n",
       "      <td>3.004565</td>\n",
       "      <td>9.027412</td>\n",
       "      <td>8.000000</td>\n",
       "      <td>4.190111</td>\n",
       "      <td>...</td>\n",
       "      <td>2.0</td>\n",
       "      <td>0.123894</td>\n",
       "      <td>0.0</td>\n",
       "      <td>0.356890</td>\n",
       "      <td>0.127370</td>\n",
       "      <td>121.0</td>\n",
       "      <td>49.318584</td>\n",
       "      <td>47.0</td>\n",
       "      <td>20.675324</td>\n",
       "      <td>427.469027</td>\n",
       "    </tr>\n",
       "    <tr>\n",
       "      <th>3</th>\n",
       "      <td>10cc</td>\n",
       "      <td>136</td>\n",
       "      <td>14</td>\n",
       "      <td>29.0</td>\n",
       "      <td>7.962416</td>\n",
       "      <td>8.0</td>\n",
       "      <td>3.051737</td>\n",
       "      <td>9.313102</td>\n",
       "      <td>12.666667</td>\n",
       "      <td>4.003390</td>\n",
       "      <td>...</td>\n",
       "      <td>0.0</td>\n",
       "      <td>0.000000</td>\n",
       "      <td>0.0</td>\n",
       "      <td>0.000000</td>\n",
       "      <td>0.000000</td>\n",
       "      <td>130.0</td>\n",
       "      <td>46.801471</td>\n",
       "      <td>43.5</td>\n",
       "      <td>17.487697</td>\n",
       "      <td>305.819553</td>\n",
       "    </tr>\n",
       "    <tr>\n",
       "      <th>4</th>\n",
       "      <td>116</td>\n",
       "      <td>56</td>\n",
       "      <td>5</td>\n",
       "      <td>15.0</td>\n",
       "      <td>8.173695</td>\n",
       "      <td>8.0</td>\n",
       "      <td>2.415393</td>\n",
       "      <td>5.834121</td>\n",
       "      <td>10.000000</td>\n",
       "      <td>3.881165</td>\n",
       "      <td>...</td>\n",
       "      <td>7.0</td>\n",
       "      <td>2.107143</td>\n",
       "      <td>2.0</td>\n",
       "      <td>1.580317</td>\n",
       "      <td>2.497403</td>\n",
       "      <td>128.0</td>\n",
       "      <td>77.410714</td>\n",
       "      <td>78.5</td>\n",
       "      <td>25.803296</td>\n",
       "      <td>665.810065</td>\n",
       "    </tr>\n",
       "  </tbody>\n",
       "</table>\n",
       "<p>5 rows × 48 columns</p>\n",
       "</div>"
      ],
      "text/plain": [
       "                                         Singer  songs_count  albums_count  \\\n",
       "0                                   $UICIDEBOY$          227            40   \n",
       "1  ...And You Will Know Us by the Trail of Dead           85            10   \n",
       "2                                        .Otrix          113            17   \n",
       "3                                          10cc          136            14   \n",
       "4                                           116           56             5   \n",
       "\n",
       "   max_from_max_words_len  mean_from_max_words_len  median_from_max_words_len  \\\n",
       "0                    30.0                 8.685691                        8.0   \n",
       "1                    15.0                 7.710027                        8.0   \n",
       "2                    20.0                 9.479532                       10.0   \n",
       "3                    29.0                 7.962416                        8.0   \n",
       "4                    15.0                 8.173695                        8.0   \n",
       "\n",
       "   std_from_max_words_len  var_from_max_words_len  max_from_mean_words_len  \\\n",
       "0                3.213507               10.326625                 8.000000   \n",
       "1                2.753443                7.581448                10.000000   \n",
       "2                3.004565                9.027412                 8.000000   \n",
       "3                3.051737                9.313102                12.666667   \n",
       "4                2.415393                5.834121                10.000000   \n",
       "\n",
       "   mean_from_mean_words_len  ...  feats_count_max  feats_count_mean  \\\n",
       "0                  4.008446  ...              3.0          0.158590   \n",
       "1                  3.894231  ...              0.0          0.000000   \n",
       "2                  4.190111  ...              2.0          0.123894   \n",
       "3                  4.003390  ...              0.0          0.000000   \n",
       "4                  3.881165  ...              7.0          2.107143   \n",
       "\n",
       "   feats_count_median  feats_count_std  feats_count_var  \\\n",
       "0                 0.0         0.432582         0.187127   \n",
       "1                 0.0         0.000000         0.000000   \n",
       "2                 0.0         0.356890         0.127370   \n",
       "3                 0.0         0.000000         0.000000   \n",
       "4                 2.0         1.580317         2.497403   \n",
       "\n",
       "   lyrics_rows_count_max  lyrics_rows_count_mean  lyrics_rows_count_median  \\\n",
       "0                  165.0               50.678414                      47.0   \n",
       "1                   81.0               32.152941                      30.0   \n",
       "2                  121.0               49.318584                      47.0   \n",
       "3                  130.0               46.801471                      43.5   \n",
       "4                  128.0               77.410714                      78.5   \n",
       "\n",
       "   lyrics_rows_count_std  lyrics_rows_count_var  \n",
       "0              24.075244             579.617364  \n",
       "1              14.086895             198.440616  \n",
       "2              20.675324             427.469027  \n",
       "3              17.487697             305.819553  \n",
       "4              25.803296             665.810065  \n",
       "\n",
       "[5 rows x 48 columns]"
      ]
     },
     "execution_count": 8,
     "metadata": {},
     "output_type": "execute_result"
    }
   ],
   "source": [
    "authors.head()"
   ]
  },
  {
   "cell_type": "code",
   "execution_count": 9,
   "metadata": {},
   "outputs": [],
   "source": [
    "authors.to_csv('artist_dataset.csv')"
   ]
  },
  {
   "cell_type": "markdown",
   "metadata": {},
   "source": [
    "# Author features from parts"
   ]
  },
  {
   "cell_type": "code",
   "execution_count": null,
   "metadata": {
    "scrolled": true
   },
   "outputs": [],
   "source": [
    "parts = pd.read_csv('parts_dataset.csv', index_col=0)\n",
    "all_singers = parts['Singer'].unique().tolist()\n",
    "parts.head()"
   ]
  },
  {
   "cell_type": "code",
   "execution_count": null,
   "metadata": {},
   "outputs": [],
   "source": [
    "parts['Part Name'].unique()"
   ]
  },
  {
   "cell_type": "code",
   "execution_count": null,
   "metadata": {},
   "outputs": [],
   "source": [
    "def format_lyrics(lyrics):\n",
    "    lyrics = re.sub('[*.’,!:?\\\"\\'«»]', '', lyrics)\n",
    "    lyrics = re.sub('[-–—— \\s]+', ' ', lyrics)\n",
    "    lyrics = lyrics.strip()\n",
    "    lyrics = lyrics.lower()\n",
    "    return lyrics"
   ]
  },
  {
   "cell_type": "code",
   "execution_count": null,
   "metadata": {
    "scrolled": true
   },
   "outputs": [],
   "source": [
    "def get_part_features(part_df, part_name):\n",
    "    part_df['Part Lyrics'] = part_df['Part Lyrics'].apply(format_lyrics)\n",
    "\n",
    "    words = part_df['Part Lyrics'].apply(lambda x: x.split())\n",
    "    words_len = words.apply(lambda x: pd.Series(map(len, x)))\n",
    "#     print(words_len)\n",
    "    words_len_feats = words_len.agg(agg_funcs+['min'])\n",
    "    print(words_len_feats)\n",
    "    words_len_feats = words_len_feats.agg(agg_funcs, axis=1)\n",
    "#     print(words_len_feats)\n",
    "    words_len_feats_names = [f'{part_name}_{col}_from_{ind}_words_len' for ind in words_len_feats.index \n",
    "                                                                       for col in words_len_feats.columns]\n",
    "    words_len_feats = words_len_feats.values.flatten().tolist()\n",
    "    \n",
    "    words_count = words.apply(len)\n",
    "    unique_words_count = words.apply(lambda x: len(list(set(x))))\n",
    "    uniq_words_prop = unique_words_count / words_count\n",
    "    uniq_words_prop_feats = uniq_words_prop.agg(agg_funcs).values.tolist()\n",
    "    uniq_words_prop_feats_names = get_agg_feats_names(f'{part_name}_uniq_words_prop')\n",
    "#     print('!!!!!!!!!!!!!!!!!!!!!!!!!!!!!!!!!!!!!!!!!!!!!!!!!!!!!!!')\n",
    "    return words_len_feats + uniq_words_prop_feats, words_len_feats_names + uniq_words_prop_feats_names\n",
    "\n",
    "\n",
    "singers_features = []\n",
    "\n",
    "for singer, singer_df in parts.iloc[:1000, :].groupby('Part Singer'):\n",
    "    if singer not in all_singers:\n",
    "        continue\n",
    "    print(singer)\n",
    "    parts_freq = singer_df['Part Name'].value_counts(normalize=True, dropna=False)\n",
    "    parts_freq_feats = parts_freq[['Verse', 'Chorus', 'Intro', 'Hook', \n",
    "                                   'Outro', 'Bridge', 'Refrain', 'Skit', 'Other', np.nan]].fillna(0).values[:-2]\n",
    "    verse_features, verse_features_names = get_part_features(singer_df[singer_df['Part Name'] == 'Verse'], 'Verse')\n",
    "#     chorus_features, chorus_features_names = get_part_features(singer_df[singer_df['Part Name'] == 'Chorus'], 'Chorus')\n",
    "\n",
    "#     print(singer)\n",
    "#     singers_features.append()"
   ]
  },
  {
   "cell_type": "code",
   "execution_count": null,
   "metadata": {
    "scrolled": true
   },
   "outputs": [],
   "source": [
    "temp = parts[(parts['Part Singer'] == 'Chris Brown') & (parts['Part Name'] == 'Verse')]\n",
    "temp.head()"
   ]
  },
  {
   "cell_type": "code",
   "execution_count": null,
   "metadata": {},
   "outputs": [],
   "source": [
    "temp['Part Lyrics'] = temp['Part Lyrics'].apply(format_lyrics)"
   ]
  },
  {
   "cell_type": "code",
   "execution_count": null,
   "metadata": {},
   "outputs": [],
   "source": [
    "temp_ = temp['Part Lyrics'].apply(lambda x: x.split()).apply(lambda x: pd.Series(map(len, x))).agg(agg_funcs+['min']).agg(agg_funcs, axis=1)\n",
    "temp_"
   ]
  },
  {
   "cell_type": "code",
   "execution_count": null,
   "metadata": {
    "scrolled": true
   },
   "outputs": [],
   "source": [
    "temp['Part Lyrics'].apply(lambda x: x.split()).apply(lambda x: len(list(set(x))))"
   ]
  },
  {
   "cell_type": "code",
   "execution_count": null,
   "metadata": {},
   "outputs": [],
   "source": [
    "[f'{col}_from_{ind}_words_len' for ind in temp_.index for col in temp_.columns]"
   ]
  },
  {
   "cell_type": "code",
   "execution_count": null,
   "metadata": {},
   "outputs": [],
   "source": [
    "temp_.values.flatten().tolist()"
   ]
  },
  {
   "cell_type": "code",
   "execution_count": null,
   "metadata": {},
   "outputs": [],
   "source": []
  }
 ],
 "metadata": {
  "kernelspec": {
   "display_name": "Python 3",
   "language": "python",
   "name": "python3"
  },
  "language_info": {
   "codemirror_mode": {
    "name": "ipython",
    "version": 3
   },
   "file_extension": ".py",
   "mimetype": "text/x-python",
   "name": "python",
   "nbconvert_exporter": "python",
   "pygments_lexer": "ipython3",
   "version": "3.6.8"
  }
 },
 "nbformat": 4,
 "nbformat_minor": 2
}
