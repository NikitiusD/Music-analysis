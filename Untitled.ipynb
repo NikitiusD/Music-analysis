{
 "cells": [
  {
   "cell_type": "code",
   "execution_count": 1,
   "metadata": {},
   "outputs": [],
   "source": [
    "import pandas as pd"
   ]
  },
  {
   "cell_type": "code",
   "execution_count": 5,
   "metadata": {},
   "outputs": [
    {
     "data": {
      "text/plain": [
       "['res0.csv', 'res1.csv', 'res2.csv', 'res3.csv', 'res4.csv']"
      ]
     },
     "execution_count": 5,
     "metadata": {},
     "output_type": "execute_result"
    }
   ],
   "source": [
    "files = [f'res{i}.csv' for i in range(5)]\n",
    "files"
   ]
  },
  {
   "cell_type": "code",
   "execution_count": 6,
   "metadata": {},
   "outputs": [],
   "source": [
    "dfs = [pd.read_csv(f'files/{file}', index_col=0) for file in files]"
   ]
  },
  {
   "cell_type": "code",
   "execution_count": 7,
   "metadata": {},
   "outputs": [
    {
     "name": "stdout",
     "output_type": "stream",
     "text": [
      "(90275, 9)\n",
      "(52064, 9)\n",
      "(70748, 9)\n",
      "(75909, 9)\n",
      "(3627, 9)\n"
     ]
    }
   ],
   "source": [
    "for df in dfs:\n",
    "    print(df.shape)"
   ]
  },
  {
   "cell_type": "code",
   "execution_count": 8,
   "metadata": {},
   "outputs": [],
   "source": [
    "df = pd.concat(dfs)"
   ]
  },
  {
   "cell_type": "code",
   "execution_count": 9,
   "metadata": {},
   "outputs": [
    {
     "data": {
      "text/plain": [
       "(292623, 9)"
      ]
     },
     "execution_count": 9,
     "metadata": {},
     "output_type": "execute_result"
    }
   ],
   "source": [
    "df.shape"
   ]
  },
  {
   "cell_type": "code",
   "execution_count": 10,
   "metadata": {},
   "outputs": [
    {
     "data": {
      "text/html": [
       "<div>\n",
       "<style scoped>\n",
       "    .dataframe tbody tr th:only-of-type {\n",
       "        vertical-align: middle;\n",
       "    }\n",
       "\n",
       "    .dataframe tbody tr th {\n",
       "        vertical-align: top;\n",
       "    }\n",
       "\n",
       "    .dataframe thead th {\n",
       "        text-align: right;\n",
       "    }\n",
       "</style>\n",
       "<table border=\"1\" class=\"dataframe\">\n",
       "  <thead>\n",
       "    <tr style=\"text-align: right;\">\n",
       "      <th></th>\n",
       "      <th>artist</th>\n",
       "      <th>album</th>\n",
       "      <th>song</th>\n",
       "      <th>date</th>\n",
       "      <th>produced by</th>\n",
       "      <th>written by</th>\n",
       "      <th>featuring</th>\n",
       "      <th>tags</th>\n",
       "      <th>text</th>\n",
       "    </tr>\n",
       "  </thead>\n",
       "  <tbody>\n",
       "    <tr>\n",
       "      <th>0</th>\n",
       "      <td>EIGHTEEN</td>\n",
       "      <td>DELIGHT</td>\n",
       "      <td>Анна (Ann)</td>\n",
       "      <td>2018-11-23</td>\n",
       "      <td>['Найкер (Nick Niker)', 'Mike Ty', 'BOL', 'EIG...</td>\n",
       "      <td>['EIGHTEEN']</td>\n",
       "      <td>[]</td>\n",
       "      <td>['Русское аренби (Russian R&amp;B)', 'R&amp;B', 'Русск...</td>\n",
       "      <td>\\n\\n[Текст песни “Анна”]\\n\\n[Куплет 1]\\nВечери...</td>\n",
       "    </tr>\n",
       "    <tr>\n",
       "      <th>1</th>\n",
       "      <td>EIGHTEEN</td>\n",
       "      <td>DELIGHT</td>\n",
       "      <td>Вода (Water)</td>\n",
       "      <td>2018-11-16</td>\n",
       "      <td>['Mike Ty', 'EIGHTEEN', 'BOL', 'Найкер (Nick N...</td>\n",
       "      <td>['EIGHTEEN']</td>\n",
       "      <td>[]</td>\n",
       "      <td>['Россия (Russia)', 'Русский рэп (Russian Rap)...</td>\n",
       "      <td>\\n\\n[Текст песни “Вода”]\\n\\n[Интро]\\nМои руки ...</td>\n",
       "    </tr>\n",
       "    <tr>\n",
       "      <th>2</th>\n",
       "      <td>EIGHTEEN</td>\n",
       "      <td>DELIGHT</td>\n",
       "      <td>Ещё (More)</td>\n",
       "      <td>2018-11-23</td>\n",
       "      <td>['Mike Ty', 'EIGHTEEN', 'BOL', 'Найкер (Nick N...</td>\n",
       "      <td>['EIGHTEEN']</td>\n",
       "      <td>[]</td>\n",
       "      <td>['Русский рэп (Russian Rap)', 'Россия (Russia)...</td>\n",
       "      <td>\\n\\n[Текст песни “Ещё”]\\n\\n[Припев]\\nТы привык...</td>\n",
       "    </tr>\n",
       "    <tr>\n",
       "      <th>3</th>\n",
       "      <td>EIGHTEEN</td>\n",
       "      <td>NaN</td>\n",
       "      <td>Земной шар (Globe)</td>\n",
       "      <td>2018-03-27</td>\n",
       "      <td>['Найкер (Nick Niker)', 'BOL', 'Mike Ty', 'EIG...</td>\n",
       "      <td>['EIGHTEEN']</td>\n",
       "      <td>[]</td>\n",
       "      <td>['Dance-Pop', 'R&amp;B']</td>\n",
       "      <td>\\n\\n[Припев]\\nЯ чувствую, когда ты танцуешь кл...</td>\n",
       "    </tr>\n",
       "    <tr>\n",
       "      <th>4</th>\n",
       "      <td>EIGHTEEN</td>\n",
       "      <td>DELIGHT</td>\n",
       "      <td>Земной шар+ (Globe Plus)</td>\n",
       "      <td>2018-11-23</td>\n",
       "      <td>['BOL', 'Найкер (Nick Niker)', 'EIGHTEEN', 'Mi...</td>\n",
       "      <td>['EIGHTEEN']</td>\n",
       "      <td>[]</td>\n",
       "      <td>['Русский рэп (Russian Rap)', 'Россия (Russia)...</td>\n",
       "      <td>\\n\\n[Текст песни “Земной шар+”]\\n\\n[Припев]\\nА...</td>\n",
       "    </tr>\n",
       "  </tbody>\n",
       "</table>\n",
       "</div>"
      ],
      "text/plain": [
       "     artist    album                      song        date  \\\n",
       "0  EIGHTEEN  DELIGHT                Анна (Ann)  2018-11-23   \n",
       "1  EIGHTEEN  DELIGHT              Вода (Water)  2018-11-16   \n",
       "2  EIGHTEEN  DELIGHT                Ещё (More)  2018-11-23   \n",
       "3  EIGHTEEN      NaN        Земной шар (Globe)  2018-03-27   \n",
       "4  EIGHTEEN  DELIGHT  Земной шар+ (Globe Plus)  2018-11-23   \n",
       "\n",
       "                                         produced by    written by featuring  \\\n",
       "0  ['Найкер (Nick Niker)', 'Mike Ty', 'BOL', 'EIG...  ['EIGHTEEN']        []   \n",
       "1  ['Mike Ty', 'EIGHTEEN', 'BOL', 'Найкер (Nick N...  ['EIGHTEEN']        []   \n",
       "2  ['Mike Ty', 'EIGHTEEN', 'BOL', 'Найкер (Nick N...  ['EIGHTEEN']        []   \n",
       "3  ['Найкер (Nick Niker)', 'BOL', 'Mike Ty', 'EIG...  ['EIGHTEEN']        []   \n",
       "4  ['BOL', 'Найкер (Nick Niker)', 'EIGHTEEN', 'Mi...  ['EIGHTEEN']        []   \n",
       "\n",
       "                                                tags  \\\n",
       "0  ['Русское аренби (Russian R&B)', 'R&B', 'Русск...   \n",
       "1  ['Россия (Russia)', 'Русский рэп (Russian Rap)...   \n",
       "2  ['Русский рэп (Russian Rap)', 'Россия (Russia)...   \n",
       "3                               ['Dance-Pop', 'R&B']   \n",
       "4  ['Русский рэп (Russian Rap)', 'Россия (Russia)...   \n",
       "\n",
       "                                                text  \n",
       "0  \\n\\n[Текст песни “Анна”]\\n\\n[Куплет 1]\\nВечери...  \n",
       "1  \\n\\n[Текст песни “Вода”]\\n\\n[Интро]\\nМои руки ...  \n",
       "2  \\n\\n[Текст песни “Ещё”]\\n\\n[Припев]\\nТы привык...  \n",
       "3  \\n\\n[Припев]\\nЯ чувствую, когда ты танцуешь кл...  \n",
       "4  \\n\\n[Текст песни “Земной шар+”]\\n\\n[Припев]\\nА...  "
      ]
     },
     "execution_count": 10,
     "metadata": {},
     "output_type": "execute_result"
    }
   ],
   "source": [
    "df.head()"
   ]
  },
  {
   "cell_type": "code",
   "execution_count": 11,
   "metadata": {},
   "outputs": [],
   "source": [
    "df.to_csv('all_parsed_songs.csv')"
   ]
  },
  {
   "cell_type": "code",
   "execution_count": null,
   "metadata": {},
   "outputs": [],
   "source": []
  }
 ],
 "metadata": {
  "kernelspec": {
   "display_name": "Python 3",
   "language": "python",
   "name": "python3"
  },
  "language_info": {
   "codemirror_mode": {
    "name": "ipython",
    "version": 3
   },
   "file_extension": ".py",
   "mimetype": "text/x-python",
   "name": "python",
   "nbconvert_exporter": "python",
   "pygments_lexer": "ipython3",
   "version": "3.6.8"
  }
 },
 "nbformat": 4,
 "nbformat_minor": 2
}
