{
 "cells": [
  {
   "cell_type": "code",
   "execution_count": 1,
   "metadata": {},
   "outputs": [],
   "source": [
    "import pandas as pd\n",
    "import os\n",
    "import re"
   ]
  },
  {
   "cell_type": "code",
   "execution_count": 47,
   "metadata": {},
   "outputs": [],
   "source": [
    "# path = 'Kanye West_NBA 2K13 Soundtrack_Mercy_2 Chainz_Pusha T_Big Sean.txt'\n",
    "path = 'Logic_Confessions of a Dangerous Mind_Homicide_Eminem.txt'\n",
    "# path = 'Eminem_Kamikaze_Venom.txt'\n",
    "song_lyrics = open(f'lyrics_dataset/{path}').read()"
   ]
  },
  {
   "cell_type": "code",
   "execution_count": 48,
   "metadata": {
    "scrolled": true
   },
   "outputs": [
    {
     "name": "stdout",
     "output_type": "stream",
     "text": [
      "[Intro: Smokey Legendary, Logic & Both]\n",
      "Son, you know why you the greatest alive?\n",
      "Why, Dad?\n",
      "Because you came out of my balls, nigga\n",
      "Hahahahahaha\n",
      "(Roof!)\n",
      "\n",
      "[Chorus: Logic]\n",
      "Fuck rap\n",
      "Bustin' like an addict with a semi-automatic\n",
      "Who done had it, and he ready for anybody to buck back\n",
      "Hold up, catch a vibe, ain't no way in hell we leavin' nobody alive\n",
      "Leave a suicide note, fuck that\n",
      "Bobby feelin' villainous, he killin' this\n",
      "I'm comin' for your man and his lady and even the baby\n",
      "I'm feelin' like I'm, chika-chika-chika, Slim Shady with rabies\n",
      "\n",
      "[Verse 1: Logic]\n",
      "I'm foamin' at the mouth, ain't nobody takin' me out\n",
      "Every single rapper in the industry, yeah, they know what I'm about\n",
      "And I dare you to test me\n",
      "'Cause not a single one of you motherfuckers impress me\n",
      "And maybe that's a little bit of an exaggeration\n",
      "But I'm full of innovation\n",
      "And I'm tired of all of this high school \"He's cool, he's not\" rap shit\n",
      "Can a single one of you motherfuckers even rap? Shit\n",
      "No, this ain't a diss to the game, this a gas to the flame\n",
      "Nowadays, everybody sound the same, shit's lame\n",
      "Like a moth to the flame, I'ma reel 'em in and kill 'em\n",
      "Know you feelin' lyricism when I'm spillin' it, I'm feelin' myself\n",
      "Yeah, yeah, Bobby Boy, he be feelin' himself\n",
      "Mass murder like this can't be good for my health\n",
      "When I rap like this, do I sound like shit?\n",
      "Well, it don't really matter, 'cause I'm killin' this shit\n",
      "Yeah, I'm killin' this shit\n",
      "Oh yeah, oh yeah, I'm killin' this shit\n",
      "Bobby, how many times you been killin' this shit?\n",
      "Find another rhyme, goddamn, nigga, shit\n",
      "\n",
      "[Chorus: Logic]\n",
      "Fuck rap\n",
      "Bustin' like an addict with a semi-automatic\n",
      "Who done had it, and he ready for anybody to buck back\n",
      "Hold up, catch a vibe, ain't no way in hell we leavin' nobody alive\n",
      "Leave a suicide note, fuck that\n",
      "Bobby feelin' villainous, he killin' this\n",
      "I'm comin' for your man and his lady and even the baby\n",
      "I'm feelin' like I'm, chika-chika-chika-chika\n",
      "Chika-chika-chika-chika-chika, Slim Shady\n",
      "\n",
      "[Verse 2: Logic]\n",
      "There's nowhere to hide, we call this shit genocide\n",
      "Hit 'em with that (Do-do-do) and they die\n",
      "We gon' leave 'em crucified, we call this shit genocide\n",
      "I got bitches, I got hoes, I got rare designer clothes\n",
      "No, we ain't fuckin' with that\n",
      "Yeah, there's a time and a place\n",
      "But if you ain't comin' with the illest of raps\n",
      "Callin' yourself the greatest alive\n",
      "Then you don't deserve to do that\n",
      "No, no, oh no, no, please do not do that\n",
      "You gon' get smacked\n",
      "You gon' make Bobby attack\n",
      "You gon' make Bobby Boy snap\n",
      "You gon' make Bobby Boy snap (Bobby Boy!)\n",
      "\n",
      "[Chorus: Logic]\n",
      "Fuck rap\n",
      "Bustin' like an addict with a semi-automatic\n",
      "Who done had it, and he ready for anybody to buck back\n",
      "Hold up, catch a vibe, ain't no way in hell we leavin' nobody alive\n",
      "Leave a suicide note, fuck that\n",
      "Bobby feelin' villainous, he killin' this\n",
      "I'm comin' for your man and his lady and even the baby\n",
      "I'm feelin' like I'm chika-chika-chika-chika\n",
      "Chika-chika-chika-chika-chika, Slim Shady\n",
      "\n",
      "[Verse 3: Eminem]\n",
      "Jigga-jigga-jigga-jigga-jigga like JAY-Z\n",
      "Jig is up, you fuckers who didn't write anything\n",
      "Are getting washed, liga-liga-liga, like bathing\n",
      "Young Hova, I know hitters like Yankees\n",
      "Gun toters that pull triggers like crazy\n",
      "Unloadin', leave you shot up in your Rover\n",
      "Your body goes limp and slumps over\n",
      "Like A-Rod in a month lull, but he just homered\n",
      "Hol' up, I said \"Rover\" because now your Rover is red\n",
      "Like Red Rover, so you know what I meant\n",
      "But I roll over my opponents instead\n",
      "Makin' dog sounds 'cause I gotta keep breakin' these bars down\n",
      "I'll go slow for the speds\n",
      "But when I go (Roof!) like the Dobermann said\n",
      "I still think the (Roof!) would go over your head (Ha-ha)\n",
      "Beast mode, motherfuckers 'bout to get hit\n",
      "With so many foul lines, you'll think I'm a free throw\n",
      "Figured it was about time for people to eat crow\n",
      "You about to get out-rhymed, how could I be dethroned?\n",
      "I stay on my toes like the repo, a behemoth in sheep's clothes\n",
      "From the East Coast to the West, I'm the ethos and I'm the G.O.A.T\n",
      "Who the best, I don't gotta say a fuckin' thing, though\n",
      "'Cause MCs know\n",
      "But you don't wanna hear me spit the facts\n",
      "Your shit is ass like a tailbone\n",
      "Or you're trapped in your cell phone\n",
      "Or my chicken scratch, or my self-loathe\n",
      "I don't wanna fuckin' listen to you spit your raps someone else wrote\n",
      "Used to get beat up by the big kids\n",
      "Used to let the big kids steal my big wheel\n",
      "And I wouldn't do shit but just sit still\n",
      "Now money's not a big deal\n",
      "I'm rich, I wipe my ass with six mill'\n",
      "Big bills like a platypus\n",
      "A caterpillar's comin' to get the cannabis\n",
      "I'm lookin' for the smoke but you motherfuckers are scatterin'\n",
      "Batterin' everything and I've had it with the inadequate\n",
      "Man, I can see my dick is standin' stiff as a mannequin\n",
      "And I'm bringin' the bandana back, and the fuckin' headband again\n",
      "A handkerchief and I'm thinkin' of bringin' the fuckin' fingerless gloves back\n",
      "And not giving a singular fuck, like fuck rap\n",
      "I sound like a fuckin' millionaire\n",
      "With a Derringer with a hair trigger\n",
      "'Bout to bear hug a fuckin' terrier, the Ric Flair dripper\n",
      "Y'all couldn't hold a candle at a prayer vigil\n",
      "When I vent, they compare me to a fuckin' air duct\n",
      "I'm about to bare-knuckle it, nah, fuck it\n",
      "I'm gonna go upside their head with a Nantucket\n",
      "Abraca-fuckin'-dabra\n",
      "The track is the blood, I'm attracted, I'm attackin' it\n",
      "What? Dracula, fuck that shit\n",
      "I'm up, back with a thud\n",
      "Man, stop\n",
      "\n",
      "[Outro: Chris D'Elia]\n",
      "Look what I'm plannin', plannin', I'm plannin' to\n",
      "Do all this while ya panickin'\n",
      "And you're lookin' and starin' at mannequins\n",
      "And I'm goin' to Fanagans\n",
      "Trying to get up a plan against\n",
      "All of the blana-kazana-ka-fam-bam-bannigans\n",
      "While of all the bana-kazanika Hanna in a cabana\n",
      "You're in a cab-\n",
      "I'm in a cabana and a Janet\n",
      "I'm in a cabana chantin' all this standup banter\n",
      "While you don't got the stamina, you're lackin' the stamina\n",
      "You're lackin' the stamina while you're divorcin' Harrison Ford\n",
      "And I'm in a Porsche on the floorboards\n",
      "While I'm world tourin'\n",
      "You usin' way too many napkins, papkins\n",
      "Lapkins and chapki-\n",
      "You using ChapStick and napkins while I'm bapkin'\n",
      "Flappin' around like a bapkin'\n",
      "Flamminababbitapannitajampkin\n",
      "Dammit, a can of pada-\n"
     ]
    }
   ],
   "source": [
    "print(song_lyrics)"
   ]
  },
  {
   "cell_type": "code",
   "execution_count": 49,
   "metadata": {},
   "outputs": [
    {
     "data": {
      "text/plain": [
       "('Logic',\n",
       " 'Confessions of a Dangerous Mind',\n",
       " 'Homicide',\n",
       " ['Eminem'],\n",
       " ['Logic', 'Eminem'])"
      ]
     },
     "execution_count": 49,
     "metadata": {},
     "output_type": "execute_result"
    }
   ],
   "source": [
    "author, album, song, *feats = os.path.splitext(path)[0].split('_')\n",
    "all_singers = [author] + feats\n",
    "author, album, song, feats, all_singers"
   ]
  },
  {
   "cell_type": "code",
   "execution_count": 50,
   "metadata": {
    "scrolled": true
   },
   "outputs": [
    {
     "data": {
      "text/plain": [
       "[['[Intro: Smokey Legendary, Logic & Both]',\n",
       "  'Son, you know why you the greatest alive?',\n",
       "  'Why, Dad?',\n",
       "  'Because you came out of my balls, nigga',\n",
       "  'Hahahahahaha',\n",
       "  '(Roof!)'],\n",
       " ['[Chorus: Logic]',\n",
       "  'Fuck rap',\n",
       "  \"Bustin' like an addict with a semi-automatic\",\n",
       "  'Who done had it, and he ready for anybody to buck back',\n",
       "  \"Hold up, catch a vibe, ain't no way in hell we leavin' nobody alive\",\n",
       "  'Leave a suicide note, fuck that',\n",
       "  \"Bobby feelin' villainous, he killin' this\",\n",
       "  \"I'm comin' for your man and his lady and even the baby\",\n",
       "  \"I'm feelin' like I'm, chika-chika-chika, Slim Shady with rabies\"],\n",
       " ['[Verse 1: Logic]',\n",
       "  \"I'm foamin' at the mouth, ain't nobody takin' me out\",\n",
       "  \"Every single rapper in the industry, yeah, they know what I'm about\",\n",
       "  'And I dare you to test me',\n",
       "  \"'Cause not a single one of you motherfuckers impress me\",\n",
       "  \"And maybe that's a little bit of an exaggeration\",\n",
       "  \"But I'm full of innovation\",\n",
       "  'And I\\'m tired of all of this high school \"He\\'s cool, he\\'s not\" rap shit',\n",
       "  'Can a single one of you motherfuckers even rap? Shit',\n",
       "  \"No, this ain't a diss to the game, this a gas to the flame\",\n",
       "  \"Nowadays, everybody sound the same, shit's lame\",\n",
       "  \"Like a moth to the flame, I'ma reel 'em in and kill 'em\",\n",
       "  \"Know you feelin' lyricism when I'm spillin' it, I'm feelin' myself\",\n",
       "  \"Yeah, yeah, Bobby Boy, he be feelin' himself\",\n",
       "  \"Mass murder like this can't be good for my health\",\n",
       "  'When I rap like this, do I sound like shit?',\n",
       "  \"Well, it don't really matter, 'cause I'm killin' this shit\",\n",
       "  \"Yeah, I'm killin' this shit\",\n",
       "  \"Oh yeah, oh yeah, I'm killin' this shit\",\n",
       "  \"Bobby, how many times you been killin' this shit?\",\n",
       "  'Find another rhyme, goddamn, nigga, shit'],\n",
       " ['[Chorus: Logic]',\n",
       "  'Fuck rap',\n",
       "  \"Bustin' like an addict with a semi-automatic\",\n",
       "  'Who done had it, and he ready for anybody to buck back',\n",
       "  \"Hold up, catch a vibe, ain't no way in hell we leavin' nobody alive\",\n",
       "  'Leave a suicide note, fuck that',\n",
       "  \"Bobby feelin' villainous, he killin' this\",\n",
       "  \"I'm comin' for your man and his lady and even the baby\",\n",
       "  \"I'm feelin' like I'm, chika-chika-chika-chika\",\n",
       "  'Chika-chika-chika-chika-chika, Slim Shady'],\n",
       " ['[Verse 2: Logic]',\n",
       "  \"There's nowhere to hide, we call this shit genocide\",\n",
       "  \"Hit 'em with that (Do-do-do) and they die\",\n",
       "  \"We gon' leave 'em crucified, we call this shit genocide\",\n",
       "  'I got bitches, I got hoes, I got rare designer clothes',\n",
       "  \"No, we ain't fuckin' with that\",\n",
       "  \"Yeah, there's a time and a place\",\n",
       "  \"But if you ain't comin' with the illest of raps\",\n",
       "  \"Callin' yourself the greatest alive\",\n",
       "  \"Then you don't deserve to do that\",\n",
       "  'No, no, oh no, no, please do not do that',\n",
       "  \"You gon' get smacked\",\n",
       "  \"You gon' make Bobby attack\",\n",
       "  \"You gon' make Bobby Boy snap\",\n",
       "  \"You gon' make Bobby Boy snap (Bobby Boy!)\"],\n",
       " ['[Chorus: Logic]',\n",
       "  'Fuck rap',\n",
       "  \"Bustin' like an addict with a semi-automatic\",\n",
       "  'Who done had it, and he ready for anybody to buck back',\n",
       "  \"Hold up, catch a vibe, ain't no way in hell we leavin' nobody alive\",\n",
       "  'Leave a suicide note, fuck that',\n",
       "  \"Bobby feelin' villainous, he killin' this\",\n",
       "  \"I'm comin' for your man and his lady and even the baby\",\n",
       "  \"I'm feelin' like I'm chika-chika-chika-chika\",\n",
       "  'Chika-chika-chika-chika-chika, Slim Shady'],\n",
       " ['[Verse 3: Eminem]',\n",
       "  'Jigga-jigga-jigga-jigga-jigga like JAY-Z',\n",
       "  \"Jig is up, you fuckers who didn't write anything\",\n",
       "  'Are getting washed, liga-liga-liga, like bathing',\n",
       "  'Young Hova, I know hitters like Yankees',\n",
       "  'Gun toters that pull triggers like crazy',\n",
       "  \"Unloadin', leave you shot up in your Rover\",\n",
       "  'Your body goes limp and slumps over',\n",
       "  'Like A-Rod in a month lull, but he just homered',\n",
       "  'Hol\\' up, I said \"Rover\" because now your Rover is red',\n",
       "  'Like Red Rover, so you know what I meant',\n",
       "  'But I roll over my opponents instead',\n",
       "  \"Makin' dog sounds 'cause I gotta keep breakin' these bars down\",\n",
       "  \"I'll go slow for the speds\",\n",
       "  'But when I go (Roof!) like the Dobermann said',\n",
       "  'I still think the (Roof!) would go over your head (Ha-ha)',\n",
       "  \"Beast mode, motherfuckers 'bout to get hit\",\n",
       "  \"With so many foul lines, you'll think I'm a free throw\",\n",
       "  'Figured it was about time for people to eat crow',\n",
       "  'You about to get out-rhymed, how could I be dethroned?',\n",
       "  \"I stay on my toes like the repo, a behemoth in sheep's clothes\",\n",
       "  \"From the East Coast to the West, I'm the ethos and I'm the G.O.A.T\",\n",
       "  \"Who the best, I don't gotta say a fuckin' thing, though\",\n",
       "  \"'Cause MCs know\",\n",
       "  \"But you don't wanna hear me spit the facts\",\n",
       "  'Your shit is ass like a tailbone',\n",
       "  \"Or you're trapped in your cell phone\",\n",
       "  'Or my chicken scratch, or my self-loathe',\n",
       "  \"I don't wanna fuckin' listen to you spit your raps someone else wrote\",\n",
       "  'Used to get beat up by the big kids',\n",
       "  'Used to let the big kids steal my big wheel',\n",
       "  \"And I wouldn't do shit but just sit still\",\n",
       "  \"Now money's not a big deal\",\n",
       "  \"I'm rich, I wipe my ass with six mill'\",\n",
       "  'Big bills like a platypus',\n",
       "  \"A caterpillar's comin' to get the cannabis\",\n",
       "  \"I'm lookin' for the smoke but you motherfuckers are scatterin'\",\n",
       "  \"Batterin' everything and I've had it with the inadequate\",\n",
       "  \"Man, I can see my dick is standin' stiff as a mannequin\",\n",
       "  \"And I'm bringin' the bandana back, and the fuckin' headband again\",\n",
       "  \"A handkerchief and I'm thinkin' of bringin' the fuckin' fingerless gloves back\",\n",
       "  'And not giving a singular fuck, like fuck rap',\n",
       "  \"I sound like a fuckin' millionaire\",\n",
       "  'With a Derringer with a hair trigger',\n",
       "  \"'Bout to bear hug a fuckin' terrier, the Ric Flair dripper\",\n",
       "  \"Y'all couldn't hold a candle at a prayer vigil\",\n",
       "  \"When I vent, they compare me to a fuckin' air duct\",\n",
       "  \"I'm about to bare-knuckle it, nah, fuck it\",\n",
       "  \"I'm gonna go upside their head with a Nantucket\",\n",
       "  \"Abraca-fuckin'-dabra\",\n",
       "  \"The track is the blood, I'm attracted, I'm attackin' it\",\n",
       "  'What? Dracula, fuck that shit',\n",
       "  \"I'm up, back with a thud\",\n",
       "  'Man, stop'],\n",
       " [\"[Outro: Chris D'Elia]\",\n",
       "  \"Look what I'm plannin', plannin', I'm plannin' to\",\n",
       "  \"Do all this while ya panickin'\",\n",
       "  \"And you're lookin' and starin' at mannequins\",\n",
       "  \"And I'm goin' to Fanagans\",\n",
       "  'Trying to get up a plan against',\n",
       "  'All of the blana-kazana-ka-fam-bam-bannigans',\n",
       "  'While of all the bana-kazanika Hanna in a cabana',\n",
       "  \"You're in a cab-\",\n",
       "  \"I'm in a cabana and a Janet\",\n",
       "  \"I'm in a cabana chantin' all this standup banter\",\n",
       "  \"While you don't got the stamina, you're lackin' the stamina\",\n",
       "  \"You're lackin' the stamina while you're divorcin' Harrison Ford\",\n",
       "  \"And I'm in a Porsche on the floorboards\",\n",
       "  \"While I'm world tourin'\",\n",
       "  \"You usin' way too many napkins, papkins\",\n",
       "  'Lapkins and chapki-',\n",
       "  \"You using ChapStick and napkins while I'm bapkin'\",\n",
       "  \"Flappin' around like a bapkin'\",\n",
       "  'Flamminababbitapannitajampkin',\n",
       "  'Dammit, a can of pada-']]"
      ]
     },
     "execution_count": 50,
     "metadata": {},
     "output_type": "execute_result"
    }
   ],
   "source": [
    "indices = [i for i, ltr in enumerate(song_lyrics) if ltr == '['] + [len(song_lyrics)]\n",
    "song_parts = [song_lyrics[indices[i]:indices[i+1]].strip().split('\\n') for i, index in enumerate(indices[:-1])]\n",
    "song_parts"
   ]
  },
  {
   "cell_type": "code",
   "execution_count": null,
   "metadata": {},
   "outputs": [],
   "source": [
    "print(song_parts[1][0])"
   ]
  },
  {
   "cell_type": "code",
   "execution_count": 31,
   "metadata": {},
   "outputs": [],
   "source": [
    "def get_part_lyrics(part):\n",
    "    return '\\n'.join(part[1:])"
   ]
  },
  {
   "cell_type": "code",
   "execution_count": 32,
   "metadata": {},
   "outputs": [],
   "source": [
    "def get_part_info(part, all_singers):\n",
    "    singer = None\n",
    "    brackets = part[0]\n",
    "    brackets_parts = brackets[1:-1].split(':')\n",
    "    if len(brackets_parts) == 1:\n",
    "        singer = all_singers[0]\n",
    "        part_name = brackets_parts[0]\n",
    "    else:\n",
    "        part_singers = brackets_parts[1]\n",
    "        part_singers = list(map(str.strip, re.split(',|&', part_singers)))\n",
    "        for part_singer in part_singers:\n",
    "            if part_singer in all_singers:\n",
    "                singer = part_singer\n",
    "                break\n",
    "        part_name = brackets_parts[0]\n",
    "    if not singer:\n",
    "        return None\n",
    "    part_lyrics = get_part_lyrics(part)\n",
    "    return singer, part_name, part_lyrics"
   ]
  },
  {
   "cell_type": "code",
   "execution_count": null,
   "metadata": {
    "scrolled": true
   },
   "outputs": [],
   "source": [
    "song_parts_brackets = [part[0] for part in song_parts]\n",
    "song_parts_brackets.append('[Intro]')\n",
    "song_parts_brackets.append('[Outro]')\n",
    "song_parts_brackets"
   ]
  },
  {
   "cell_type": "code",
   "execution_count": null,
   "metadata": {},
   "outputs": [],
   "source": [
    "part_name, singers = song_parts_brackets[0][1:-1].split(':')\n",
    "part_name, singers"
   ]
  },
  {
   "cell_type": "code",
   "execution_count": null,
   "metadata": {
    "scrolled": true
   },
   "outputs": [],
   "source": [
    "list(map(str.strip, re.split(',|&', singers)))"
   ]
  },
  {
   "cell_type": "code",
   "execution_count": null,
   "metadata": {
    "scrolled": true
   },
   "outputs": [],
   "source": [
    "singers"
   ]
  },
  {
   "cell_type": "code",
   "execution_count": null,
   "metadata": {
    "scrolled": true
   },
   "outputs": [],
   "source": [
    "song_parts_brackets[1:]"
   ]
  },
  {
   "cell_type": "code",
   "execution_count": 55,
   "metadata": {},
   "outputs": [
    {
     "data": {
      "text/plain": [
       "('Eminem',\n",
       " 'Verse 3',\n",
       " 'Jigga-jigga-jigga-jigga-jigga like JAY-Z\\nJig is up, you fuckers who didn\\'t write anything\\nAre getting washed, liga-liga-liga, like bathing\\nYoung Hova, I know hitters like Yankees\\nGun toters that pull triggers like crazy\\nUnloadin\\', leave you shot up in your Rover\\nYour body goes limp and slumps over\\nLike A-Rod in a month lull, but he just homered\\nHol\\' up, I said \"Rover\" because now your Rover is red\\nLike Red Rover, so you know what I meant\\nBut I roll over my opponents instead\\nMakin\\' dog sounds \\'cause I gotta keep breakin\\' these bars down\\nI\\'ll go slow for the speds\\nBut when I go (Roof!) like the Dobermann said\\nI still think the (Roof!) would go over your head (Ha-ha)\\nBeast mode, motherfuckers \\'bout to get hit\\nWith so many foul lines, you\\'ll think I\\'m a free throw\\nFigured it was about time for people to eat crow\\nYou about to get out-rhymed, how could I be dethroned?\\nI stay on my toes like the repo, a behemoth in sheep\\'s clothes\\nFrom the East Coast to the West, I\\'m the ethos and I\\'m the G.O.A.T\\nWho the best, I don\\'t gotta say a fuckin\\' thing, though\\n\\'Cause MCs know\\nBut you don\\'t wanna hear me spit the facts\\nYour shit is ass like a tailbone\\nOr you\\'re trapped in your cell phone\\nOr my chicken scratch, or my self-loathe\\nI don\\'t wanna fuckin\\' listen to you spit your raps someone else wrote\\nUsed to get beat up by the big kids\\nUsed to let the big kids steal my big wheel\\nAnd I wouldn\\'t do shit but just sit still\\nNow money\\'s not a big deal\\nI\\'m rich, I wipe my ass with six mill\\'\\nBig bills like a platypus\\nA caterpillar\\'s comin\\' to get the cannabis\\nI\\'m lookin\\' for the smoke but you motherfuckers are scatterin\\'\\nBatterin\\' everything and I\\'ve had it with the inadequate\\nMan, I can see my dick is standin\\' stiff as a mannequin\\nAnd I\\'m bringin\\' the bandana back, and the fuckin\\' headband again\\nA handkerchief and I\\'m thinkin\\' of bringin\\' the fuckin\\' fingerless gloves back\\nAnd not giving a singular fuck, like fuck rap\\nI sound like a fuckin\\' millionaire\\nWith a Derringer with a hair trigger\\n\\'Bout to bear hug a fuckin\\' terrier, the Ric Flair dripper\\nY\\'all couldn\\'t hold a candle at a prayer vigil\\nWhen I vent, they compare me to a fuckin\\' air duct\\nI\\'m about to bare-knuckle it, nah, fuck it\\nI\\'m gonna go upside their head with a Nantucket\\nAbraca-fuckin\\'-dabra\\nThe track is the blood, I\\'m attracted, I\\'m attackin\\' it\\nWhat? Dracula, fuck that shit\\nI\\'m up, back with a thud\\nMan, stop')"
      ]
     },
     "execution_count": 55,
     "metadata": {},
     "output_type": "execute_result"
    }
   ],
   "source": [
    "get_part_info(song_parts[6], all_singers)"
   ]
  },
  {
   "cell_type": "code",
   "execution_count": null,
   "metadata": {},
   "outputs": [],
   "source": []
  }
 ],
 "metadata": {
  "kernelspec": {
   "display_name": "Python 3",
   "language": "python",
   "name": "python3"
  },
  "language_info": {
   "codemirror_mode": {
    "name": "ipython",
    "version": 3
   },
   "file_extension": ".py",
   "mimetype": "text/x-python",
   "name": "python",
   "nbconvert_exporter": "python",
   "pygments_lexer": "ipython3",
   "version": "3.6.8"
  }
 },
 "nbformat": 4,
 "nbformat_minor": 2
}
