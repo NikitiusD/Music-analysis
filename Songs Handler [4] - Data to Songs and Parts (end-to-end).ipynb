{
 "cells": [
  {
   "cell_type": "code",
   "execution_count": 1,
   "metadata": {},
   "outputs": [],
   "source": [
    "import pandas as pd\n",
    "import numpy as np\n",
    "import ast\n",
    "import json\n",
    "import os\n",
    "import re"
   ]
  },
  {
   "cell_type": "markdown",
   "metadata": {},
   "source": [
    "# Get songs dataset from parsed data"
   ]
  },
  {
   "cell_type": "code",
   "execution_count": 2,
   "metadata": {},
   "outputs": [],
   "source": [
    "def correct_non_eng_authors(name):\n",
    "    if '(' in name:\n",
    "        return name.split('(')[0][:-1]\n",
    "    else:\n",
    "        return name.strip(u'\\u200b')"
   ]
  },
  {
   "cell_type": "code",
   "execution_count": 5,
   "metadata": {
    "scrolled": true
   },
   "outputs": [
    {
     "name": "stdout",
     "output_type": "stream",
     "text": [
      "(248325, 5)\n",
      "Wall time: 6.05 s\n"
     ]
    }
   ],
   "source": [
    "%%time\n",
    "data = pd.read_csv('res_all.csv', index_col=0)\n",
    "# data.drop('album_url', axis=1, inplace=True)\n",
    "data.drop_duplicates(subset='text', keep='last', inplace=True)\n",
    "data = data[data['text'].apply(len) > 300]\n",
    "data = data[['artist', 'album', 'song', 'featuring', 'text']]\n",
    "data.columns = ['Singer', 'Album', 'Song', 'Featuring', 'Lyrics']\n",
    "data['Singer'] = data['Singer'].apply(correct_non_eng_authors)\n",
    "data['Featuring'] = data['Featuring'].apply(lambda x: ast.literal_eval(x)).apply(lambda x: list(map(correct_non_eng_authors, x)))\n",
    "data = data[data['Song'].apply(lambda x: '(Skit)' not in x and '(Live' not in x)]\n",
    "data = data[data['Singer'].isin((data.groupby('Singer')['Song'].nunique() >= 10).replace({False: np.nan}).dropna().index)]\n",
    "data.sort_values(by=['Singer', 'Album'], inplace=True)\n",
    "data.reset_index(drop=True, inplace=True)\n",
    "print(data.shape)"
   ]
  },
  {
   "cell_type": "markdown",
   "metadata": {},
   "source": [
    "(79965, 5)  \n",
    "Wall time: 2.46 s"
   ]
  },
  {
   "cell_type": "code",
   "execution_count": 6,
   "metadata": {},
   "outputs": [
    {
     "data": {
      "text/html": [
       "<div>\n",
       "<style scoped>\n",
       "    .dataframe tbody tr th:only-of-type {\n",
       "        vertical-align: middle;\n",
       "    }\n",
       "\n",
       "    .dataframe tbody tr th {\n",
       "        vertical-align: top;\n",
       "    }\n",
       "\n",
       "    .dataframe thead th {\n",
       "        text-align: right;\n",
       "    }\n",
       "</style>\n",
       "<table border=\"1\" class=\"dataframe\">\n",
       "  <thead>\n",
       "    <tr style=\"text-align: right;\">\n",
       "      <th></th>\n",
       "      <th>Singer</th>\n",
       "      <th>Album</th>\n",
       "      <th>Song</th>\n",
       "      <th>Featuring</th>\n",
       "      <th>Lyrics</th>\n",
       "    </tr>\n",
       "  </thead>\n",
       "  <tbody>\n",
       "    <tr>\n",
       "      <th>0</th>\n",
       "      <td>$UICIDEBOY$</td>\n",
       "      <td>7th or St. Tammany</td>\n",
       "      <td>40 Oz. &amp; Sober</td>\n",
       "      <td>[]</td>\n",
       "      <td>\\n\\n[Hook: Gangsta Pat]\\nKiller, killer, kille...</td>\n",
       "    </tr>\n",
       "    <tr>\n",
       "      <th>1</th>\n",
       "      <td>$UICIDEBOY$</td>\n",
       "      <td>7th or St. Tammany</td>\n",
       "      <td>7th or St. Tammany</td>\n",
       "      <td>[]</td>\n",
       "      <td>\\n\\nUh\\n*59, yah!\\nUhhhh, [?]\\n*59 motherfucke...</td>\n",
       "    </tr>\n",
       "    <tr>\n",
       "      <th>2</th>\n",
       "      <td>$UICIDEBOY$</td>\n",
       "      <td>7th or St. Tammany</td>\n",
       "      <td>Dead Batteries</td>\n",
       "      <td>[]</td>\n",
       "      <td>\\n\\n[Produced by Budd Dwyer]\\n\\n[Intro: Frayse...</td>\n",
       "    </tr>\n",
       "    <tr>\n",
       "      <th>3</th>\n",
       "      <td>$UICIDEBOY$</td>\n",
       "      <td>7th or St. Tammany</td>\n",
       "      <td>Drugs/Hoes/Money/Etc.</td>\n",
       "      <td>[]</td>\n",
       "      <td>\\n\\n[Verse 1: YUNG $NOW]\\nCounting sheep until...</td>\n",
       "    </tr>\n",
       "    <tr>\n",
       "      <th>4</th>\n",
       "      <td>$UICIDEBOY$</td>\n",
       "      <td>7th or St. Tammany</td>\n",
       "      <td>I’ll Pay for It (If I Want It)</td>\n",
       "      <td>[]</td>\n",
       "      <td>\\n\\n[Verse 1: RUBY DA CHERRY]\\nFucking Ruby go...</td>\n",
       "    </tr>\n",
       "  </tbody>\n",
       "</table>\n",
       "</div>"
      ],
      "text/plain": [
       "        Singer               Album                            Song Featuring  \\\n",
       "0  $UICIDEBOY$  7th or St. Tammany                  40 Oz. & Sober        []   \n",
       "1  $UICIDEBOY$  7th or St. Tammany              7th or St. Tammany        []   \n",
       "2  $UICIDEBOY$  7th or St. Tammany                  Dead Batteries        []   \n",
       "3  $UICIDEBOY$  7th or St. Tammany           Drugs/Hoes/Money/Etc.        []   \n",
       "4  $UICIDEBOY$  7th or St. Tammany  I’ll Pay for It (If I Want It)        []   \n",
       "\n",
       "                                              Lyrics  \n",
       "0  \\n\\n[Hook: Gangsta Pat]\\nKiller, killer, kille...  \n",
       "1  \\n\\nUh\\n*59, yah!\\nUhhhh, [?]\\n*59 motherfucke...  \n",
       "2  \\n\\n[Produced by Budd Dwyer]\\n\\n[Intro: Frayse...  \n",
       "3  \\n\\n[Verse 1: YUNG $NOW]\\nCounting sheep until...  \n",
       "4  \\n\\n[Verse 1: RUBY DA CHERRY]\\nFucking Ruby go...  "
      ]
     },
     "execution_count": 6,
     "metadata": {},
     "output_type": "execute_result"
    }
   ],
   "source": [
    "data.head()"
   ]
  },
  {
   "cell_type": "code",
   "execution_count": 7,
   "metadata": {},
   "outputs": [],
   "source": [
    "data.to_csv('songs_dataset.csv', encoding='utf-8')"
   ]
  },
  {
   "cell_type": "markdown",
   "metadata": {},
   "source": [
    "# Get parts dataset from songs"
   ]
  },
  {
   "cell_type": "code",
   "execution_count": 8,
   "metadata": {},
   "outputs": [],
   "source": [
    "songs = pd.read_csv('songs_dataset.csv', index_col=0, encoding='utf-8')"
   ]
  },
  {
   "cell_type": "code",
   "execution_count": 9,
   "metadata": {
    "scrolled": true
   },
   "outputs": [],
   "source": [
    "# Write to file all singers from dataset\n",
    "with open ('singers.txt', 'w', encoding='utf-8') as file:\n",
    "    file.write(\"\\n\".join(songs['Singer'].unique().tolist()))"
   ]
  },
  {
   "cell_type": "code",
   "execution_count": 10,
   "metadata": {},
   "outputs": [],
   "source": [
    "# Get lyrics from part test i.e. remove first row with part name and singer's name\n",
    "def get_part_lyrics(part):\n",
    "    part = part[1:]\n",
    "    return '\\n'.join(part)"
   ]
  },
  {
   "cell_type": "code",
   "execution_count": 11,
   "metadata": {},
   "outputs": [],
   "source": [
    "# Get info about song author, song album, song name, all singres of song, \n",
    "# singer of part, part name, some debug info (first row of part text) and part lyrics\n",
    "def get_part_info(part, all_singers, author, album, song):\n",
    "    singer = None\n",
    "    brackets = part[0]\n",
    "    brackets_parts = re.split(':|—', brackets[1:-1])\n",
    "#     brackets_parts = brackets[1:-1].split(':')\n",
    "    if len(brackets_parts) == 1:\n",
    "        singer = all_singers[0]\n",
    "        part_name = brackets_parts[0]\n",
    "    else:\n",
    "        part_singers = brackets_parts[1]\n",
    "        part_singers = list(map(str.strip, re.split(',|&', part_singers)))\n",
    "        for part_singer in part_singers:\n",
    "            if part_singer in all_singers:\n",
    "                singer = part_singer\n",
    "                break\n",
    "        part_name = brackets_parts[0]\n",
    "    part_lyrics = get_part_lyrics(part)\n",
    "    if not singer:\n",
    "        singer = author\n",
    "    if part_lyrics == '':\n",
    "        return None\n",
    "    return [author, album, song, all_singers, singer, part_name, brackets[1:-1], part_lyrics]"
   ]
  },
  {
   "cell_type": "code",
   "execution_count": 12,
   "metadata": {},
   "outputs": [],
   "source": [
    "# We divide song text by parts via \\n's and brackets and then get info from them separately\n",
    "def get_parts_from_song(song):\n",
    "    feats = ast.literal_eval(song['Featuring'])\n",
    "    author, album, song, _, lyrics = song.values\n",
    "    all_singers = list(set([author] + feats))\n",
    "#     print(author, '-', album, '-', song, '-', feats, '-', all_singers)\n",
    "    \n",
    "    indices = [i for i, ltr in enumerate(lyrics) if ltr == '[' and \n",
    "                                                    lyrics[i-1] == '\\n' and \n",
    "                                                    lyrics[i-2] == '\\n'] + [len(lyrics)]\n",
    "    song_parts = [lyrics[indices[i]:indices[i+1]].strip().split('\\n') for i, index in enumerate(indices[:-1])]\n",
    "    song_parts_info = [get_part_info(song_part, all_singers, author, album, song) for song_part in song_parts]\n",
    "    song_parts_info = list(filter(None, song_parts_info))\n",
    "\n",
    "    df = pd.DataFrame(song_parts_info, columns=['Singer', 'Album', 'Song', 'All Singers', \n",
    "                                                'Part Singer', 'Part Name', 'Part Debug', 'Part Lyrics'])\n",
    "    return df"
   ]
  },
  {
   "cell_type": "code",
   "execution_count": 13,
   "metadata": {},
   "outputs": [
    {
     "name": "stdout",
     "output_type": "stream",
     "text": [
      "(812842, 8)\n",
      "Wall time: 6min 26s\n"
     ]
    }
   ],
   "source": [
    "%%time\n",
    "# Get parts dataframe\n",
    "parts = songs.apply(get_parts_from_song, axis=1)\n",
    "parts = pd.concat(parts.tolist(), axis=0)\n",
    "parts.reset_index(drop=True, inplace=True)\n",
    "print(parts.shape)"
   ]
  },
  {
   "cell_type": "markdown",
   "metadata": {},
   "source": [
    "(375992, 8)  \n",
    "Wall time: 1min 51s"
   ]
  },
  {
   "cell_type": "code",
   "execution_count": 14,
   "metadata": {},
   "outputs": [
    {
     "data": {
      "text/html": [
       "<div>\n",
       "<style scoped>\n",
       "    .dataframe tbody tr th:only-of-type {\n",
       "        vertical-align: middle;\n",
       "    }\n",
       "\n",
       "    .dataframe tbody tr th {\n",
       "        vertical-align: top;\n",
       "    }\n",
       "\n",
       "    .dataframe thead th {\n",
       "        text-align: right;\n",
       "    }\n",
       "</style>\n",
       "<table border=\"1\" class=\"dataframe\">\n",
       "  <thead>\n",
       "    <tr style=\"text-align: right;\">\n",
       "      <th></th>\n",
       "      <th>Singer</th>\n",
       "      <th>Album</th>\n",
       "      <th>Song</th>\n",
       "      <th>All Singers</th>\n",
       "      <th>Part Singer</th>\n",
       "      <th>Part Name</th>\n",
       "      <th>Part Debug</th>\n",
       "      <th>Part Lyrics</th>\n",
       "    </tr>\n",
       "  </thead>\n",
       "  <tbody>\n",
       "    <tr>\n",
       "      <th>0</th>\n",
       "      <td>$UICIDEBOY$</td>\n",
       "      <td>7th or St. Tammany</td>\n",
       "      <td>40 Oz. &amp; Sober</td>\n",
       "      <td>[$UICIDEBOY$]</td>\n",
       "      <td>$UICIDEBOY$</td>\n",
       "      <td>Hook</td>\n",
       "      <td>Hook: Gangsta Pat</td>\n",
       "      <td>Killer, killer, killer\\nWhat the fuck you gon'...</td>\n",
       "    </tr>\n",
       "    <tr>\n",
       "      <th>1</th>\n",
       "      <td>$UICIDEBOY$</td>\n",
       "      <td>7th or St. Tammany</td>\n",
       "      <td>40 Oz. &amp; Sober</td>\n",
       "      <td>[$UICIDEBOY$]</td>\n",
       "      <td>$UICIDEBOY$</td>\n",
       "      <td>Verse 1</td>\n",
       "      <td>Verse 1: YUNG $NOW</td>\n",
       "      <td>Bitch, I be the $nowmane\\nFifty nine shades of...</td>\n",
       "    </tr>\n",
       "    <tr>\n",
       "      <th>2</th>\n",
       "      <td>$UICIDEBOY$</td>\n",
       "      <td>7th or St. Tammany</td>\n",
       "      <td>40 Oz. &amp; Sober</td>\n",
       "      <td>[$UICIDEBOY$]</td>\n",
       "      <td>$UICIDEBOY$</td>\n",
       "      <td>Hook</td>\n",
       "      <td>Hook: Gangsta Pat</td>\n",
       "      <td>Killer, killer\\nWhat the fuck you gon' do?\\nI'...</td>\n",
       "    </tr>\n",
       "    <tr>\n",
       "      <th>3</th>\n",
       "      <td>$UICIDEBOY$</td>\n",
       "      <td>7th or St. Tammany</td>\n",
       "      <td>40 Oz. &amp; Sober</td>\n",
       "      <td>[$UICIDEBOY$]</td>\n",
       "      <td>$UICIDEBOY$</td>\n",
       "      <td>Verse 2</td>\n",
       "      <td>Verse 2: ANTHONY MARS</td>\n",
       "      <td>Yesterday, I rode my bike to the moon\\nOr thou...</td>\n",
       "    </tr>\n",
       "    <tr>\n",
       "      <th>4</th>\n",
       "      <td>$UICIDEBOY$</td>\n",
       "      <td>7th or St. Tammany</td>\n",
       "      <td>40 Oz. &amp; Sober</td>\n",
       "      <td>[$UICIDEBOY$]</td>\n",
       "      <td>$UICIDEBOY$</td>\n",
       "      <td>Hook</td>\n",
       "      <td>Hook: Gangsta Pat</td>\n",
       "      <td>Killer, killer\\nWhat the fuck you gon' do?\\nI'...</td>\n",
       "    </tr>\n",
       "  </tbody>\n",
       "</table>\n",
       "</div>"
      ],
      "text/plain": [
       "        Singer               Album            Song    All Singers  \\\n",
       "0  $UICIDEBOY$  7th or St. Tammany  40 Oz. & Sober  [$UICIDEBOY$]   \n",
       "1  $UICIDEBOY$  7th or St. Tammany  40 Oz. & Sober  [$UICIDEBOY$]   \n",
       "2  $UICIDEBOY$  7th or St. Tammany  40 Oz. & Sober  [$UICIDEBOY$]   \n",
       "3  $UICIDEBOY$  7th or St. Tammany  40 Oz. & Sober  [$UICIDEBOY$]   \n",
       "4  $UICIDEBOY$  7th or St. Tammany  40 Oz. & Sober  [$UICIDEBOY$]   \n",
       "\n",
       "   Part Singer Part Name             Part Debug  \\\n",
       "0  $UICIDEBOY$      Hook      Hook: Gangsta Pat   \n",
       "1  $UICIDEBOY$   Verse 1     Verse 1: YUNG $NOW   \n",
       "2  $UICIDEBOY$      Hook      Hook: Gangsta Pat   \n",
       "3  $UICIDEBOY$   Verse 2  Verse 2: ANTHONY MARS   \n",
       "4  $UICIDEBOY$      Hook      Hook: Gangsta Pat   \n",
       "\n",
       "                                         Part Lyrics  \n",
       "0  Killer, killer, killer\\nWhat the fuck you gon'...  \n",
       "1  Bitch, I be the $nowmane\\nFifty nine shades of...  \n",
       "2  Killer, killer\\nWhat the fuck you gon' do?\\nI'...  \n",
       "3  Yesterday, I rode my bike to the moon\\nOr thou...  \n",
       "4  Killer, killer\\nWhat the fuck you gon' do?\\nI'...  "
      ]
     },
     "execution_count": 14,
     "metadata": {},
     "output_type": "execute_result"
    }
   ],
   "source": [
    "parts.head()"
   ]
  },
  {
   "cell_type": "code",
   "execution_count": 15,
   "metadata": {},
   "outputs": [],
   "source": [
    "# Save raw parts dataset \n",
    "parts.to_csv('raw_parts_dataset.csv')"
   ]
  },
  {
   "cell_type": "markdown",
   "metadata": {},
   "source": [
    "# Raw parts data processing"
   ]
  },
  {
   "cell_type": "code",
   "execution_count": 16,
   "metadata": {},
   "outputs": [
    {
     "data": {
      "text/html": [
       "<div>\n",
       "<style scoped>\n",
       "    .dataframe tbody tr th:only-of-type {\n",
       "        vertical-align: middle;\n",
       "    }\n",
       "\n",
       "    .dataframe tbody tr th {\n",
       "        vertical-align: top;\n",
       "    }\n",
       "\n",
       "    .dataframe thead th {\n",
       "        text-align: right;\n",
       "    }\n",
       "</style>\n",
       "<table border=\"1\" class=\"dataframe\">\n",
       "  <thead>\n",
       "    <tr style=\"text-align: right;\">\n",
       "      <th></th>\n",
       "      <th>Singer</th>\n",
       "      <th>Album</th>\n",
       "      <th>Song</th>\n",
       "      <th>All Singers</th>\n",
       "      <th>Part Singer</th>\n",
       "      <th>Part Name</th>\n",
       "      <th>Part Debug</th>\n",
       "      <th>Part Lyrics</th>\n",
       "    </tr>\n",
       "  </thead>\n",
       "  <tbody>\n",
       "    <tr>\n",
       "      <th>0</th>\n",
       "      <td>$UICIDEBOY$</td>\n",
       "      <td>7th or St. Tammany</td>\n",
       "      <td>40 Oz. &amp; Sober</td>\n",
       "      <td>['$UICIDEBOY$']</td>\n",
       "      <td>$UICIDEBOY$</td>\n",
       "      <td>Hook</td>\n",
       "      <td>Hook: Gangsta Pat</td>\n",
       "      <td>Killer, killer, killer\\nWhat the fuck you gon'...</td>\n",
       "    </tr>\n",
       "    <tr>\n",
       "      <th>1</th>\n",
       "      <td>$UICIDEBOY$</td>\n",
       "      <td>7th or St. Tammany</td>\n",
       "      <td>40 Oz. &amp; Sober</td>\n",
       "      <td>['$UICIDEBOY$']</td>\n",
       "      <td>$UICIDEBOY$</td>\n",
       "      <td>Verse 1</td>\n",
       "      <td>Verse 1: YUNG $NOW</td>\n",
       "      <td>Bitch, I be the $nowmane\\nFifty nine shades of...</td>\n",
       "    </tr>\n",
       "    <tr>\n",
       "      <th>2</th>\n",
       "      <td>$UICIDEBOY$</td>\n",
       "      <td>7th or St. Tammany</td>\n",
       "      <td>40 Oz. &amp; Sober</td>\n",
       "      <td>['$UICIDEBOY$']</td>\n",
       "      <td>$UICIDEBOY$</td>\n",
       "      <td>Hook</td>\n",
       "      <td>Hook: Gangsta Pat</td>\n",
       "      <td>Killer, killer\\nWhat the fuck you gon' do?\\nI'...</td>\n",
       "    </tr>\n",
       "    <tr>\n",
       "      <th>3</th>\n",
       "      <td>$UICIDEBOY$</td>\n",
       "      <td>7th or St. Tammany</td>\n",
       "      <td>40 Oz. &amp; Sober</td>\n",
       "      <td>['$UICIDEBOY$']</td>\n",
       "      <td>$UICIDEBOY$</td>\n",
       "      <td>Verse 2</td>\n",
       "      <td>Verse 2: ANTHONY MARS</td>\n",
       "      <td>Yesterday, I rode my bike to the moon\\nOr thou...</td>\n",
       "    </tr>\n",
       "    <tr>\n",
       "      <th>4</th>\n",
       "      <td>$UICIDEBOY$</td>\n",
       "      <td>7th or St. Tammany</td>\n",
       "      <td>40 Oz. &amp; Sober</td>\n",
       "      <td>['$UICIDEBOY$']</td>\n",
       "      <td>$UICIDEBOY$</td>\n",
       "      <td>Hook</td>\n",
       "      <td>Hook: Gangsta Pat</td>\n",
       "      <td>Killer, killer\\nWhat the fuck you gon' do?\\nI'...</td>\n",
       "    </tr>\n",
       "  </tbody>\n",
       "</table>\n",
       "</div>"
      ],
      "text/plain": [
       "        Singer               Album            Song      All Singers  \\\n",
       "0  $UICIDEBOY$  7th or St. Tammany  40 Oz. & Sober  ['$UICIDEBOY$']   \n",
       "1  $UICIDEBOY$  7th or St. Tammany  40 Oz. & Sober  ['$UICIDEBOY$']   \n",
       "2  $UICIDEBOY$  7th or St. Tammany  40 Oz. & Sober  ['$UICIDEBOY$']   \n",
       "3  $UICIDEBOY$  7th or St. Tammany  40 Oz. & Sober  ['$UICIDEBOY$']   \n",
       "4  $UICIDEBOY$  7th or St. Tammany  40 Oz. & Sober  ['$UICIDEBOY$']   \n",
       "\n",
       "   Part Singer Part Name             Part Debug  \\\n",
       "0  $UICIDEBOY$      Hook      Hook: Gangsta Pat   \n",
       "1  $UICIDEBOY$   Verse 1     Verse 1: YUNG $NOW   \n",
       "2  $UICIDEBOY$      Hook      Hook: Gangsta Pat   \n",
       "3  $UICIDEBOY$   Verse 2  Verse 2: ANTHONY MARS   \n",
       "4  $UICIDEBOY$      Hook      Hook: Gangsta Pat   \n",
       "\n",
       "                                         Part Lyrics  \n",
       "0  Killer, killer, killer\\nWhat the fuck you gon'...  \n",
       "1  Bitch, I be the $nowmane\\nFifty nine shades of...  \n",
       "2  Killer, killer\\nWhat the fuck you gon' do?\\nI'...  \n",
       "3  Yesterday, I rode my bike to the moon\\nOr thou...  \n",
       "4  Killer, killer\\nWhat the fuck you gon' do?\\nI'...  "
      ]
     },
     "execution_count": 16,
     "metadata": {},
     "output_type": "execute_result"
    }
   ],
   "source": [
    "parts = pd.read_csv('raw_parts_dataset.csv', index_col=0)\n",
    "# Some artifacts fix\n",
    "parts['Part Name'] = parts['Part Name'].replace(to_replace={np.nan: 'Verse'})\n",
    "parts['Part Debug'] = parts['Part Debug'].replace(to_replace={np.nan: ''})\n",
    "parts['All Singers'] = parts['All Singers'].apply(lambda x: x.replace('\\\\xa0', ' '))\n",
    "parts['Part Singer'] = parts['Part Singer'].apply(lambda x: x.replace('\\\\xa0', ' '))\n",
    "parts['Part Debug'] = parts['Part Debug'].apply(lambda x: x.replace('\\\\xa0', ' '))\n",
    "# Drop one-liners\n",
    "indices_to_drop = parts[parts['Part Lyrics'].apply(lambda x: len(x.split('\\n'))) == 1].index\n",
    "parts.drop(indices_to_drop, inplace=True)\n",
    "parts.reset_index(drop=True, inplace=True)\n",
    "parts.head()"
   ]
  },
  {
   "cell_type": "code",
   "execution_count": 17,
   "metadata": {},
   "outputs": [
    {
     "data": {
      "text/plain": [
       "(782239, 8)"
      ]
     },
     "execution_count": 17,
     "metadata": {},
     "output_type": "execute_result"
    }
   ],
   "source": [
    "# After dropping one-liners\n",
    "parts.shape"
   ]
  },
  {
   "cell_type": "markdown",
   "metadata": {},
   "source": [
    "(363932, 8)"
   ]
  },
  {
   "cell_type": "code",
   "execution_count": 18,
   "metadata": {},
   "outputs": [],
   "source": [
    "# Format part name for further generalization\n",
    "def format_part_name(part_name):\n",
    "    if pd.isna(part_name):\n",
    "        return ''\n",
    "    part_name = re.sub('[-–—— ]+', ' ', part_name)\n",
    "    part_name = part_name.strip()\n",
    "    part_name = part_name.lower()\n",
    "    return part_name"
   ]
  },
  {
   "cell_type": "code",
   "execution_count": 19,
   "metadata": {},
   "outputs": [
    {
     "data": {
      "text/html": [
       "<div>\n",
       "<style scoped>\n",
       "    .dataframe tbody tr th:only-of-type {\n",
       "        vertical-align: middle;\n",
       "    }\n",
       "\n",
       "    .dataframe tbody tr th {\n",
       "        vertical-align: top;\n",
       "    }\n",
       "\n",
       "    .dataframe thead th {\n",
       "        text-align: right;\n",
       "    }\n",
       "</style>\n",
       "<table border=\"1\" class=\"dataframe\">\n",
       "  <thead>\n",
       "    <tr style=\"text-align: right;\">\n",
       "      <th></th>\n",
       "      <th>Singer</th>\n",
       "      <th>Album</th>\n",
       "      <th>Song</th>\n",
       "      <th>All Singers</th>\n",
       "      <th>Part Singer</th>\n",
       "      <th>Part Name</th>\n",
       "      <th>Part Debug</th>\n",
       "      <th>Part Lyrics</th>\n",
       "      <th>Part Name 2</th>\n",
       "    </tr>\n",
       "  </thead>\n",
       "  <tbody>\n",
       "    <tr>\n",
       "      <th>0</th>\n",
       "      <td>$UICIDEBOY$</td>\n",
       "      <td>7th or St. Tammany</td>\n",
       "      <td>40 Oz. &amp; Sober</td>\n",
       "      <td>['$UICIDEBOY$']</td>\n",
       "      <td>$UICIDEBOY$</td>\n",
       "      <td>Hook</td>\n",
       "      <td>Hook: Gangsta Pat</td>\n",
       "      <td>Killer, killer, killer\\nWhat the fuck you gon'...</td>\n",
       "      <td>hook</td>\n",
       "    </tr>\n",
       "    <tr>\n",
       "      <th>1</th>\n",
       "      <td>$UICIDEBOY$</td>\n",
       "      <td>7th or St. Tammany</td>\n",
       "      <td>40 Oz. &amp; Sober</td>\n",
       "      <td>['$UICIDEBOY$']</td>\n",
       "      <td>$UICIDEBOY$</td>\n",
       "      <td>Verse 1</td>\n",
       "      <td>Verse 1: YUNG $NOW</td>\n",
       "      <td>Bitch, I be the $nowmane\\nFifty nine shades of...</td>\n",
       "      <td>verse 1</td>\n",
       "    </tr>\n",
       "    <tr>\n",
       "      <th>2</th>\n",
       "      <td>$UICIDEBOY$</td>\n",
       "      <td>7th or St. Tammany</td>\n",
       "      <td>40 Oz. &amp; Sober</td>\n",
       "      <td>['$UICIDEBOY$']</td>\n",
       "      <td>$UICIDEBOY$</td>\n",
       "      <td>Hook</td>\n",
       "      <td>Hook: Gangsta Pat</td>\n",
       "      <td>Killer, killer\\nWhat the fuck you gon' do?\\nI'...</td>\n",
       "      <td>hook</td>\n",
       "    </tr>\n",
       "    <tr>\n",
       "      <th>3</th>\n",
       "      <td>$UICIDEBOY$</td>\n",
       "      <td>7th or St. Tammany</td>\n",
       "      <td>40 Oz. &amp; Sober</td>\n",
       "      <td>['$UICIDEBOY$']</td>\n",
       "      <td>$UICIDEBOY$</td>\n",
       "      <td>Verse 2</td>\n",
       "      <td>Verse 2: ANTHONY MARS</td>\n",
       "      <td>Yesterday, I rode my bike to the moon\\nOr thou...</td>\n",
       "      <td>verse 2</td>\n",
       "    </tr>\n",
       "    <tr>\n",
       "      <th>4</th>\n",
       "      <td>$UICIDEBOY$</td>\n",
       "      <td>7th or St. Tammany</td>\n",
       "      <td>40 Oz. &amp; Sober</td>\n",
       "      <td>['$UICIDEBOY$']</td>\n",
       "      <td>$UICIDEBOY$</td>\n",
       "      <td>Hook</td>\n",
       "      <td>Hook: Gangsta Pat</td>\n",
       "      <td>Killer, killer\\nWhat the fuck you gon' do?\\nI'...</td>\n",
       "      <td>hook</td>\n",
       "    </tr>\n",
       "  </tbody>\n",
       "</table>\n",
       "</div>"
      ],
      "text/plain": [
       "        Singer               Album            Song      All Singers  \\\n",
       "0  $UICIDEBOY$  7th or St. Tammany  40 Oz. & Sober  ['$UICIDEBOY$']   \n",
       "1  $UICIDEBOY$  7th or St. Tammany  40 Oz. & Sober  ['$UICIDEBOY$']   \n",
       "2  $UICIDEBOY$  7th or St. Tammany  40 Oz. & Sober  ['$UICIDEBOY$']   \n",
       "3  $UICIDEBOY$  7th or St. Tammany  40 Oz. & Sober  ['$UICIDEBOY$']   \n",
       "4  $UICIDEBOY$  7th or St. Tammany  40 Oz. & Sober  ['$UICIDEBOY$']   \n",
       "\n",
       "   Part Singer Part Name             Part Debug  \\\n",
       "0  $UICIDEBOY$      Hook      Hook: Gangsta Pat   \n",
       "1  $UICIDEBOY$   Verse 1     Verse 1: YUNG $NOW   \n",
       "2  $UICIDEBOY$      Hook      Hook: Gangsta Pat   \n",
       "3  $UICIDEBOY$   Verse 2  Verse 2: ANTHONY MARS   \n",
       "4  $UICIDEBOY$      Hook      Hook: Gangsta Pat   \n",
       "\n",
       "                                         Part Lyrics Part Name 2  \n",
       "0  Killer, killer, killer\\nWhat the fuck you gon'...        hook  \n",
       "1  Bitch, I be the $nowmane\\nFifty nine shades of...     verse 1  \n",
       "2  Killer, killer\\nWhat the fuck you gon' do?\\nI'...        hook  \n",
       "3  Yesterday, I rode my bike to the moon\\nOr thou...     verse 2  \n",
       "4  Killer, killer\\nWhat the fuck you gon' do?\\nI'...        hook  "
      ]
     },
     "execution_count": 19,
     "metadata": {},
     "output_type": "execute_result"
    }
   ],
   "source": [
    "parts['Part Name 2'] = parts['Part Name'].apply(lambda x: format_part_name(x))\n",
    "parts.head()"
   ]
  },
  {
   "cell_type": "code",
   "execution_count": 20,
   "metadata": {},
   "outputs": [],
   "source": [
    "# Generalize different parts names, mistakes and strange things\n",
    "def generalize_part_name(in_part_name):\n",
    "    other_ = ['collision', 'spoken word', 'drop', 'spoken', 'talking', 'solo', '?', 'interview', 'inaudioble',\n",
    "              'break', 'breakdown', 'sample', 'all', 'pre verse', 'both', 'instrumental', 'voicemail', \n",
    "              'dialogue', 'ad libs', 'singer', 'poet', 'man', 'instrumentale', 'pause', 'refarin',\n",
    "              'pont', 'Other']\n",
    "    intro_ = ['интро', 'интерлюдия', 'intro', 'into', 'interlude', 'introduction', 'Intro']\n",
    "    outro_ = ['аутро', 'завершение', 'outro', 'Outro']\n",
    "    bridge_ = ['бридж', 'переход', 'puente', 'bridge', 'brige', 'Bridge']\n",
    "    hook_ = ['хук', 'hook', 'Hook']\n",
    "    skit_ = ['скит', 'skit', 'Skit']\n",
    "    refrain_ = ['рефрен', 'refrain', 'Refrain']\n",
    "    chorus_ = ['припев', 'estribillo', 'ritornello', 'coro', 'chorus', 'chrous', 'Chorus']\n",
    "    verse_ = ['куплет', 'strophe', 'couplet', 'verso', 'verse', 'Verse']\n",
    "    \n",
    "    part_name_variations = {'Other': other_, \n",
    "                            'Intro': intro_, \n",
    "                            'Outro': outro_, \n",
    "                            'Bridge': bridge_, \n",
    "                            'Hook': hook_, \n",
    "                            'Skit': skit_, \n",
    "                            'Refrain': refrain_, \n",
    "                            'Chorus': chorus_, \n",
    "                            'Verse': verse_}\n",
    "    out_part_name = None\n",
    "    for part_name in part_name_variations:\n",
    "        if any([variation in in_part_name for variation in part_name_variations[part_name]]):\n",
    "            out_part_name = part_name\n",
    "    return out_part_name"
   ]
  },
  {
   "cell_type": "code",
   "execution_count": 21,
   "metadata": {},
   "outputs": [
    {
     "data": {
      "text/html": [
       "<div>\n",
       "<style scoped>\n",
       "    .dataframe tbody tr th:only-of-type {\n",
       "        vertical-align: middle;\n",
       "    }\n",
       "\n",
       "    .dataframe tbody tr th {\n",
       "        vertical-align: top;\n",
       "    }\n",
       "\n",
       "    .dataframe thead th {\n",
       "        text-align: right;\n",
       "    }\n",
       "</style>\n",
       "<table border=\"1\" class=\"dataframe\">\n",
       "  <thead>\n",
       "    <tr style=\"text-align: right;\">\n",
       "      <th></th>\n",
       "      <th>Singer</th>\n",
       "      <th>Album</th>\n",
       "      <th>Song</th>\n",
       "      <th>All Singers</th>\n",
       "      <th>Part Singer</th>\n",
       "      <th>Part Name</th>\n",
       "      <th>Part Debug</th>\n",
       "      <th>Part Lyrics</th>\n",
       "      <th>Part Name 2</th>\n",
       "      <th>Part Name 3</th>\n",
       "    </tr>\n",
       "  </thead>\n",
       "  <tbody>\n",
       "    <tr>\n",
       "      <th>0</th>\n",
       "      <td>$UICIDEBOY$</td>\n",
       "      <td>7th or St. Tammany</td>\n",
       "      <td>40 Oz. &amp; Sober</td>\n",
       "      <td>['$UICIDEBOY$']</td>\n",
       "      <td>$UICIDEBOY$</td>\n",
       "      <td>Hook</td>\n",
       "      <td>Hook: Gangsta Pat</td>\n",
       "      <td>Killer, killer, killer\\nWhat the fuck you gon'...</td>\n",
       "      <td>hook</td>\n",
       "      <td>Hook</td>\n",
       "    </tr>\n",
       "    <tr>\n",
       "      <th>1</th>\n",
       "      <td>$UICIDEBOY$</td>\n",
       "      <td>7th or St. Tammany</td>\n",
       "      <td>40 Oz. &amp; Sober</td>\n",
       "      <td>['$UICIDEBOY$']</td>\n",
       "      <td>$UICIDEBOY$</td>\n",
       "      <td>Verse 1</td>\n",
       "      <td>Verse 1: YUNG $NOW</td>\n",
       "      <td>Bitch, I be the $nowmane\\nFifty nine shades of...</td>\n",
       "      <td>verse 1</td>\n",
       "      <td>Verse</td>\n",
       "    </tr>\n",
       "    <tr>\n",
       "      <th>2</th>\n",
       "      <td>$UICIDEBOY$</td>\n",
       "      <td>7th or St. Tammany</td>\n",
       "      <td>40 Oz. &amp; Sober</td>\n",
       "      <td>['$UICIDEBOY$']</td>\n",
       "      <td>$UICIDEBOY$</td>\n",
       "      <td>Hook</td>\n",
       "      <td>Hook: Gangsta Pat</td>\n",
       "      <td>Killer, killer\\nWhat the fuck you gon' do?\\nI'...</td>\n",
       "      <td>hook</td>\n",
       "      <td>Hook</td>\n",
       "    </tr>\n",
       "    <tr>\n",
       "      <th>3</th>\n",
       "      <td>$UICIDEBOY$</td>\n",
       "      <td>7th or St. Tammany</td>\n",
       "      <td>40 Oz. &amp; Sober</td>\n",
       "      <td>['$UICIDEBOY$']</td>\n",
       "      <td>$UICIDEBOY$</td>\n",
       "      <td>Verse 2</td>\n",
       "      <td>Verse 2: ANTHONY MARS</td>\n",
       "      <td>Yesterday, I rode my bike to the moon\\nOr thou...</td>\n",
       "      <td>verse 2</td>\n",
       "      <td>Verse</td>\n",
       "    </tr>\n",
       "    <tr>\n",
       "      <th>4</th>\n",
       "      <td>$UICIDEBOY$</td>\n",
       "      <td>7th or St. Tammany</td>\n",
       "      <td>40 Oz. &amp; Sober</td>\n",
       "      <td>['$UICIDEBOY$']</td>\n",
       "      <td>$UICIDEBOY$</td>\n",
       "      <td>Hook</td>\n",
       "      <td>Hook: Gangsta Pat</td>\n",
       "      <td>Killer, killer\\nWhat the fuck you gon' do?\\nI'...</td>\n",
       "      <td>hook</td>\n",
       "      <td>Hook</td>\n",
       "    </tr>\n",
       "  </tbody>\n",
       "</table>\n",
       "</div>"
      ],
      "text/plain": [
       "        Singer               Album            Song      All Singers  \\\n",
       "0  $UICIDEBOY$  7th or St. Tammany  40 Oz. & Sober  ['$UICIDEBOY$']   \n",
       "1  $UICIDEBOY$  7th or St. Tammany  40 Oz. & Sober  ['$UICIDEBOY$']   \n",
       "2  $UICIDEBOY$  7th or St. Tammany  40 Oz. & Sober  ['$UICIDEBOY$']   \n",
       "3  $UICIDEBOY$  7th or St. Tammany  40 Oz. & Sober  ['$UICIDEBOY$']   \n",
       "4  $UICIDEBOY$  7th or St. Tammany  40 Oz. & Sober  ['$UICIDEBOY$']   \n",
       "\n",
       "   Part Singer Part Name             Part Debug  \\\n",
       "0  $UICIDEBOY$      Hook      Hook: Gangsta Pat   \n",
       "1  $UICIDEBOY$   Verse 1     Verse 1: YUNG $NOW   \n",
       "2  $UICIDEBOY$      Hook      Hook: Gangsta Pat   \n",
       "3  $UICIDEBOY$   Verse 2  Verse 2: ANTHONY MARS   \n",
       "4  $UICIDEBOY$      Hook      Hook: Gangsta Pat   \n",
       "\n",
       "                                         Part Lyrics Part Name 2 Part Name 3  \n",
       "0  Killer, killer, killer\\nWhat the fuck you gon'...        hook        Hook  \n",
       "1  Bitch, I be the $nowmane\\nFifty nine shades of...     verse 1       Verse  \n",
       "2  Killer, killer\\nWhat the fuck you gon' do?\\nI'...        hook        Hook  \n",
       "3  Yesterday, I rode my bike to the moon\\nOr thou...     verse 2       Verse  \n",
       "4  Killer, killer\\nWhat the fuck you gon' do?\\nI'...        hook        Hook  "
      ]
     },
     "execution_count": 21,
     "metadata": {},
     "output_type": "execute_result"
    }
   ],
   "source": [
    "parts['Part Name 3'] = parts['Part Name 2'].apply(generalize_part_name)\n",
    "parts.head()"
   ]
  },
  {
   "cell_type": "code",
   "execution_count": 22,
   "metadata": {},
   "outputs": [],
   "source": [
    "# Attempts to process incorrect names\n",
    "def correct_part_name(parts):\n",
    "    all_singers = parts['All Singers']\n",
    "    part_singer = parts['Part Singer']\n",
    "    part_name = parts['Part Name']\n",
    "    new_part_singer = part_singer\n",
    "    new_part_name = part_name \n",
    "    if part_name in all_singers:\n",
    "        new_part_singer = part_name\n",
    "        new_part_name = 'Verse'\n",
    "    elif part_singer in part_name:\n",
    "        new_part_singer = part_singer\n",
    "        new_part_name = 'Verse'\n",
    "    return new_part_singer, new_part_name"
   ]
  },
  {
   "cell_type": "code",
   "execution_count": 23,
   "metadata": {},
   "outputs": [
    {
     "data": {
      "text/plain": [
       "Verse      293938\n",
       "Chorus     261102\n",
       "Hook        60150\n",
       "Bridge      42192\n",
       "Outro       38581\n",
       "Intro       35709\n",
       "NaN         32065\n",
       "Refrain     10392\n",
       "Other        7533\n",
       "Skit          577\n",
       "Name: Part Name 3, dtype: int64"
      ]
     },
     "execution_count": 23,
     "metadata": {},
     "output_type": "execute_result"
    }
   ],
   "source": [
    "parts['Part Name 3'].value_counts(dropna=False)"
   ]
  },
  {
   "cell_type": "code",
   "execution_count": 24,
   "metadata": {},
   "outputs": [],
   "source": [
    "null_index = parts[pd.isna(parts['Part Name 3'])].index\n",
    "res = parts.loc[null_index].apply(correct_part_name, axis=1)\n",
    "parts.loc[null_index, 'Part Singer'] = res.apply(lambda x: x[0])\n",
    "parts.loc[null_index, 'Part Name 3'] = res.apply(lambda x: x[1])\n",
    "\n",
    "parts['Part Name 3'] = parts['Part Name 3'].apply(generalize_part_name)\n",
    "parts['Part Name'] = parts['Part Name 3']\n",
    "parts.drop(['Part Name 2', 'Part Name 3'], axis=1, inplace=True)"
   ]
  },
  {
   "cell_type": "code",
   "execution_count": 25,
   "metadata": {},
   "outputs": [
    {
     "data": {
      "text/plain": [
       "Verse      304456\n",
       "Chorus     261102\n",
       "Hook        60150\n",
       "Bridge      42192\n",
       "Outro       38581\n",
       "Intro       35709\n",
       "NaN         21547\n",
       "Refrain     10392\n",
       "Other        7533\n",
       "Skit          577\n",
       "Name: Part Name, dtype: int64"
      ]
     },
     "execution_count": 25,
     "metadata": {},
     "output_type": "execute_result"
    }
   ],
   "source": [
    "parts['Part Name'].value_counts(dropna=False)"
   ]
  },
  {
   "cell_type": "code",
   "execution_count": 26,
   "metadata": {
    "scrolled": true
   },
   "outputs": [],
   "source": [
    "null_index = parts[pd.isna(parts['Part Name'])].index\n",
    "parts['Part Debug'] = parts['Part Debug'].apply(lambda x: format_part_name(x))\n",
    "parts['Part Name 2'] = parts['Part Debug'].apply(generalize_part_name)\n",
    "null_index = parts[pd.isna(parts['Part Name']) & pd.notna(parts['Part Name 2'])].index\n",
    "parts['Part Name'].loc[null_index] = parts['Part Name 2'].loc[null_index]\n",
    "\n",
    "parts = parts[['Singer', 'Album', 'Song', 'All Singers', 'Part Singer', 'Part Name', 'Part Lyrics']]"
   ]
  },
  {
   "cell_type": "code",
   "execution_count": 27,
   "metadata": {},
   "outputs": [
    {
     "data": {
      "text/plain": [
       "Verse      304549\n",
       "Chorus     261142\n",
       "Hook        60160\n",
       "Bridge      42197\n",
       "Outro       38586\n",
       "Intro       35720\n",
       "NaN         21074\n",
       "Refrain     10392\n",
       "Other        7842\n",
       "Skit          577\n",
       "Name: Part Name, dtype: int64"
      ]
     },
     "execution_count": 27,
     "metadata": {},
     "output_type": "execute_result"
    }
   ],
   "source": [
    "parts['Part Name'].value_counts(dropna=False)"
   ]
  },
  {
   "cell_type": "code",
   "execution_count": 28,
   "metadata": {},
   "outputs": [
    {
     "data": {
      "text/html": [
       "<div>\n",
       "<style scoped>\n",
       "    .dataframe tbody tr th:only-of-type {\n",
       "        vertical-align: middle;\n",
       "    }\n",
       "\n",
       "    .dataframe tbody tr th {\n",
       "        vertical-align: top;\n",
       "    }\n",
       "\n",
       "    .dataframe thead th {\n",
       "        text-align: right;\n",
       "    }\n",
       "</style>\n",
       "<table border=\"1\" class=\"dataframe\">\n",
       "  <thead>\n",
       "    <tr style=\"text-align: right;\">\n",
       "      <th></th>\n",
       "      <th>Singer</th>\n",
       "      <th>Album</th>\n",
       "      <th>Song</th>\n",
       "      <th>All Singers</th>\n",
       "      <th>Part Singer</th>\n",
       "      <th>Part Name</th>\n",
       "      <th>Part Lyrics</th>\n",
       "    </tr>\n",
       "  </thead>\n",
       "  <tbody>\n",
       "    <tr>\n",
       "      <th>0</th>\n",
       "      <td>$UICIDEBOY$</td>\n",
       "      <td>7th or St. Tammany</td>\n",
       "      <td>40 Oz. &amp; Sober</td>\n",
       "      <td>['$UICIDEBOY$']</td>\n",
       "      <td>$UICIDEBOY$</td>\n",
       "      <td>Hook</td>\n",
       "      <td>Killer, killer, killer\\nWhat the fuck you gon'...</td>\n",
       "    </tr>\n",
       "    <tr>\n",
       "      <th>1</th>\n",
       "      <td>$UICIDEBOY$</td>\n",
       "      <td>7th or St. Tammany</td>\n",
       "      <td>40 Oz. &amp; Sober</td>\n",
       "      <td>['$UICIDEBOY$']</td>\n",
       "      <td>$UICIDEBOY$</td>\n",
       "      <td>Verse</td>\n",
       "      <td>Bitch, I be the $nowmane\\nFifty nine shades of...</td>\n",
       "    </tr>\n",
       "    <tr>\n",
       "      <th>2</th>\n",
       "      <td>$UICIDEBOY$</td>\n",
       "      <td>7th or St. Tammany</td>\n",
       "      <td>40 Oz. &amp; Sober</td>\n",
       "      <td>['$UICIDEBOY$']</td>\n",
       "      <td>$UICIDEBOY$</td>\n",
       "      <td>Hook</td>\n",
       "      <td>Killer, killer\\nWhat the fuck you gon' do?\\nI'...</td>\n",
       "    </tr>\n",
       "    <tr>\n",
       "      <th>3</th>\n",
       "      <td>$UICIDEBOY$</td>\n",
       "      <td>7th or St. Tammany</td>\n",
       "      <td>40 Oz. &amp; Sober</td>\n",
       "      <td>['$UICIDEBOY$']</td>\n",
       "      <td>$UICIDEBOY$</td>\n",
       "      <td>Verse</td>\n",
       "      <td>Yesterday, I rode my bike to the moon\\nOr thou...</td>\n",
       "    </tr>\n",
       "    <tr>\n",
       "      <th>4</th>\n",
       "      <td>$UICIDEBOY$</td>\n",
       "      <td>7th or St. Tammany</td>\n",
       "      <td>40 Oz. &amp; Sober</td>\n",
       "      <td>['$UICIDEBOY$']</td>\n",
       "      <td>$UICIDEBOY$</td>\n",
       "      <td>Hook</td>\n",
       "      <td>Killer, killer\\nWhat the fuck you gon' do?\\nI'...</td>\n",
       "    </tr>\n",
       "  </tbody>\n",
       "</table>\n",
       "</div>"
      ],
      "text/plain": [
       "        Singer               Album            Song      All Singers  \\\n",
       "0  $UICIDEBOY$  7th or St. Tammany  40 Oz. & Sober  ['$UICIDEBOY$']   \n",
       "1  $UICIDEBOY$  7th or St. Tammany  40 Oz. & Sober  ['$UICIDEBOY$']   \n",
       "2  $UICIDEBOY$  7th or St. Tammany  40 Oz. & Sober  ['$UICIDEBOY$']   \n",
       "3  $UICIDEBOY$  7th or St. Tammany  40 Oz. & Sober  ['$UICIDEBOY$']   \n",
       "4  $UICIDEBOY$  7th or St. Tammany  40 Oz. & Sober  ['$UICIDEBOY$']   \n",
       "\n",
       "   Part Singer Part Name                                        Part Lyrics  \n",
       "0  $UICIDEBOY$      Hook  Killer, killer, killer\\nWhat the fuck you gon'...  \n",
       "1  $UICIDEBOY$     Verse  Bitch, I be the $nowmane\\nFifty nine shades of...  \n",
       "2  $UICIDEBOY$      Hook  Killer, killer\\nWhat the fuck you gon' do?\\nI'...  \n",
       "3  $UICIDEBOY$     Verse  Yesterday, I rode my bike to the moon\\nOr thou...  \n",
       "4  $UICIDEBOY$      Hook  Killer, killer\\nWhat the fuck you gon' do?\\nI'...  "
      ]
     },
     "execution_count": 28,
     "metadata": {},
     "output_type": "execute_result"
    }
   ],
   "source": [
    "parts.head()"
   ]
  },
  {
   "cell_type": "code",
   "execution_count": 29,
   "metadata": {},
   "outputs": [
    {
     "data": {
      "text/plain": [
       "(782239, 7)"
      ]
     },
     "execution_count": 29,
     "metadata": {},
     "output_type": "execute_result"
    }
   ],
   "source": [
    "parts.shape"
   ]
  },
  {
   "cell_type": "markdown",
   "metadata": {},
   "source": [
    "(363932, 7)"
   ]
  },
  {
   "cell_type": "code",
   "execution_count": 30,
   "metadata": {},
   "outputs": [
    {
     "data": {
      "text/plain": [
       "(664329, 7)"
      ]
     },
     "execution_count": 30,
     "metadata": {},
     "output_type": "execute_result"
    }
   ],
   "source": [
    "parts.drop_duplicates(subset='Part Lyrics', keep='last', inplace=True)\n",
    "parts.sort_values(by=['Singer', 'Album'], inplace=True)\n",
    "parts.reset_index(drop=True, inplace=True)\n",
    "parts.shape"
   ]
  },
  {
   "cell_type": "markdown",
   "metadata": {},
   "source": [
    "(304639, 7)"
   ]
  },
  {
   "cell_type": "code",
   "execution_count": 31,
   "metadata": {},
   "outputs": [
    {
     "data": {
      "text/plain": [
       "Singer             0\n",
       "Album          88382\n",
       "Song               0\n",
       "All Singers        0\n",
       "Part Singer        0\n",
       "Part Name      20008\n",
       "Part Lyrics        0\n",
       "dtype: int64"
      ]
     },
     "execution_count": 31,
     "metadata": {},
     "output_type": "execute_result"
    }
   ],
   "source": [
    "parts.isnull().sum()"
   ]
  },
  {
   "cell_type": "code",
   "execution_count": 32,
   "metadata": {},
   "outputs": [],
   "source": [
    "parts.to_csv('parts_dataset.csv')"
   ]
  },
  {
   "cell_type": "code",
   "execution_count": null,
   "metadata": {},
   "outputs": [],
   "source": []
  }
 ],
 "metadata": {
  "kernelspec": {
   "display_name": "Python 3",
   "language": "python",
   "name": "python3"
  },
  "language_info": {
   "codemirror_mode": {
    "name": "ipython",
    "version": 3
   },
   "file_extension": ".py",
   "mimetype": "text/x-python",
   "name": "python",
   "nbconvert_exporter": "python",
   "pygments_lexer": "ipython3",
   "version": "3.6.8"
  }
 },
 "nbformat": 4,
 "nbformat_minor": 2
}
