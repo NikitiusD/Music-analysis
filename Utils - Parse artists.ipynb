{
 "cells": [
  {
   "cell_type": "code",
   "execution_count": null,
   "metadata": {},
   "outputs": [],
   "source": [
    "import json\n",
    "from bs4 import BeautifulSoup\n",
    "import pandas as pd"
   ]
  },
  {
   "cell_type": "markdown",
   "metadata": {},
   "source": [
    "# Parse https://www.rollingstone.com/charts/artists/"
   ]
  },
  {
   "cell_type": "markdown",
   "metadata": {},
   "source": [
    "Open [this](https://www.rollingstone.com/wp-admin/admin-ajax.php?counter=0&chart=artists&results_per=500&chart_date=Jul+19%2C+2019&action=rscharts_fetch_subchart) and download"
   ]
  },
  {
   "cell_type": "code",
   "execution_count": null,
   "metadata": {},
   "outputs": [],
   "source": [
    "with open(\"admin-ajax.json\") as json_data:\n",
    "     data = json.load(json_data)\n",
    "\n",
    "soup = BeautifulSoup(data['data'], \"lxml\")\n",
    "articles = soup.findAll('p')\n",
    "articles = [article.text for article in articles]\n",
    "\n",
    "with open('new_singers_again.txt', 'w+', encoding='utf-8') as file:\n",
    "    file.write('\\n'.join(articles))"
   ]
  },
  {
   "cell_type": "markdown",
   "metadata": {},
   "source": [
    "# Parse http://www.acclaimedmusic.net/061024/1948-09art.htm"
   ]
  },
  {
   "cell_type": "code",
   "execution_count": null,
   "metadata": {},
   "outputs": [],
   "source": [
    "artists = []\n",
    "\n",
    "for page_num in ['', '2', '3', '4', '5']:\n",
    "    url = f'http://www.acclaimedmusic.net/061024/1948-09art{page_num}.htm'\n",
    "    table = pd.read_html(url)[0]\n",
    "    artists.extend(table.iloc[:, 1].apply(lambda x: np.nan if x == 'Albums' else x).dropna().values)\n",
    "\n",
    "with open('new_singers_again_2.txt', 'w+', encoding='utf-8') as file:\n",
    "    file.write('\\n'.join(artists))"
   ]
  }
 ],
 "metadata": {
  "kernelspec": {
   "display_name": "Python 3",
   "language": "python",
   "name": "python3"
  },
  "language_info": {
   "codemirror_mode": {
    "name": "ipython",
    "version": 3
   },
   "file_extension": ".py",
   "mimetype": "text/x-python",
   "name": "python",
   "nbconvert_exporter": "python",
   "pygments_lexer": "ipython3",
   "version": "3.6.8"
  }
 },
 "nbformat": 4,
 "nbformat_minor": 2
}
