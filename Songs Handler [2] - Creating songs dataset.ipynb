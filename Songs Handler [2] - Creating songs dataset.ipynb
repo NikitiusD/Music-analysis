{
 "cells": [
  {
   "cell_type": "code",
   "execution_count": null,
   "metadata": {},
   "outputs": [],
   "source": [
    "import pandas as pd\n",
    "import numpy as np\n",
    "import ast\n",
    "import json\n",
    "import os\n",
    "import re"
   ]
  },
  {
   "cell_type": "code",
   "execution_count": null,
   "metadata": {},
   "outputs": [],
   "source": [
    "%%time\n",
    "lyrics_df = pd.read_csv('res_all.csv', index_col=0)\n",
    "lyrics_df.drop('album_url', axis=1, inplace=True)\n",
    "lyrics_df.drop_duplicates(subset='text', keep='last', inplace=True)\n",
    "lyrics_df = lyrics_df[lyrics_df['text'].apply(len) > 300]\n",
    "lyrics_df = lyrics_df[['artist', 'album', 'song', 'featuring', 'text']]\n",
    "lyrics_df.columns = ['Author', 'Album', 'Song', 'Featuring', 'Lyrics']\n",
    "lyrics_df = lyrics_df[lyrics_df['Song'].apply(lambda x: '(Skit)' not in x and '(Live' not in x)]\n",
    "lyrics_df.sort_values(by=['Author', 'Album'], inplace=True)\n",
    "lyrics_df.reset_index(drop=True, inplace=True)\n",
    "print(lyrics_df.shape)"
   ]
  },
  {
   "cell_type": "code",
   "execution_count": null,
   "metadata": {},
   "outputs": [],
   "source": [
    "lyrics_df.head()"
   ]
  },
  {
   "cell_type": "code",
   "execution_count": null,
   "metadata": {},
   "outputs": [],
   "source": [
    "# with open(\"singers_aliases.json\", \"rb\") as file:\n",
    "#     rename_dict = json.load(file)\n",
    "    \n",
    "# lyrics_df['Author'] = lyrics_df['Author'].apply(lambda author: rename_dict.get(author, author))"
   ]
  },
  {
   "cell_type": "code",
   "execution_count": null,
   "metadata": {},
   "outputs": [],
   "source": [
    "lyrics_df.to_csv('songs_dataset.csv')"
   ]
  },
  {
   "cell_type": "markdown",
   "metadata": {},
   "source": [
    "# Experiments"
   ]
  },
  {
   "cell_type": "code",
   "execution_count": null,
   "metadata": {},
   "outputs": [],
   "source": [
    "def get_part_lyrics(part):\n",
    "    part = part[1:]\n",
    "    return '\\n'.join(part)"
   ]
  },
  {
   "cell_type": "code",
   "execution_count": null,
   "metadata": {},
   "outputs": [],
   "source": [
    "def get_part_info(part, all_singers, author, album, song):\n",
    "    singer = None\n",
    "    brackets = part[0]\n",
    "    brackets_parts = brackets[1:-1].split(':')\n",
    "    if len(brackets_parts) == 1:\n",
    "        singer = all_singers[0]\n",
    "        part_name = brackets_parts[0].strip()\n",
    "    else:\n",
    "        part_singers = brackets_parts[1]\n",
    "        part_singers = list(map(str.strip, re.split(',|&', part_singers)))\n",
    "        for part_singer in part_singers:\n",
    "            if part_singer in all_singers:\n",
    "                singer = part_singer\n",
    "                break\n",
    "        part_name = brackets_parts[0]\n",
    "    part_lyrics = get_part_lyrics(part)\n",
    "    if part_lyrics == '' or not singer:\n",
    "        return None\n",
    "    return [author, album, song, singer, part_name, part_lyrics]"
   ]
  },
  {
   "cell_type": "code",
   "execution_count": null,
   "metadata": {
    "scrolled": true
   },
   "outputs": [],
   "source": [
    "song_pathes = ['Kanye West_NBA 2K13 Soundtrack_Mercy_2 Chainz_Pusha T_Big Sean.txt',\n",
    "               'Logic_Confessions of a Dangerous Mind_Homicide_Eminem.txt',\n",
    "               'Eminem_Kamikaze_Venom.txt',\n",
    "               'Lil Pump_Lil Pump_Gucci Gang.txt']\n",
    "\n",
    "songs_info = []\n",
    "\n",
    "for song_path in song_pathes:\n",
    "    song_text = open(f'lyrics_examples/{song_path}').read()\n",
    "    author, album, song, *feats = os.path.splitext(song_path)[0].split('_')\n",
    "    all_singers = [author] + feats\n",
    "    \n",
    "    indices = [i for i, ltr in enumerate(song_text) if ltr == '[' and song_text[i-1] == '\\n'] + [len(song_text)]\n",
    "    song_parts = [song_text[indices[i]:indices[i+1]].strip().split('\\n') for i, index in enumerate(indices[:-1])]\n",
    "    song_parts_info = [get_part_info(song_part, all_singers, author, album, song) for song_part in song_parts]\n",
    "    song_parts_info = filter(None, song_parts_info)\n",
    "    song_parts_info\n",
    "    \n",
    "    songs_info.extend(song_parts_info)\n",
    "\n",
    "songs_info_df = pd.DataFrame(songs_info, columns=['Author', 'Album', 'Song', 'Singer', 'Song Part', 'Lyrics'])\n",
    "songs_info_df"
   ]
  }
 ],
 "metadata": {
  "kernelspec": {
   "display_name": "Python 3",
   "language": "python",
   "name": "python3"
  },
  "language_info": {
   "codemirror_mode": {
    "name": "ipython",
    "version": 3
   },
   "file_extension": ".py",
   "mimetype": "text/x-python",
   "name": "python",
   "nbconvert_exporter": "python",
   "pygments_lexer": "ipython3",
   "version": "3.6.8"
  }
 },
 "nbformat": 4,
 "nbformat_minor": 2
}
