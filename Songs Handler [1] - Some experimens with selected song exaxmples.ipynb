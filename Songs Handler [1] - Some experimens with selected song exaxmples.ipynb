{
 "cells": [
  {
   "cell_type": "code",
   "execution_count": 1,
   "metadata": {},
   "outputs": [],
   "source": [
    "import pandas as pd\n",
    "import os\n",
    "import re"
   ]
  },
  {
   "cell_type": "code",
   "execution_count": null,
   "metadata": {},
   "outputs": [],
   "source": [
    "# path = 'Kanye West_NBA 2K13 Soundtrack_Mercy_2 Chainz_Pusha T_Big Sean.txt'\n",
    "# path = 'Logic_Confessions of a Dangerous Mind_Homicide_Eminem.txt'\n",
    "# path = 'Eminem_Kamikaze_Venom.txt'\n",
    "path = 'Lil Pump_Lil Pump_Gucci Gang.txt'\n",
    "song_lyrics = open(f'lyrics_examples/{path}').read()"
   ]
  },
  {
   "cell_type": "code",
   "execution_count": null,
   "metadata": {
    "scrolled": true
   },
   "outputs": [],
   "source": [
    "print(song_lyrics)"
   ]
  },
  {
   "cell_type": "code",
   "execution_count": null,
   "metadata": {},
   "outputs": [],
   "source": [
    "author, album, song, *feats = os.path.splitext(path)[0].split('_')\n",
    "all_singers = [author] + feats\n",
    "author, album, song, feats, all_singers"
   ]
  },
  {
   "cell_type": "code",
   "execution_count": null,
   "metadata": {
    "scrolled": true
   },
   "outputs": [],
   "source": [
    "indices = [i for i, ltr in enumerate(song_lyrics) if ltr == '['] + [len(song_lyrics)]\n",
    "song_parts = [song_lyrics[indices[i]:indices[i+1]].strip().split('\\n') for i, index in enumerate(indices[:-1])]\n",
    "song_parts"
   ]
  },
  {
   "cell_type": "code",
   "execution_count": null,
   "metadata": {},
   "outputs": [],
   "source": [
    "song_parts[0][1:]"
   ]
  },
  {
   "cell_type": "code",
   "execution_count": null,
   "metadata": {},
   "outputs": [],
   "source": [
    "def format_lyrics(lyrics):\n",
    "    lyrics = re.sub('[.,!:?\\\"\\']', '', lyrics)\n",
    "    lyrics = re.sub('[-–— ]+', ' ', lyrics)\n",
    "    lyrics = lyrics.strip()\n",
    "    lyrics = lyrics.lower()\n",
    "    return lyrics"
   ]
  },
  {
   "cell_type": "code",
   "execution_count": null,
   "metadata": {},
   "outputs": [],
   "source": [
    "def get_part_lyrics(part):\n",
    "    part = map(format_lyrics, part[1:])\n",
    "#     part = [line for line in part if line[0] != '(' or line[-1] != ')']\n",
    "    return '\\n'.join(part)"
   ]
  },
  {
   "cell_type": "code",
   "execution_count": null,
   "metadata": {},
   "outputs": [],
   "source": [
    "def get_part_info(part, all_singers, author, album, song):\n",
    "    singer = None\n",
    "    brackets = part[0]\n",
    "    brackets_parts = brackets[1:-1].split(':')\n",
    "    if len(brackets_parts) == 1:\n",
    "        singer = all_singers[0]\n",
    "        part_name = brackets_parts[0]\n",
    "    else:\n",
    "        part_singers = brackets_parts[1]\n",
    "        part_singers = list(map(str.strip, re.split(',|&', part_singers)))\n",
    "        for part_singer in part_singers:\n",
    "            if part_singer in all_singers:\n",
    "                singer = part_singer\n",
    "                break\n",
    "        part_name = brackets_parts[0]\n",
    "    if not singer:\n",
    "        return None\n",
    "    part_lyrics = get_part_lyrics(part)\n",
    "    return [author, album, song, singer, part_name, part_lyrics]"
   ]
  },
  {
   "cell_type": "code",
   "execution_count": null,
   "metadata": {
    "scrolled": true
   },
   "outputs": [],
   "source": [
    "song_parts_brackets = [part[0] for part in song_parts]\n",
    "song_parts_brackets.append('[Intro]')\n",
    "song_parts_brackets.append('[Outro]')\n",
    "song_parts_brackets"
   ]
  },
  {
   "cell_type": "code",
   "execution_count": null,
   "metadata": {},
   "outputs": [],
   "source": [
    "part_name, singers = song_parts_brackets[0][1:-1].split(':')\n",
    "part_name, singers"
   ]
  },
  {
   "cell_type": "code",
   "execution_count": null,
   "metadata": {
    "scrolled": true
   },
   "outputs": [],
   "source": [
    "list(map(str.strip, re.split(',|&', singers)))"
   ]
  },
  {
   "cell_type": "code",
   "execution_count": null,
   "metadata": {
    "scrolled": true
   },
   "outputs": [],
   "source": [
    "singers"
   ]
  },
  {
   "cell_type": "code",
   "execution_count": null,
   "metadata": {
    "scrolled": true
   },
   "outputs": [],
   "source": [
    "song_parts_brackets[1:]"
   ]
  },
  {
   "cell_type": "code",
   "execution_count": null,
   "metadata": {
    "scrolled": false
   },
   "outputs": [],
   "source": [
    "get_part_info(song_parts[6], all_singers)"
   ]
  },
  {
   "cell_type": "code",
   "execution_count": null,
   "metadata": {},
   "outputs": [],
   "source": [
    "parts_info = [get_part_info(song_part, all_singers) for song_part in song_parts]"
   ]
  },
  {
   "cell_type": "code",
   "execution_count": null,
   "metadata": {},
   "outputs": [],
   "source": [
    "parts_info"
   ]
  },
  {
   "cell_type": "code",
   "execution_count": null,
   "metadata": {},
   "outputs": [],
   "source": [
    "pd.DataFrame(parts_info, columns=['Author', 'Album', 'Song', 'Singer', 'Song Part', 'Lyrics'])"
   ]
  },
  {
   "cell_type": "code",
   "execution_count": null,
   "metadata": {
    "scrolled": false
   },
   "outputs": [],
   "source": [
    "song_pathes = ['Kanye West_NBA 2K13 Soundtrack_Mercy_2 Chainz_Pusha T_Big Sean.txt',\n",
    "               'Logic_Confessions of a Dangerous Mind_Homicide_Eminem.txt',\n",
    "               'Eminem_Kamikaze_Venom.txt',\n",
    "               'Lil Pump_Lil Pump_Gucci Gang.txt']\n",
    "\n",
    "songs_info = []\n",
    "\n",
    "for song_path in song_pathes:\n",
    "    song_text = open(f'lyrics_examples/{song_path}').read()\n",
    "    author, album, song, *feats = os.path.splitext(song_path)[0].split('_')\n",
    "    all_singers = [author] + feats\n",
    "    \n",
    "    indices = [i for i, ltr in enumerate(song_text) if ltr == '['] + [len(song_text)]\n",
    "    song_parts = [song_text[indices[i]:indices[i+1]].strip().split('\\n') for i, index in enumerate(indices[:-1])]\n",
    "    song_parts_info = [get_part_info(song_part, all_singers, author, album, song) for song_part in song_parts]\n",
    "    song_parts_info = filter(None, song_parts_info)\n",
    "    song_parts_info\n",
    "    \n",
    "    songs_info.extend(song_parts_info)\n",
    "\n",
    "songs_info_df = pd.DataFrame(songs_info, columns=['Author', 'Album', 'Song', 'Singer', 'Song Part', 'Lyrics'])\n",
    "songs_info_df"
   ]
  },
  {
   "cell_type": "code",
   "execution_count": null,
   "metadata": {
    "scrolled": true
   },
   "outputs": [],
   "source": [
    "temp = songs_info_df.iloc[25]['Lyrics'].split('\\n')\n",
    "temp"
   ]
  },
  {
   "cell_type": "code",
   "execution_count": null,
   "metadata": {},
   "outputs": [],
   "source": []
  },
  {
   "cell_type": "code",
   "execution_count": null,
   "metadata": {},
   "outputs": [],
   "source": []
  },
  {
   "cell_type": "code",
   "execution_count": null,
   "metadata": {},
   "outputs": [],
   "source": []
  },
  {
   "cell_type": "code",
   "execution_count": null,
   "metadata": {},
   "outputs": [],
   "source": []
  },
  {
   "cell_type": "code",
   "execution_count": 74,
   "metadata": {},
   "outputs": [
    {
     "data": {
      "text/plain": [
       "(473, 6)"
      ]
     },
     "execution_count": 74,
     "metadata": {},
     "output_type": "execute_result"
    }
   ],
   "source": [
    "lyrics_df = pd.read_csv('res_all.csv', index_col=0)\n",
    "lyrics_df[lyrics_df['artist'] == 'ABBA'].shape"
   ]
  },
  {
   "cell_type": "code",
   "execution_count": 75,
   "metadata": {
    "scrolled": true
   },
   "outputs": [
    {
     "data": {
      "text/plain": [
       "(192, 6)"
      ]
     },
     "execution_count": 75,
     "metadata": {},
     "output_type": "execute_result"
    }
   ],
   "source": [
    "df = pd.read_csv('res_0-50.csv', engine='python', sep=';', index_col=0, encoding='utf-8')\n",
    "df[df['artist'] == 'ABBA'].shape"
   ]
  },
  {
   "cell_type": "code",
   "execution_count": 35,
   "metadata": {},
   "outputs": [
    {
     "data": {
      "text/plain": [
       "array(['$UICIDEBOY$', '2 Chainz', '21 Savage', '2Pac', '50 Cent', '6LACK',\n",
       "       '6ix9ine', 'A Boogie wit da Hoodie', 'A$AP Ferg', 'A$AP Rocky',\n",
       "       'ABBA', 'AC/DC', 'Adele', 'Anacondaz', 'Arctic Monkeys',\n",
       "       'Ariana Grande', 'Баста (Basta)', 'БИ-2 (BI-2)', 'Big Baby Tape',\n",
       "       'Big Sean', 'Britney Spears', 'Camila Cabello', 'Cardi B',\n",
       "       'Chief Keef', 'DMX', 'David Guetta', 'Deep Purple', 'Denzel Curry',\n",
       "       'Depeche Mode', 'Desiigner', 'Die Antwoord', 'Disturbed',\n",
       "       'Dr.\\xa0Dre', 'Drake', 'Ed Sheeran', 'EIGHTEEN',\n",
       "       'Элджей (Eldzhey)', 'Eminem', 'Эрика Лундмоен (Erika Lundmoen)',\n",
       "       'FACE', 'Fall Out Boy', 'Feduk', 'Fifth Harmony', 'Future',\n",
       "       'G-Eazy', 'Gorillaz', 'Градусы (Gradusy)', '\\u200bgrandson',\n",
       "       'Green Day', 'Gucci Mane'], dtype=object)"
      ]
     },
     "execution_count": 35,
     "metadata": {},
     "output_type": "execute_result"
    }
   ],
   "source": [
    "df['artist'].unique()"
   ]
  },
  {
   "cell_type": "code",
   "execution_count": 36,
   "metadata": {},
   "outputs": [],
   "source": [
    "arts = ['$uicideBoy$', '2 Chainz', '21 Savage', '2Pac', '50 Cent', '6LACK', '6ix9ine', 'A Boogie wit da Hoodie', 'A$AP Ferg', 'A$AP Rocky', 'ABBA', 'AC/DC', 'Adele', 'Anacondaz', 'Arctic Monkeys', 'Ariana Grande', 'Basta', 'Bi-2', 'Big Baby Tape', 'Big Sean', 'Britney Spears', 'Camila Cabello', 'Cardi B', 'Chief Keef', 'DMX', 'David Guetta', 'Deep Purple', 'Denzel Curry', 'Depeche Mode', 'Desiigner', 'Die Antwoord', 'Disturbed', 'Dr. Dre', 'Drake', 'Ed Sheeran', 'Eighteen', 'Eldzhey', 'Eminem', 'Erika Lundmoen', 'FACE', 'Fall Out Boy', 'Feduk', 'Fifth Harmony', 'Future', 'G-Eazy', 'Gorillaz', 'Gradusy', 'Grandson', 'Green Day', 'Gucci Mane']"
   ]
  },
  {
   "cell_type": "code",
   "execution_count": 37,
   "metadata": {},
   "outputs": [],
   "source": [
    "abc = pd.DataFrame(columns = ['Artist', 'Было', 'Стало'])\n",
    "\n",
    "for i, art in enumerate(arts):\n",
    "    bilo = lyrics_df[lyrics_df['artist'] == art].shape[0]\n",
    "    stalo = df[df['artist'] == art].shape[0]\n",
    "    abc.loc[i] = [art, bilo, stalo]\n",
    "abc['Норм'] = abc['Стало'] >= abc['Было']"
   ]
  },
  {
   "cell_type": "code",
   "execution_count": 38,
   "metadata": {
    "scrolled": true
   },
   "outputs": [],
   "source": [
    "abc.to_csv('abc.csv')"
   ]
  },
  {
   "cell_type": "code",
   "execution_count": 73,
   "metadata": {},
   "outputs": [
    {
     "data": {
      "text/html": [
       "<div>\n",
       "<style scoped>\n",
       "    .dataframe tbody tr th:only-of-type {\n",
       "        vertical-align: middle;\n",
       "    }\n",
       "\n",
       "    .dataframe tbody tr th {\n",
       "        vertical-align: top;\n",
       "    }\n",
       "\n",
       "    .dataframe thead th {\n",
       "        text-align: right;\n",
       "    }\n",
       "</style>\n",
       "<table border=\"1\" class=\"dataframe\">\n",
       "  <thead>\n",
       "    <tr style=\"text-align: right;\">\n",
       "      <th></th>\n",
       "      <th>Artist</th>\n",
       "      <th>Было</th>\n",
       "      <th>Стало</th>\n",
       "      <th>Норм</th>\n",
       "    </tr>\n",
       "  </thead>\n",
       "  <tbody>\n",
       "    <tr>\n",
       "      <th>0</th>\n",
       "      <td>$uicideBoy$</td>\n",
       "      <td>193</td>\n",
       "      <td>0</td>\n",
       "      <td>False</td>\n",
       "    </tr>\n",
       "    <tr>\n",
       "      <th>1</th>\n",
       "      <td>2 Chainz</td>\n",
       "      <td>228</td>\n",
       "      <td>279</td>\n",
       "      <td>True</td>\n",
       "    </tr>\n",
       "    <tr>\n",
       "      <th>2</th>\n",
       "      <td>21 Savage</td>\n",
       "      <td>80</td>\n",
       "      <td>117</td>\n",
       "      <td>True</td>\n",
       "    </tr>\n",
       "    <tr>\n",
       "      <th>3</th>\n",
       "      <td>2Pac</td>\n",
       "      <td>522</td>\n",
       "      <td>601</td>\n",
       "      <td>True</td>\n",
       "    </tr>\n",
       "    <tr>\n",
       "      <th>4</th>\n",
       "      <td>50 Cent</td>\n",
       "      <td>362</td>\n",
       "      <td>400</td>\n",
       "      <td>True</td>\n",
       "    </tr>\n",
       "    <tr>\n",
       "      <th>5</th>\n",
       "      <td>6LACK</td>\n",
       "      <td>33</td>\n",
       "      <td>49</td>\n",
       "      <td>True</td>\n",
       "    </tr>\n",
       "    <tr>\n",
       "      <th>6</th>\n",
       "      <td>6ix9ine</td>\n",
       "      <td>42</td>\n",
       "      <td>58</td>\n",
       "      <td>True</td>\n",
       "    </tr>\n",
       "    <tr>\n",
       "      <th>7</th>\n",
       "      <td>A Boogie wit da Hoodie</td>\n",
       "      <td>70</td>\n",
       "      <td>119</td>\n",
       "      <td>True</td>\n",
       "    </tr>\n",
       "    <tr>\n",
       "      <th>8</th>\n",
       "      <td>A$AP Ferg</td>\n",
       "      <td>81</td>\n",
       "      <td>117</td>\n",
       "      <td>True</td>\n",
       "    </tr>\n",
       "    <tr>\n",
       "      <th>9</th>\n",
       "      <td>A$AP Rocky</td>\n",
       "      <td>83</td>\n",
       "      <td>191</td>\n",
       "      <td>True</td>\n",
       "    </tr>\n",
       "    <tr>\n",
       "      <th>10</th>\n",
       "      <td>ABBA</td>\n",
       "      <td>473</td>\n",
       "      <td>192</td>\n",
       "      <td>False</td>\n",
       "    </tr>\n",
       "    <tr>\n",
       "      <th>11</th>\n",
       "      <td>AC/DC</td>\n",
       "      <td>307</td>\n",
       "      <td>184</td>\n",
       "      <td>False</td>\n",
       "    </tr>\n",
       "    <tr>\n",
       "      <th>12</th>\n",
       "      <td>Adele</td>\n",
       "      <td>64</td>\n",
       "      <td>61</td>\n",
       "      <td>False</td>\n",
       "    </tr>\n",
       "    <tr>\n",
       "      <th>13</th>\n",
       "      <td>Anacondaz</td>\n",
       "      <td>91</td>\n",
       "      <td>96</td>\n",
       "      <td>True</td>\n",
       "    </tr>\n",
       "    <tr>\n",
       "      <th>14</th>\n",
       "      <td>Arctic Monkeys</td>\n",
       "      <td>158</td>\n",
       "      <td>145</td>\n",
       "      <td>False</td>\n",
       "    </tr>\n",
       "    <tr>\n",
       "      <th>15</th>\n",
       "      <td>Ariana Grande</td>\n",
       "      <td>146</td>\n",
       "      <td>225</td>\n",
       "      <td>True</td>\n",
       "    </tr>\n",
       "    <tr>\n",
       "      <th>16</th>\n",
       "      <td>Basta</td>\n",
       "      <td>86</td>\n",
       "      <td>0</td>\n",
       "      <td>False</td>\n",
       "    </tr>\n",
       "    <tr>\n",
       "      <th>17</th>\n",
       "      <td>Bi-2</td>\n",
       "      <td>126</td>\n",
       "      <td>0</td>\n",
       "      <td>False</td>\n",
       "    </tr>\n",
       "    <tr>\n",
       "      <th>18</th>\n",
       "      <td>Big Baby Tape</td>\n",
       "      <td>46</td>\n",
       "      <td>85</td>\n",
       "      <td>True</td>\n",
       "    </tr>\n",
       "    <tr>\n",
       "      <th>19</th>\n",
       "      <td>Big Sean</td>\n",
       "      <td>202</td>\n",
       "      <td>237</td>\n",
       "      <td>True</td>\n",
       "    </tr>\n",
       "    <tr>\n",
       "      <th>20</th>\n",
       "      <td>Britney Spears</td>\n",
       "      <td>268</td>\n",
       "      <td>198</td>\n",
       "      <td>False</td>\n",
       "    </tr>\n",
       "    <tr>\n",
       "      <th>21</th>\n",
       "      <td>Camila Cabello</td>\n",
       "      <td>11</td>\n",
       "      <td>51</td>\n",
       "      <td>True</td>\n",
       "    </tr>\n",
       "    <tr>\n",
       "      <th>22</th>\n",
       "      <td>Cardi B</td>\n",
       "      <td>53</td>\n",
       "      <td>61</td>\n",
       "      <td>True</td>\n",
       "    </tr>\n",
       "    <tr>\n",
       "      <th>23</th>\n",
       "      <td>Chief Keef</td>\n",
       "      <td>415</td>\n",
       "      <td>832</td>\n",
       "      <td>True</td>\n",
       "    </tr>\n",
       "    <tr>\n",
       "      <th>24</th>\n",
       "      <td>DMX</td>\n",
       "      <td>348</td>\n",
       "      <td>317</td>\n",
       "      <td>False</td>\n",
       "    </tr>\n",
       "    <tr>\n",
       "      <th>25</th>\n",
       "      <td>David Guetta</td>\n",
       "      <td>250</td>\n",
       "      <td>306</td>\n",
       "      <td>True</td>\n",
       "    </tr>\n",
       "    <tr>\n",
       "      <th>26</th>\n",
       "      <td>Deep Purple</td>\n",
       "      <td>296</td>\n",
       "      <td>358</td>\n",
       "      <td>True</td>\n",
       "    </tr>\n",
       "    <tr>\n",
       "      <th>27</th>\n",
       "      <td>Denzel Curry</td>\n",
       "      <td>142</td>\n",
       "      <td>140</td>\n",
       "      <td>False</td>\n",
       "    </tr>\n",
       "    <tr>\n",
       "      <th>28</th>\n",
       "      <td>Depeche Mode</td>\n",
       "      <td>448</td>\n",
       "      <td>544</td>\n",
       "      <td>True</td>\n",
       "    </tr>\n",
       "    <tr>\n",
       "      <th>29</th>\n",
       "      <td>Desiigner</td>\n",
       "      <td>42</td>\n",
       "      <td>80</td>\n",
       "      <td>True</td>\n",
       "    </tr>\n",
       "    <tr>\n",
       "      <th>30</th>\n",
       "      <td>Die Antwoord</td>\n",
       "      <td>90</td>\n",
       "      <td>87</td>\n",
       "      <td>False</td>\n",
       "    </tr>\n",
       "    <tr>\n",
       "      <th>31</th>\n",
       "      <td>Disturbed</td>\n",
       "      <td>126</td>\n",
       "      <td>144</td>\n",
       "      <td>True</td>\n",
       "    </tr>\n",
       "    <tr>\n",
       "      <th>32</th>\n",
       "      <td>Dr. Dre</td>\n",
       "      <td>135</td>\n",
       "      <td>0</td>\n",
       "      <td>False</td>\n",
       "    </tr>\n",
       "    <tr>\n",
       "      <th>33</th>\n",
       "      <td>Drake</td>\n",
       "      <td>227</td>\n",
       "      <td>522</td>\n",
       "      <td>True</td>\n",
       "    </tr>\n",
       "    <tr>\n",
       "      <th>34</th>\n",
       "      <td>Ed Sheeran</td>\n",
       "      <td>175</td>\n",
       "      <td>256</td>\n",
       "      <td>True</td>\n",
       "    </tr>\n",
       "    <tr>\n",
       "      <th>35</th>\n",
       "      <td>Eighteen</td>\n",
       "      <td>8</td>\n",
       "      <td>0</td>\n",
       "      <td>False</td>\n",
       "    </tr>\n",
       "    <tr>\n",
       "      <th>36</th>\n",
       "      <td>Eldzhey</td>\n",
       "      <td>62</td>\n",
       "      <td>0</td>\n",
       "      <td>False</td>\n",
       "    </tr>\n",
       "    <tr>\n",
       "      <th>37</th>\n",
       "      <td>Eminem</td>\n",
       "      <td>380</td>\n",
       "      <td>504</td>\n",
       "      <td>True</td>\n",
       "    </tr>\n",
       "    <tr>\n",
       "      <th>38</th>\n",
       "      <td>Erika Lundmoen</td>\n",
       "      <td>11</td>\n",
       "      <td>0</td>\n",
       "      <td>False</td>\n",
       "    </tr>\n",
       "    <tr>\n",
       "      <th>39</th>\n",
       "      <td>FACE</td>\n",
       "      <td>74</td>\n",
       "      <td>122</td>\n",
       "      <td>True</td>\n",
       "    </tr>\n",
       "    <tr>\n",
       "      <th>40</th>\n",
       "      <td>Fall Out Boy</td>\n",
       "      <td>280</td>\n",
       "      <td>190</td>\n",
       "      <td>False</td>\n",
       "    </tr>\n",
       "    <tr>\n",
       "      <th>41</th>\n",
       "      <td>Feduk</td>\n",
       "      <td>41</td>\n",
       "      <td>61</td>\n",
       "      <td>True</td>\n",
       "    </tr>\n",
       "    <tr>\n",
       "      <th>42</th>\n",
       "      <td>Fifth Harmony</td>\n",
       "      <td>110</td>\n",
       "      <td>143</td>\n",
       "      <td>True</td>\n",
       "    </tr>\n",
       "    <tr>\n",
       "      <th>43</th>\n",
       "      <td>Future</td>\n",
       "      <td>400</td>\n",
       "      <td>477</td>\n",
       "      <td>True</td>\n",
       "    </tr>\n",
       "    <tr>\n",
       "      <th>44</th>\n",
       "      <td>G-Eazy</td>\n",
       "      <td>169</td>\n",
       "      <td>255</td>\n",
       "      <td>True</td>\n",
       "    </tr>\n",
       "    <tr>\n",
       "      <th>45</th>\n",
       "      <td>Gorillaz</td>\n",
       "      <td>265</td>\n",
       "      <td>222</td>\n",
       "      <td>False</td>\n",
       "    </tr>\n",
       "    <tr>\n",
       "      <th>46</th>\n",
       "      <td>Gradusy</td>\n",
       "      <td>17</td>\n",
       "      <td>0</td>\n",
       "      <td>False</td>\n",
       "    </tr>\n",
       "    <tr>\n",
       "      <th>47</th>\n",
       "      <td>Grandson</td>\n",
       "      <td>20</td>\n",
       "      <td>0</td>\n",
       "      <td>False</td>\n",
       "    </tr>\n",
       "    <tr>\n",
       "      <th>48</th>\n",
       "      <td>Green Day</td>\n",
       "      <td>389</td>\n",
       "      <td>328</td>\n",
       "      <td>False</td>\n",
       "    </tr>\n",
       "    <tr>\n",
       "      <th>49</th>\n",
       "      <td>Gucci Mane</td>\n",
       "      <td>349</td>\n",
       "      <td>1135</td>\n",
       "      <td>True</td>\n",
       "    </tr>\n",
       "  </tbody>\n",
       "</table>\n",
       "</div>"
      ],
      "text/plain": [
       "                    Artist Было Стало   Норм\n",
       "0              $uicideBoy$  193     0  False\n",
       "1                 2 Chainz  228   279   True\n",
       "2                21 Savage   80   117   True\n",
       "3                     2Pac  522   601   True\n",
       "4                  50 Cent  362   400   True\n",
       "5                    6LACK   33    49   True\n",
       "6                  6ix9ine   42    58   True\n",
       "7   A Boogie wit da Hoodie   70   119   True\n",
       "8                A$AP Ferg   81   117   True\n",
       "9               A$AP Rocky   83   191   True\n",
       "10                    ABBA  473   192  False\n",
       "11                   AC/DC  307   184  False\n",
       "12                   Adele   64    61  False\n",
       "13               Anacondaz   91    96   True\n",
       "14          Arctic Monkeys  158   145  False\n",
       "15           Ariana Grande  146   225   True\n",
       "16                   Basta   86     0  False\n",
       "17                    Bi-2  126     0  False\n",
       "18           Big Baby Tape   46    85   True\n",
       "19                Big Sean  202   237   True\n",
       "20          Britney Spears  268   198  False\n",
       "21          Camila Cabello   11    51   True\n",
       "22                 Cardi B   53    61   True\n",
       "23              Chief Keef  415   832   True\n",
       "24                     DMX  348   317  False\n",
       "25            David Guetta  250   306   True\n",
       "26             Deep Purple  296   358   True\n",
       "27            Denzel Curry  142   140  False\n",
       "28            Depeche Mode  448   544   True\n",
       "29               Desiigner   42    80   True\n",
       "30            Die Antwoord   90    87  False\n",
       "31               Disturbed  126   144   True\n",
       "32                 Dr. Dre  135     0  False\n",
       "33                   Drake  227   522   True\n",
       "34              Ed Sheeran  175   256   True\n",
       "35                Eighteen    8     0  False\n",
       "36                 Eldzhey   62     0  False\n",
       "37                  Eminem  380   504   True\n",
       "38          Erika Lundmoen   11     0  False\n",
       "39                    FACE   74   122   True\n",
       "40            Fall Out Boy  280   190  False\n",
       "41                   Feduk   41    61   True\n",
       "42           Fifth Harmony  110   143   True\n",
       "43                  Future  400   477   True\n",
       "44                  G-Eazy  169   255   True\n",
       "45                Gorillaz  265   222  False\n",
       "46                 Gradusy   17     0  False\n",
       "47                Grandson   20     0  False\n",
       "48               Green Day  389   328  False\n",
       "49              Gucci Mane  349  1135   True"
      ]
     },
     "execution_count": 73,
     "metadata": {},
     "output_type": "execute_result"
    }
   ],
   "source": [
    "abc"
   ]
  },
  {
   "cell_type": "code",
   "execution_count": null,
   "metadata": {},
   "outputs": [],
   "source": []
  }
 ],
 "metadata": {
  "kernelspec": {
   "display_name": "Python 3",
   "language": "python",
   "name": "python3"
  },
  "language_info": {
   "codemirror_mode": {
    "name": "ipython",
    "version": 3
   },
   "file_extension": ".py",
   "mimetype": "text/x-python",
   "name": "python",
   "nbconvert_exporter": "python",
   "pygments_lexer": "ipython3",
   "version": "3.6.8"
  }
 },
 "nbformat": 4,
 "nbformat_minor": 2
}
