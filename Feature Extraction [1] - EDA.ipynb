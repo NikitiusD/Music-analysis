{
 "cells": [
  {
   "cell_type": "code",
   "execution_count": 1,
   "metadata": {},
   "outputs": [],
   "source": [
    "import pandas as pd\n",
    "import numpy as np\n",
    "import re\n",
    "\n",
    "# %matplotlib inline\n",
    "# import matplotlib.pyplot as plt"
   ]
  },
  {
   "cell_type": "code",
   "execution_count": 2,
   "metadata": {},
   "outputs": [
    {
     "data": {
      "text/html": [
       "<div>\n",
       "<style scoped>\n",
       "    .dataframe tbody tr th:only-of-type {\n",
       "        vertical-align: middle;\n",
       "    }\n",
       "\n",
       "    .dataframe tbody tr th {\n",
       "        vertical-align: top;\n",
       "    }\n",
       "\n",
       "    .dataframe thead th {\n",
       "        text-align: right;\n",
       "    }\n",
       "</style>\n",
       "<table border=\"1\" class=\"dataframe\">\n",
       "  <thead>\n",
       "    <tr style=\"text-align: right;\">\n",
       "      <th></th>\n",
       "      <th>Author</th>\n",
       "      <th>Album</th>\n",
       "      <th>Song</th>\n",
       "      <th>All Singers</th>\n",
       "      <th>Part Singer</th>\n",
       "      <th>Part Name</th>\n",
       "      <th>Part Lyrics</th>\n",
       "    </tr>\n",
       "  </thead>\n",
       "  <tbody>\n",
       "    <tr>\n",
       "      <th>0</th>\n",
       "      <td>$uicideBoy$</td>\n",
       "      <td>7th or St. Tammany</td>\n",
       "      <td>Dead Batteries</td>\n",
       "      <td>['$uicideBoy$']</td>\n",
       "      <td>$uicideBoy$</td>\n",
       "      <td>Intro</td>\n",
       "      <td>Hit the, hit the, hit the—\\nHit the tone, cock...</td>\n",
       "    </tr>\n",
       "    <tr>\n",
       "      <th>1</th>\n",
       "      <td>$uicideBoy$</td>\n",
       "      <td>7th or St. Tammany</td>\n",
       "      <td>Dead Batteries</td>\n",
       "      <td>['$uicideBoy$']</td>\n",
       "      <td>$uicideBoy$</td>\n",
       "      <td>Verse</td>\n",
       "      <td>Bitches know I got the vendetta\\nRollin' up th...</td>\n",
       "    </tr>\n",
       "    <tr>\n",
       "      <th>2</th>\n",
       "      <td>$uicideBoy$</td>\n",
       "      <td>7th or St. Tammany</td>\n",
       "      <td>Dead Batteries</td>\n",
       "      <td>['$uicideBoy$']</td>\n",
       "      <td>$uicideBoy$</td>\n",
       "      <td>Hook</td>\n",
       "      <td>Hit the tone, cock it back, ho, I gotta holla ...</td>\n",
       "    </tr>\n",
       "    <tr>\n",
       "      <th>3</th>\n",
       "      <td>$uicideBoy$</td>\n",
       "      <td>7th or St. Tammany</td>\n",
       "      <td>Dead Batteries</td>\n",
       "      <td>['$uicideBoy$']</td>\n",
       "      <td>$uicideBoy$</td>\n",
       "      <td>Verse</td>\n",
       "      <td>Here I come to paint it grey\\nWhip look like I...</td>\n",
       "    </tr>\n",
       "    <tr>\n",
       "      <th>4</th>\n",
       "      <td>$uicideBoy$</td>\n",
       "      <td>7th or St. Tammany</td>\n",
       "      <td>Dead Batteries</td>\n",
       "      <td>['$uicideBoy$']</td>\n",
       "      <td>$uicideBoy$</td>\n",
       "      <td>Hook</td>\n",
       "      <td>Hit the tone, cock it back, ho, I gotta holla ...</td>\n",
       "    </tr>\n",
       "  </tbody>\n",
       "</table>\n",
       "</div>"
      ],
      "text/plain": [
       "        Author               Album            Song      All Singers  \\\n",
       "0  $uicideBoy$  7th or St. Tammany  Dead Batteries  ['$uicideBoy$']   \n",
       "1  $uicideBoy$  7th or St. Tammany  Dead Batteries  ['$uicideBoy$']   \n",
       "2  $uicideBoy$  7th or St. Tammany  Dead Batteries  ['$uicideBoy$']   \n",
       "3  $uicideBoy$  7th or St. Tammany  Dead Batteries  ['$uicideBoy$']   \n",
       "4  $uicideBoy$  7th or St. Tammany  Dead Batteries  ['$uicideBoy$']   \n",
       "\n",
       "   Part Singer Part Name                                        Part Lyrics  \n",
       "0  $uicideBoy$     Intro  Hit the, hit the, hit the—\\nHit the tone, cock...  \n",
       "1  $uicideBoy$     Verse  Bitches know I got the vendetta\\nRollin' up th...  \n",
       "2  $uicideBoy$      Hook  Hit the tone, cock it back, ho, I gotta holla ...  \n",
       "3  $uicideBoy$     Verse  Here I come to paint it grey\\nWhip look like I...  \n",
       "4  $uicideBoy$      Hook  Hit the tone, cock it back, ho, I gotta holla ...  "
      ]
     },
     "execution_count": 2,
     "metadata": {},
     "output_type": "execute_result"
    }
   ],
   "source": [
    "df = pd.read_csv('parts_dataset.csv', index_col=0)\n",
    "df.head()"
   ]
  },
  {
   "cell_type": "code",
   "execution_count": 3,
   "metadata": {},
   "outputs": [
    {
     "data": {
      "text/plain": [
       "(255930, 7)"
      ]
     },
     "execution_count": 3,
     "metadata": {},
     "output_type": "execute_result"
    }
   ],
   "source": [
    "df.shape"
   ]
  },
  {
   "cell_type": "code",
   "execution_count": null,
   "metadata": {},
   "outputs": [],
   "source": [
    "def format_lyrics(lyrics):\n",
    "    lyrics = re.sub('[.,!:?\\\"\\'«»]', '', lyrics)\n",
    "    lyrics = re.sub('[-–—— ]+', ' ', lyrics)\n",
    "    lyrics = lyrics.strip()\n",
    "    lyrics = lyrics.lower()\n",
    "    return lyrics"
   ]
  },
  {
   "cell_type": "code",
   "execution_count": null,
   "metadata": {},
   "outputs": [],
   "source": []
  }
 ],
 "metadata": {
  "kernelspec": {
   "display_name": "Python 3",
   "language": "python",
   "name": "python3"
  },
  "language_info": {
   "codemirror_mode": {
    "name": "ipython",
    "version": 3
   },
   "file_extension": ".py",
   "mimetype": "text/x-python",
   "name": "python",
   "nbconvert_exporter": "python",
   "pygments_lexer": "ipython3",
   "version": "3.6.8"
  }
 },
 "nbformat": 4,
 "nbformat_minor": 2
}
